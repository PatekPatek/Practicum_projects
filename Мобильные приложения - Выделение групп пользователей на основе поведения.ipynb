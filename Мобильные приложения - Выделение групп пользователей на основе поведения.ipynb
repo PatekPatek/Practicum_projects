{
 "cells": [
  {
   "cell_type": "markdown",
   "metadata": {},
   "source": [
    "# Мобильные приложения - Выделение групп пользователей на основе поведения"
   ]
  },
  {
   "cell_type": "markdown",
   "metadata": {},
   "source": [
    "**Описание проекта**\n",
    "\n",
    "Наши пользователи сервиса «Ненужные вещи» совершают много действий в приложении, и мы уверены, что в этих данных есть инсайты, которые позволят нам стать лучшим приложением для продажи ненужных вещей.\n",
    "\n",
    "«Ненужные вещи» — ваши ненужные вещи нужны кому-то другому!"
   ]
  },
  {
   "cell_type": "markdown",
   "metadata": {},
   "source": [
    "**Описание данных**\n",
    "\n",
    "Датасет содержит данные о событиях, совершенных в мобильном приложении \"Ненужные вещи\". В нем пользователи продают свои ненужные вещи, размещая их на доске объявлений.\n",
    "\n",
    "В датасете содержатся данные пользователей, впервые совершивших действия в приложении после 7 октября 2019 года.\n",
    "\n",
    "Колонки в `/datasets/mobile_sources.csv`:\n",
    "- `userId` — идентификатор пользователя,\n",
    "- `source` — источник, с которого пользователь установил приложение.\n",
    "\n",
    "Колонки в `/datasets/mobile_dataset.csv`:\n",
    "- `event.time` — время совершения,\n",
    "- `user.id` — идентификатор пользователя,\n",
    "- `event.name` — действие пользователя.\n",
    "\n",
    "Виды действий:\n",
    "- `adverts_open` — открыл карточки объявлений,\n",
    "- `photos_show` — просмотрел фотографий в объявлении,\n",
    "- `tips_show` — увидел рекомендации объявлений,\n",
    "- `tips_click` — кликнул по рекомендованному объявлению,\n",
    "- `contacts_show` и `show_contacts` — просмотрел номер телефона,\n",
    "- `contacts_call` — позвонил по номеру из объявления,\n",
    "- `map` — открыл карту объявлений,\n",
    "- `search_1` — `search_7` — разные действия, связанные с поиском по сайту,\n",
    "- `favorites_add` — добавил объявление в избранное."
   ]
  },
  {
   "cell_type": "markdown",
   "metadata": {},
   "source": [
    "**План работы**\n",
    "\n",
    "1. Выгрузка данных и библиотек\n",
    "2. Предобработка данных\n",
    "- 2.1 Проверка и корректировка названий столбцов \n",
    "- 2.2 Проверка и корректировка типов данных\n",
    "- 2.3 Обьеденение таблиц, событий и добавление столбцов\n",
    "- 2.4 Исследуем выбросы\n",
    "3. Анализ поведения пользователей\n",
    "- 3.1 Retention rate\n",
    "- 3.2 Время, проведённое в приложении\n",
    "- 3.3 Частота действий\n",
    "- 3.4 Конверсия в целевое действие — просмотр контактов\n",
    "4. Сегментируем пользователей на основе действий\n",
    "5. Проверка гипотез\n",
    "- 5.1 Некоторые пользователи установили приложение по ссылке из yandex , другие — из google . Проверим гипотезу: две эти группы демонстрируют разную конверсию в просмотры контактов.\n",
    "- 5.2 Время, проведенное в приложении, отличается в зависимости от источника установки приложения (google, yandex)\n",
    "6. Основные выводы"
   ]
  },
  {
   "cell_type": "markdown",
   "metadata": {},
   "source": [
    "## Выгрузка данных и библиотек"
   ]
  },
  {
   "cell_type": "code",
   "execution_count": 1,
   "metadata": {},
   "outputs": [],
   "source": [
    "#Импорт библиотек\n",
    "import pandas as pd\n",
    "import datetime as dt\n",
    "import numpy as np\n",
    "import math as mth\n",
    "import scipy.stats as stats\n",
    "import seaborn as sns\n",
    "import matplotlib.pyplot as plt\n",
    "import warnings\n",
    "import calendar\n",
    "from plotly.offline import download_plotlyjs, init_notebook_mode, plot, iplot\n",
    "import plotly.graph_objs as go\n",
    "\n",
    "from datetime import datetime, timedelta\n",
    "from matplotlib import rcParams\n",
    "from sklearn.model_selection import train_test_split\n",
    "from sklearn.linear_model import LogisticRegression\n",
    "from sklearn.ensemble import RandomForestClassifier\n",
    "from sklearn.metrics import confusion_matrix\n",
    "from sklearn.metrics import accuracy_score, precision_score, recall_score, f1_score\n",
    "from sklearn.preprocessing import StandardScaler\n",
    "from scipy.cluster.hierarchy import dendrogram, linkage\n",
    "from sklearn.cluster import KMeans\n",
    "from scipy import stats as st\n",
    "pd.set_option('display.max_colwidth', 150)\n",
    "pd.options.display.float_format = '{:,.2f}'.format\n",
    "plt.style.use('dark_background')\n",
    "sns.set_style(\"dark\")\n",
    "warnings.filterwarnings('ignore')"
   ]
  },
  {
   "cell_type": "code",
   "execution_count": 2,
   "metadata": {},
   "outputs": [],
   "source": [
    "#Загрузим и посмотрим данные\n",
    "data = pd.read_csv('/datasets/mobile_dataset.csv', sep=',')\n",
    "sources = pd.read_csv('/datasets/mobile_sources.csv', sep=',')"
   ]
  },
  {
   "cell_type": "code",
   "execution_count": 3,
   "metadata": {},
   "outputs": [
    {
     "name": "stdout",
     "output_type": "stream",
     "text": [
      "<class 'pandas.core.frame.DataFrame'>\n",
      "RangeIndex: 74197 entries, 0 to 74196\n",
      "Data columns (total 3 columns):\n",
      " #   Column      Non-Null Count  Dtype \n",
      "---  ------      --------------  ----- \n",
      " 0   event.time  74197 non-null  object\n",
      " 1   event.name  74197 non-null  object\n",
      " 2   user.id     74197 non-null  object\n",
      "dtypes: object(3)\n",
      "memory usage: 1.7+ MB\n"
     ]
    }
   ],
   "source": [
    "data.info()"
   ]
  },
  {
   "cell_type": "code",
   "execution_count": 4,
   "metadata": {},
   "outputs": [
    {
     "data": {
      "text/html": [
       "<div>\n",
       "<style scoped>\n",
       "    .dataframe tbody tr th:only-of-type {\n",
       "        vertical-align: middle;\n",
       "    }\n",
       "\n",
       "    .dataframe tbody tr th {\n",
       "        vertical-align: top;\n",
       "    }\n",
       "\n",
       "    .dataframe thead th {\n",
       "        text-align: right;\n",
       "    }\n",
       "</style>\n",
       "<table border=\"1\" class=\"dataframe\">\n",
       "  <thead>\n",
       "    <tr style=\"text-align: right;\">\n",
       "      <th></th>\n",
       "      <th>event.time</th>\n",
       "      <th>event.name</th>\n",
       "      <th>user.id</th>\n",
       "    </tr>\n",
       "  </thead>\n",
       "  <tbody>\n",
       "    <tr>\n",
       "      <th>0</th>\n",
       "      <td>2019-10-07 00:00:00.431357</td>\n",
       "      <td>advert_open</td>\n",
       "      <td>020292ab-89bc-4156-9acf-68bc2783f894</td>\n",
       "    </tr>\n",
       "    <tr>\n",
       "      <th>1</th>\n",
       "      <td>2019-10-07 00:00:01.236320</td>\n",
       "      <td>tips_show</td>\n",
       "      <td>020292ab-89bc-4156-9acf-68bc2783f894</td>\n",
       "    </tr>\n",
       "    <tr>\n",
       "      <th>2</th>\n",
       "      <td>2019-10-07 00:00:02.245341</td>\n",
       "      <td>tips_show</td>\n",
       "      <td>cf7eda61-9349-469f-ac27-e5b6f5ec475c</td>\n",
       "    </tr>\n",
       "    <tr>\n",
       "      <th>3</th>\n",
       "      <td>2019-10-07 00:00:07.039334</td>\n",
       "      <td>tips_show</td>\n",
       "      <td>020292ab-89bc-4156-9acf-68bc2783f894</td>\n",
       "    </tr>\n",
       "    <tr>\n",
       "      <th>4</th>\n",
       "      <td>2019-10-07 00:00:56.319813</td>\n",
       "      <td>advert_open</td>\n",
       "      <td>cf7eda61-9349-469f-ac27-e5b6f5ec475c</td>\n",
       "    </tr>\n",
       "    <tr>\n",
       "      <th>5</th>\n",
       "      <td>2019-10-07 00:01:19.993624</td>\n",
       "      <td>tips_show</td>\n",
       "      <td>cf7eda61-9349-469f-ac27-e5b6f5ec475c</td>\n",
       "    </tr>\n",
       "    <tr>\n",
       "      <th>6</th>\n",
       "      <td>2019-10-07 00:01:27.770232</td>\n",
       "      <td>advert_open</td>\n",
       "      <td>020292ab-89bc-4156-9acf-68bc2783f894</td>\n",
       "    </tr>\n",
       "    <tr>\n",
       "      <th>7</th>\n",
       "      <td>2019-10-07 00:01:34.804591</td>\n",
       "      <td>tips_show</td>\n",
       "      <td>020292ab-89bc-4156-9acf-68bc2783f894</td>\n",
       "    </tr>\n",
       "    <tr>\n",
       "      <th>8</th>\n",
       "      <td>2019-10-07 00:01:49.732803</td>\n",
       "      <td>advert_open</td>\n",
       "      <td>cf7eda61-9349-469f-ac27-e5b6f5ec475c</td>\n",
       "    </tr>\n",
       "    <tr>\n",
       "      <th>9</th>\n",
       "      <td>2019-10-07 00:01:54.958298</td>\n",
       "      <td>advert_open</td>\n",
       "      <td>020292ab-89bc-4156-9acf-68bc2783f894</td>\n",
       "    </tr>\n",
       "  </tbody>\n",
       "</table>\n",
       "</div>"
      ],
      "text/plain": [
       "                   event.time   event.name  \\\n",
       "0  2019-10-07 00:00:00.431357  advert_open   \n",
       "1  2019-10-07 00:00:01.236320    tips_show   \n",
       "2  2019-10-07 00:00:02.245341    tips_show   \n",
       "3  2019-10-07 00:00:07.039334    tips_show   \n",
       "4  2019-10-07 00:00:56.319813  advert_open   \n",
       "5  2019-10-07 00:01:19.993624    tips_show   \n",
       "6  2019-10-07 00:01:27.770232  advert_open   \n",
       "7  2019-10-07 00:01:34.804591    tips_show   \n",
       "8  2019-10-07 00:01:49.732803  advert_open   \n",
       "9  2019-10-07 00:01:54.958298  advert_open   \n",
       "\n",
       "                                user.id  \n",
       "0  020292ab-89bc-4156-9acf-68bc2783f894  \n",
       "1  020292ab-89bc-4156-9acf-68bc2783f894  \n",
       "2  cf7eda61-9349-469f-ac27-e5b6f5ec475c  \n",
       "3  020292ab-89bc-4156-9acf-68bc2783f894  \n",
       "4  cf7eda61-9349-469f-ac27-e5b6f5ec475c  \n",
       "5  cf7eda61-9349-469f-ac27-e5b6f5ec475c  \n",
       "6  020292ab-89bc-4156-9acf-68bc2783f894  \n",
       "7  020292ab-89bc-4156-9acf-68bc2783f894  \n",
       "8  cf7eda61-9349-469f-ac27-e5b6f5ec475c  \n",
       "9  020292ab-89bc-4156-9acf-68bc2783f894  "
      ]
     },
     "execution_count": 4,
     "metadata": {},
     "output_type": "execute_result"
    }
   ],
   "source": [
    "data.head(10)"
   ]
  },
  {
   "cell_type": "markdown",
   "metadata": {},
   "source": [
    "В датасете **dataset** 3 поля и 74197 строк, судя по info пропущенных значений полей нет. В полях содержится следующая информация:\n",
    "\n",
    "1. **event.time** - время совершения события, формат object\n",
    "2. **event.name** - название события, формат object\n",
    "3. **user.id** - идентификатор пользователя, формат object"
   ]
  },
  {
   "cell_type": "code",
   "execution_count": 5,
   "metadata": {},
   "outputs": [
    {
     "name": "stdout",
     "output_type": "stream",
     "text": [
      "<class 'pandas.core.frame.DataFrame'>\n",
      "RangeIndex: 4293 entries, 0 to 4292\n",
      "Data columns (total 2 columns):\n",
      " #   Column  Non-Null Count  Dtype \n",
      "---  ------  --------------  ----- \n",
      " 0   userId  4293 non-null   object\n",
      " 1   source  4293 non-null   object\n",
      "dtypes: object(2)\n",
      "memory usage: 67.2+ KB\n"
     ]
    }
   ],
   "source": [
    "sources.info()"
   ]
  },
  {
   "cell_type": "code",
   "execution_count": 6,
   "metadata": {},
   "outputs": [
    {
     "data": {
      "text/html": [
       "<div>\n",
       "<style scoped>\n",
       "    .dataframe tbody tr th:only-of-type {\n",
       "        vertical-align: middle;\n",
       "    }\n",
       "\n",
       "    .dataframe tbody tr th {\n",
       "        vertical-align: top;\n",
       "    }\n",
       "\n",
       "    .dataframe thead th {\n",
       "        text-align: right;\n",
       "    }\n",
       "</style>\n",
       "<table border=\"1\" class=\"dataframe\">\n",
       "  <thead>\n",
       "    <tr style=\"text-align: right;\">\n",
       "      <th></th>\n",
       "      <th>userId</th>\n",
       "      <th>source</th>\n",
       "    </tr>\n",
       "  </thead>\n",
       "  <tbody>\n",
       "    <tr>\n",
       "      <th>0</th>\n",
       "      <td>020292ab-89bc-4156-9acf-68bc2783f894</td>\n",
       "      <td>other</td>\n",
       "    </tr>\n",
       "    <tr>\n",
       "      <th>1</th>\n",
       "      <td>cf7eda61-9349-469f-ac27-e5b6f5ec475c</td>\n",
       "      <td>yandex</td>\n",
       "    </tr>\n",
       "    <tr>\n",
       "      <th>2</th>\n",
       "      <td>8c356c42-3ba9-4cb6-80b8-3f868d0192c3</td>\n",
       "      <td>yandex</td>\n",
       "    </tr>\n",
       "    <tr>\n",
       "      <th>3</th>\n",
       "      <td>d9b06b47-0f36-419b-bbb0-3533e582a6cb</td>\n",
       "      <td>other</td>\n",
       "    </tr>\n",
       "    <tr>\n",
       "      <th>4</th>\n",
       "      <td>f32e1e2a-3027-4693-b793-b7b3ff274439</td>\n",
       "      <td>google</td>\n",
       "    </tr>\n",
       "    <tr>\n",
       "      <th>5</th>\n",
       "      <td>17f6b2db-2964-4d11-89d8-7e38d2cb4750</td>\n",
       "      <td>yandex</td>\n",
       "    </tr>\n",
       "    <tr>\n",
       "      <th>6</th>\n",
       "      <td>62aa104f-592d-4ccb-8226-2ba0e719ded5</td>\n",
       "      <td>yandex</td>\n",
       "    </tr>\n",
       "    <tr>\n",
       "      <th>7</th>\n",
       "      <td>57321726-5d66-4d51-84f4-c797c35dcf2b</td>\n",
       "      <td>google</td>\n",
       "    </tr>\n",
       "    <tr>\n",
       "      <th>8</th>\n",
       "      <td>c2cf55c0-95f7-4269-896c-931d14deaab5</td>\n",
       "      <td>google</td>\n",
       "    </tr>\n",
       "    <tr>\n",
       "      <th>9</th>\n",
       "      <td>48e614d6-fe03-40f7-bf9e-4c4f61c19f64</td>\n",
       "      <td>yandex</td>\n",
       "    </tr>\n",
       "  </tbody>\n",
       "</table>\n",
       "</div>"
      ],
      "text/plain": [
       "                                 userId  source\n",
       "0  020292ab-89bc-4156-9acf-68bc2783f894   other\n",
       "1  cf7eda61-9349-469f-ac27-e5b6f5ec475c  yandex\n",
       "2  8c356c42-3ba9-4cb6-80b8-3f868d0192c3  yandex\n",
       "3  d9b06b47-0f36-419b-bbb0-3533e582a6cb   other\n",
       "4  f32e1e2a-3027-4693-b793-b7b3ff274439  google\n",
       "5  17f6b2db-2964-4d11-89d8-7e38d2cb4750  yandex\n",
       "6  62aa104f-592d-4ccb-8226-2ba0e719ded5  yandex\n",
       "7  57321726-5d66-4d51-84f4-c797c35dcf2b  google\n",
       "8  c2cf55c0-95f7-4269-896c-931d14deaab5  google\n",
       "9  48e614d6-fe03-40f7-bf9e-4c4f61c19f64  yandex"
      ]
     },
     "execution_count": 6,
     "metadata": {},
     "output_type": "execute_result"
    }
   ],
   "source": [
    "sources.head(10)"
   ]
  },
  {
   "cell_type": "markdown",
   "metadata": {},
   "source": [
    "В датасете **sources** 2 поля и 4293  строк, судя по info пропущенных значений полей нет. В полях содержится следующая информация:\n",
    "1. **userId** - идентификатор пользователя, формат object\n",
    "2. **source** - источник, с которого пользователь установил приложение, формат object"
   ]
  },
  {
   "cell_type": "markdown",
   "metadata": {},
   "source": [
    "В датасетах уже заметны некоторые проблемы: неправильный формат даты, названия полей, неприведенные к силю snake_case. Разберемся с ними в предобработке"
   ]
  },
  {
   "cell_type": "markdown",
   "metadata": {},
   "source": [
    "## Предобработка данных"
   ]
  },
  {
   "cell_type": "markdown",
   "metadata": {},
   "source": [
    "### Проверка и корректировка названий столбцов"
   ]
  },
  {
   "cell_type": "markdown",
   "metadata": {},
   "source": [
    "Изменим названия столбцов data"
   ]
  },
  {
   "cell_type": "code",
   "execution_count": 7,
   "metadata": {},
   "outputs": [],
   "source": [
    "data.columns = ['event_time', 'event_name', 'user_id']"
   ]
  },
  {
   "cell_type": "code",
   "execution_count": 8,
   "metadata": {},
   "outputs": [
    {
     "data": {
      "text/html": [
       "<div>\n",
       "<style scoped>\n",
       "    .dataframe tbody tr th:only-of-type {\n",
       "        vertical-align: middle;\n",
       "    }\n",
       "\n",
       "    .dataframe tbody tr th {\n",
       "        vertical-align: top;\n",
       "    }\n",
       "\n",
       "    .dataframe thead th {\n",
       "        text-align: right;\n",
       "    }\n",
       "</style>\n",
       "<table border=\"1\" class=\"dataframe\">\n",
       "  <thead>\n",
       "    <tr style=\"text-align: right;\">\n",
       "      <th></th>\n",
       "      <th>event_time</th>\n",
       "      <th>event_name</th>\n",
       "      <th>user_id</th>\n",
       "    </tr>\n",
       "  </thead>\n",
       "  <tbody>\n",
       "    <tr>\n",
       "      <th>0</th>\n",
       "      <td>2019-10-07 00:00:00.431357</td>\n",
       "      <td>advert_open</td>\n",
       "      <td>020292ab-89bc-4156-9acf-68bc2783f894</td>\n",
       "    </tr>\n",
       "    <tr>\n",
       "      <th>1</th>\n",
       "      <td>2019-10-07 00:00:01.236320</td>\n",
       "      <td>tips_show</td>\n",
       "      <td>020292ab-89bc-4156-9acf-68bc2783f894</td>\n",
       "    </tr>\n",
       "    <tr>\n",
       "      <th>2</th>\n",
       "      <td>2019-10-07 00:00:02.245341</td>\n",
       "      <td>tips_show</td>\n",
       "      <td>cf7eda61-9349-469f-ac27-e5b6f5ec475c</td>\n",
       "    </tr>\n",
       "    <tr>\n",
       "      <th>3</th>\n",
       "      <td>2019-10-07 00:00:07.039334</td>\n",
       "      <td>tips_show</td>\n",
       "      <td>020292ab-89bc-4156-9acf-68bc2783f894</td>\n",
       "    </tr>\n",
       "    <tr>\n",
       "      <th>4</th>\n",
       "      <td>2019-10-07 00:00:56.319813</td>\n",
       "      <td>advert_open</td>\n",
       "      <td>cf7eda61-9349-469f-ac27-e5b6f5ec475c</td>\n",
       "    </tr>\n",
       "  </tbody>\n",
       "</table>\n",
       "</div>"
      ],
      "text/plain": [
       "                   event_time   event_name  \\\n",
       "0  2019-10-07 00:00:00.431357  advert_open   \n",
       "1  2019-10-07 00:00:01.236320    tips_show   \n",
       "2  2019-10-07 00:00:02.245341    tips_show   \n",
       "3  2019-10-07 00:00:07.039334    tips_show   \n",
       "4  2019-10-07 00:00:56.319813  advert_open   \n",
       "\n",
       "                                user_id  \n",
       "0  020292ab-89bc-4156-9acf-68bc2783f894  \n",
       "1  020292ab-89bc-4156-9acf-68bc2783f894  \n",
       "2  cf7eda61-9349-469f-ac27-e5b6f5ec475c  \n",
       "3  020292ab-89bc-4156-9acf-68bc2783f894  \n",
       "4  cf7eda61-9349-469f-ac27-e5b6f5ec475c  "
      ]
     },
     "execution_count": 8,
     "metadata": {},
     "output_type": "execute_result"
    }
   ],
   "source": [
    "data.head()"
   ]
  },
  {
   "cell_type": "markdown",
   "metadata": {},
   "source": [
    "Изменим названия столбцов sources"
   ]
  },
  {
   "cell_type": "code",
   "execution_count": 9,
   "metadata": {},
   "outputs": [],
   "source": [
    "sources.columns = ['user_id', 'source']"
   ]
  },
  {
   "cell_type": "code",
   "execution_count": 10,
   "metadata": {
    "scrolled": true
   },
   "outputs": [
    {
     "data": {
      "text/html": [
       "<div>\n",
       "<style scoped>\n",
       "    .dataframe tbody tr th:only-of-type {\n",
       "        vertical-align: middle;\n",
       "    }\n",
       "\n",
       "    .dataframe tbody tr th {\n",
       "        vertical-align: top;\n",
       "    }\n",
       "\n",
       "    .dataframe thead th {\n",
       "        text-align: right;\n",
       "    }\n",
       "</style>\n",
       "<table border=\"1\" class=\"dataframe\">\n",
       "  <thead>\n",
       "    <tr style=\"text-align: right;\">\n",
       "      <th></th>\n",
       "      <th>user_id</th>\n",
       "      <th>source</th>\n",
       "    </tr>\n",
       "  </thead>\n",
       "  <tbody>\n",
       "    <tr>\n",
       "      <th>0</th>\n",
       "      <td>020292ab-89bc-4156-9acf-68bc2783f894</td>\n",
       "      <td>other</td>\n",
       "    </tr>\n",
       "    <tr>\n",
       "      <th>1</th>\n",
       "      <td>cf7eda61-9349-469f-ac27-e5b6f5ec475c</td>\n",
       "      <td>yandex</td>\n",
       "    </tr>\n",
       "    <tr>\n",
       "      <th>2</th>\n",
       "      <td>8c356c42-3ba9-4cb6-80b8-3f868d0192c3</td>\n",
       "      <td>yandex</td>\n",
       "    </tr>\n",
       "    <tr>\n",
       "      <th>3</th>\n",
       "      <td>d9b06b47-0f36-419b-bbb0-3533e582a6cb</td>\n",
       "      <td>other</td>\n",
       "    </tr>\n",
       "    <tr>\n",
       "      <th>4</th>\n",
       "      <td>f32e1e2a-3027-4693-b793-b7b3ff274439</td>\n",
       "      <td>google</td>\n",
       "    </tr>\n",
       "  </tbody>\n",
       "</table>\n",
       "</div>"
      ],
      "text/plain": [
       "                                user_id  source\n",
       "0  020292ab-89bc-4156-9acf-68bc2783f894   other\n",
       "1  cf7eda61-9349-469f-ac27-e5b6f5ec475c  yandex\n",
       "2  8c356c42-3ba9-4cb6-80b8-3f868d0192c3  yandex\n",
       "3  d9b06b47-0f36-419b-bbb0-3533e582a6cb   other\n",
       "4  f32e1e2a-3027-4693-b793-b7b3ff274439  google"
      ]
     },
     "execution_count": 10,
     "metadata": {},
     "output_type": "execute_result"
    }
   ],
   "source": [
    "sources.head()"
   ]
  },
  {
   "cell_type": "markdown",
   "metadata": {},
   "source": [
    "### Проверка и корректировка типов данных"
   ]
  },
  {
   "cell_type": "markdown",
   "metadata": {},
   "source": [
    "Приведем столбец event_time датасета data к формату даты и округлим данные до 1 секунды"
   ]
  },
  {
   "cell_type": "code",
   "execution_count": 11,
   "metadata": {},
   "outputs": [],
   "source": [
    "data['event_time'] = pd.to_datetime(data['event_time'], format='%Y.%m.%d %H:%M:%S').dt.round('1S')"
   ]
  },
  {
   "cell_type": "code",
   "execution_count": 12,
   "metadata": {},
   "outputs": [
    {
     "data": {
      "text/html": [
       "<div>\n",
       "<style scoped>\n",
       "    .dataframe tbody tr th:only-of-type {\n",
       "        vertical-align: middle;\n",
       "    }\n",
       "\n",
       "    .dataframe tbody tr th {\n",
       "        vertical-align: top;\n",
       "    }\n",
       "\n",
       "    .dataframe thead th {\n",
       "        text-align: right;\n",
       "    }\n",
       "</style>\n",
       "<table border=\"1\" class=\"dataframe\">\n",
       "  <thead>\n",
       "    <tr style=\"text-align: right;\">\n",
       "      <th></th>\n",
       "      <th>event_time</th>\n",
       "      <th>event_name</th>\n",
       "      <th>user_id</th>\n",
       "    </tr>\n",
       "  </thead>\n",
       "  <tbody>\n",
       "    <tr>\n",
       "      <th>0</th>\n",
       "      <td>2019-10-07 00:00:00</td>\n",
       "      <td>advert_open</td>\n",
       "      <td>020292ab-89bc-4156-9acf-68bc2783f894</td>\n",
       "    </tr>\n",
       "    <tr>\n",
       "      <th>1</th>\n",
       "      <td>2019-10-07 00:00:01</td>\n",
       "      <td>tips_show</td>\n",
       "      <td>020292ab-89bc-4156-9acf-68bc2783f894</td>\n",
       "    </tr>\n",
       "    <tr>\n",
       "      <th>2</th>\n",
       "      <td>2019-10-07 00:00:02</td>\n",
       "      <td>tips_show</td>\n",
       "      <td>cf7eda61-9349-469f-ac27-e5b6f5ec475c</td>\n",
       "    </tr>\n",
       "    <tr>\n",
       "      <th>3</th>\n",
       "      <td>2019-10-07 00:00:07</td>\n",
       "      <td>tips_show</td>\n",
       "      <td>020292ab-89bc-4156-9acf-68bc2783f894</td>\n",
       "    </tr>\n",
       "    <tr>\n",
       "      <th>4</th>\n",
       "      <td>2019-10-07 00:00:56</td>\n",
       "      <td>advert_open</td>\n",
       "      <td>cf7eda61-9349-469f-ac27-e5b6f5ec475c</td>\n",
       "    </tr>\n",
       "  </tbody>\n",
       "</table>\n",
       "</div>"
      ],
      "text/plain": [
       "           event_time   event_name                               user_id\n",
       "0 2019-10-07 00:00:00  advert_open  020292ab-89bc-4156-9acf-68bc2783f894\n",
       "1 2019-10-07 00:00:01    tips_show  020292ab-89bc-4156-9acf-68bc2783f894\n",
       "2 2019-10-07 00:00:02    tips_show  cf7eda61-9349-469f-ac27-e5b6f5ec475c\n",
       "3 2019-10-07 00:00:07    tips_show  020292ab-89bc-4156-9acf-68bc2783f894\n",
       "4 2019-10-07 00:00:56  advert_open  cf7eda61-9349-469f-ac27-e5b6f5ec475c"
      ]
     },
     "execution_count": 12,
     "metadata": {},
     "output_type": "execute_result"
    }
   ],
   "source": [
    "data.head()"
   ]
  },
  {
   "cell_type": "markdown",
   "metadata": {},
   "source": [
    "### Обьеденение таблиц, событий и добавление столбцов"
   ]
  },
  {
   "cell_type": "markdown",
   "metadata": {},
   "source": [
    "Проверим количество пользователей в data"
   ]
  },
  {
   "cell_type": "code",
   "execution_count": 13,
   "metadata": {},
   "outputs": [
    {
     "data": {
      "text/plain": [
       "4293"
      ]
     },
     "execution_count": 13,
     "metadata": {},
     "output_type": "execute_result"
    }
   ],
   "source": [
    "len(data['user_id'].unique())"
   ]
  },
  {
   "cell_type": "markdown",
   "metadata": {},
   "source": [
    "Проверим количество пользователей в sources"
   ]
  },
  {
   "cell_type": "code",
   "execution_count": 14,
   "metadata": {},
   "outputs": [
    {
     "data": {
      "text/plain": [
       "4293"
      ]
     },
     "execution_count": 14,
     "metadata": {},
     "output_type": "execute_result"
    }
   ],
   "source": [
    "len(sources['user_id'].unique())"
   ]
  },
  {
   "cell_type": "code",
   "execution_count": 15,
   "metadata": {},
   "outputs": [
    {
     "data": {
      "text/plain": [
       "True"
      ]
     },
     "execution_count": 15,
     "metadata": {},
     "output_type": "execute_result"
    }
   ],
   "source": [
    "set(sources['user_id']) == set(data['user_id'])"
   ]
  },
  {
   "cell_type": "markdown",
   "metadata": {},
   "source": [
    "Количество пользователей в обоих датасетах совпадает, можно склеить их в один."
   ]
  },
  {
   "cell_type": "code",
   "execution_count": 16,
   "metadata": {},
   "outputs": [],
   "source": [
    "df = data.merge(sources, on='user_id', how = 'right')"
   ]
  },
  {
   "cell_type": "code",
   "execution_count": 17,
   "metadata": {},
   "outputs": [
    {
     "data": {
      "text/html": [
       "<div>\n",
       "<style scoped>\n",
       "    .dataframe tbody tr th:only-of-type {\n",
       "        vertical-align: middle;\n",
       "    }\n",
       "\n",
       "    .dataframe tbody tr th {\n",
       "        vertical-align: top;\n",
       "    }\n",
       "\n",
       "    .dataframe thead th {\n",
       "        text-align: right;\n",
       "    }\n",
       "</style>\n",
       "<table border=\"1\" class=\"dataframe\">\n",
       "  <thead>\n",
       "    <tr style=\"text-align: right;\">\n",
       "      <th></th>\n",
       "      <th>event_time</th>\n",
       "      <th>event_name</th>\n",
       "      <th>user_id</th>\n",
       "      <th>source</th>\n",
       "    </tr>\n",
       "  </thead>\n",
       "  <tbody>\n",
       "    <tr>\n",
       "      <th>34226</th>\n",
       "      <td>2019-10-18 12:09:27</td>\n",
       "      <td>tips_show</td>\n",
       "      <td>cd3ba0cc-dfbc-4067-bcd7-c29e4649796e</td>\n",
       "      <td>yandex</td>\n",
       "    </tr>\n",
       "    <tr>\n",
       "      <th>15964</th>\n",
       "      <td>2019-10-11 00:55:37</td>\n",
       "      <td>photos_show</td>\n",
       "      <td>68560c33-d2d7-4c4f-b903-3c76b1180d07</td>\n",
       "      <td>yandex</td>\n",
       "    </tr>\n",
       "    <tr>\n",
       "      <th>23307</th>\n",
       "      <td>2019-10-19 17:16:10</td>\n",
       "      <td>advert_open</td>\n",
       "      <td>04adf25e-cb60-4cbd-bedc-ddc1057cde06</td>\n",
       "      <td>other</td>\n",
       "    </tr>\n",
       "    <tr>\n",
       "      <th>12987</th>\n",
       "      <td>2019-10-11 15:54:43</td>\n",
       "      <td>tips_show</td>\n",
       "      <td>bc4d25a1-69ab-41a4-b1d1-0aa9a8848563</td>\n",
       "      <td>yandex</td>\n",
       "    </tr>\n",
       "    <tr>\n",
       "      <th>44063</th>\n",
       "      <td>2019-10-20 13:49:36</td>\n",
       "      <td>map</td>\n",
       "      <td>7d451fd2-3c9a-4fe9-8e44-0013fb331e7d</td>\n",
       "      <td>google</td>\n",
       "    </tr>\n",
       "  </tbody>\n",
       "</table>\n",
       "</div>"
      ],
      "text/plain": [
       "               event_time   event_name                               user_id  \\\n",
       "34226 2019-10-18 12:09:27    tips_show  cd3ba0cc-dfbc-4067-bcd7-c29e4649796e   \n",
       "15964 2019-10-11 00:55:37  photos_show  68560c33-d2d7-4c4f-b903-3c76b1180d07   \n",
       "23307 2019-10-19 17:16:10  advert_open  04adf25e-cb60-4cbd-bedc-ddc1057cde06   \n",
       "12987 2019-10-11 15:54:43    tips_show  bc4d25a1-69ab-41a4-b1d1-0aa9a8848563   \n",
       "44063 2019-10-20 13:49:36          map  7d451fd2-3c9a-4fe9-8e44-0013fb331e7d   \n",
       "\n",
       "       source  \n",
       "34226  yandex  \n",
       "15964  yandex  \n",
       "23307   other  \n",
       "12987  yandex  \n",
       "44063  google  "
      ]
     },
     "execution_count": 17,
     "metadata": {},
     "output_type": "execute_result"
    }
   ],
   "source": [
    "df.sample(5)"
   ]
  },
  {
   "cell_type": "markdown",
   "metadata": {},
   "source": [
    "Выделим из столбцов с датами час, неделю, месяц, год и полную дату в отдельные столбцы"
   ]
  },
  {
   "cell_type": "code",
   "execution_count": 18,
   "metadata": {},
   "outputs": [],
   "source": [
    "df['event_hour'] = df['event_time'].dt.hour\n",
    "df['event_week'] = df['event_time'].astype('datetime64[W]')\n",
    "df['event_month'] = df['event_time'].astype('datetime64[M]')\n",
    "df['event_year'] = df['event_time'].astype('datetime64[Y]')\n",
    "df['event_date'] = df['event_time'].astype('datetime64[D]')"
   ]
  },
  {
   "cell_type": "code",
   "execution_count": 19,
   "metadata": {},
   "outputs": [
    {
     "data": {
      "text/html": [
       "<div>\n",
       "<style scoped>\n",
       "    .dataframe tbody tr th:only-of-type {\n",
       "        vertical-align: middle;\n",
       "    }\n",
       "\n",
       "    .dataframe tbody tr th {\n",
       "        vertical-align: top;\n",
       "    }\n",
       "\n",
       "    .dataframe thead th {\n",
       "        text-align: right;\n",
       "    }\n",
       "</style>\n",
       "<table border=\"1\" class=\"dataframe\">\n",
       "  <thead>\n",
       "    <tr style=\"text-align: right;\">\n",
       "      <th></th>\n",
       "      <th>event_time</th>\n",
       "      <th>event_name</th>\n",
       "      <th>user_id</th>\n",
       "      <th>source</th>\n",
       "      <th>event_hour</th>\n",
       "      <th>event_week</th>\n",
       "      <th>event_month</th>\n",
       "      <th>event_year</th>\n",
       "      <th>event_date</th>\n",
       "    </tr>\n",
       "  </thead>\n",
       "  <tbody>\n",
       "    <tr>\n",
       "      <th>50921</th>\n",
       "      <td>2019-10-31 09:46:39</td>\n",
       "      <td>favorites_add</td>\n",
       "      <td>b76914c3-031d-43f6-95e7-aec7750a0bee</td>\n",
       "      <td>other</td>\n",
       "      <td>9</td>\n",
       "      <td>2019-10-31</td>\n",
       "      <td>2019-10-01</td>\n",
       "      <td>2019-01-01</td>\n",
       "      <td>2019-10-31</td>\n",
       "    </tr>\n",
       "    <tr>\n",
       "      <th>51848</th>\n",
       "      <td>2019-10-30 14:17:27</td>\n",
       "      <td>tips_show</td>\n",
       "      <td>774e7c61-f52d-47f7-bf9f-ce2e94860a08</td>\n",
       "      <td>other</td>\n",
       "      <td>14</td>\n",
       "      <td>2019-10-24</td>\n",
       "      <td>2019-10-01</td>\n",
       "      <td>2019-01-01</td>\n",
       "      <td>2019-10-30</td>\n",
       "    </tr>\n",
       "    <tr>\n",
       "      <th>37153</th>\n",
       "      <td>2019-10-17 20:42:24</td>\n",
       "      <td>tips_show</td>\n",
       "      <td>a5b2560d-e6ab-4dc8-b67b-cfaa01785150</td>\n",
       "      <td>yandex</td>\n",
       "      <td>20</td>\n",
       "      <td>2019-10-17</td>\n",
       "      <td>2019-10-01</td>\n",
       "      <td>2019-01-01</td>\n",
       "      <td>2019-10-17</td>\n",
       "    </tr>\n",
       "    <tr>\n",
       "      <th>56179</th>\n",
       "      <td>2019-10-25 11:03:00</td>\n",
       "      <td>advert_open</td>\n",
       "      <td>899d586a-b53e-4389-aeff-0b0b8464d7be</td>\n",
       "      <td>yandex</td>\n",
       "      <td>11</td>\n",
       "      <td>2019-10-24</td>\n",
       "      <td>2019-10-01</td>\n",
       "      <td>2019-01-01</td>\n",
       "      <td>2019-10-25</td>\n",
       "    </tr>\n",
       "    <tr>\n",
       "      <th>64479</th>\n",
       "      <td>2019-10-28 17:29:15</td>\n",
       "      <td>favorites_add</td>\n",
       "      <td>25c2b646-5bb0-4000-a841-b62a8bd2654b</td>\n",
       "      <td>other</td>\n",
       "      <td>17</td>\n",
       "      <td>2019-10-24</td>\n",
       "      <td>2019-10-01</td>\n",
       "      <td>2019-01-01</td>\n",
       "      <td>2019-10-28</td>\n",
       "    </tr>\n",
       "    <tr>\n",
       "      <th>51933</th>\n",
       "      <td>2019-10-23 14:35:57</td>\n",
       "      <td>tips_show</td>\n",
       "      <td>9fff2d56-7556-4079-91c9-65eada6904b8</td>\n",
       "      <td>google</td>\n",
       "      <td>14</td>\n",
       "      <td>2019-10-17</td>\n",
       "      <td>2019-10-01</td>\n",
       "      <td>2019-01-01</td>\n",
       "      <td>2019-10-23</td>\n",
       "    </tr>\n",
       "    <tr>\n",
       "      <th>29819</th>\n",
       "      <td>2019-10-15 14:30:39</td>\n",
       "      <td>tips_show</td>\n",
       "      <td>2a10f5e5-e207-467f-8c08-c4c9a6091e30</td>\n",
       "      <td>yandex</td>\n",
       "      <td>14</td>\n",
       "      <td>2019-10-10</td>\n",
       "      <td>2019-10-01</td>\n",
       "      <td>2019-01-01</td>\n",
       "      <td>2019-10-15</td>\n",
       "    </tr>\n",
       "    <tr>\n",
       "      <th>30286</th>\n",
       "      <td>2019-10-15 16:23:04</td>\n",
       "      <td>contacts_show</td>\n",
       "      <td>5b4b2187-100b-43f3-8307-aed30dcbd690</td>\n",
       "      <td>yandex</td>\n",
       "      <td>16</td>\n",
       "      <td>2019-10-10</td>\n",
       "      <td>2019-10-01</td>\n",
       "      <td>2019-01-01</td>\n",
       "      <td>2019-10-15</td>\n",
       "    </tr>\n",
       "    <tr>\n",
       "      <th>42353</th>\n",
       "      <td>2019-10-19 18:14:15</td>\n",
       "      <td>tips_show</td>\n",
       "      <td>a23b735a-7812-4284-868b-f63904eff7bb</td>\n",
       "      <td>other</td>\n",
       "      <td>18</td>\n",
       "      <td>2019-10-17</td>\n",
       "      <td>2019-10-01</td>\n",
       "      <td>2019-01-01</td>\n",
       "      <td>2019-10-19</td>\n",
       "    </tr>\n",
       "    <tr>\n",
       "      <th>28752</th>\n",
       "      <td>2019-10-15 07:45:52</td>\n",
       "      <td>search_1</td>\n",
       "      <td>6d9ae54c-dd4d-4f4e-9d54-db1b622556ed</td>\n",
       "      <td>yandex</td>\n",
       "      <td>7</td>\n",
       "      <td>2019-10-10</td>\n",
       "      <td>2019-10-01</td>\n",
       "      <td>2019-01-01</td>\n",
       "      <td>2019-10-15</td>\n",
       "    </tr>\n",
       "  </tbody>\n",
       "</table>\n",
       "</div>"
      ],
      "text/plain": [
       "               event_time     event_name  \\\n",
       "50921 2019-10-31 09:46:39  favorites_add   \n",
       "51848 2019-10-30 14:17:27      tips_show   \n",
       "37153 2019-10-17 20:42:24      tips_show   \n",
       "56179 2019-10-25 11:03:00    advert_open   \n",
       "64479 2019-10-28 17:29:15  favorites_add   \n",
       "51933 2019-10-23 14:35:57      tips_show   \n",
       "29819 2019-10-15 14:30:39      tips_show   \n",
       "30286 2019-10-15 16:23:04  contacts_show   \n",
       "42353 2019-10-19 18:14:15      tips_show   \n",
       "28752 2019-10-15 07:45:52       search_1   \n",
       "\n",
       "                                    user_id  source  event_hour event_week  \\\n",
       "50921  b76914c3-031d-43f6-95e7-aec7750a0bee   other           9 2019-10-31   \n",
       "51848  774e7c61-f52d-47f7-bf9f-ce2e94860a08   other          14 2019-10-24   \n",
       "37153  a5b2560d-e6ab-4dc8-b67b-cfaa01785150  yandex          20 2019-10-17   \n",
       "56179  899d586a-b53e-4389-aeff-0b0b8464d7be  yandex          11 2019-10-24   \n",
       "64479  25c2b646-5bb0-4000-a841-b62a8bd2654b   other          17 2019-10-24   \n",
       "51933  9fff2d56-7556-4079-91c9-65eada6904b8  google          14 2019-10-17   \n",
       "29819  2a10f5e5-e207-467f-8c08-c4c9a6091e30  yandex          14 2019-10-10   \n",
       "30286  5b4b2187-100b-43f3-8307-aed30dcbd690  yandex          16 2019-10-10   \n",
       "42353  a23b735a-7812-4284-868b-f63904eff7bb   other          18 2019-10-17   \n",
       "28752  6d9ae54c-dd4d-4f4e-9d54-db1b622556ed  yandex           7 2019-10-10   \n",
       "\n",
       "      event_month event_year event_date  \n",
       "50921  2019-10-01 2019-01-01 2019-10-31  \n",
       "51848  2019-10-01 2019-01-01 2019-10-30  \n",
       "37153  2019-10-01 2019-01-01 2019-10-17  \n",
       "56179  2019-10-01 2019-01-01 2019-10-25  \n",
       "64479  2019-10-01 2019-01-01 2019-10-28  \n",
       "51933  2019-10-01 2019-01-01 2019-10-23  \n",
       "29819  2019-10-01 2019-01-01 2019-10-15  \n",
       "30286  2019-10-01 2019-01-01 2019-10-15  \n",
       "42353  2019-10-01 2019-01-01 2019-10-19  \n",
       "28752  2019-10-01 2019-01-01 2019-10-15  "
      ]
     },
     "execution_count": 19,
     "metadata": {},
     "output_type": "execute_result"
    }
   ],
   "source": [
    "df.sample(10)"
   ]
  },
  {
   "cell_type": "markdown",
   "metadata": {},
   "source": [
    "Посмотрим, что в столбцах event_name и source"
   ]
  },
  {
   "cell_type": "code",
   "execution_count": 20,
   "metadata": {},
   "outputs": [
    {
     "data": {
      "text/plain": [
       "yandex    34286\n",
       "google    20445\n",
       "other     19466\n",
       "Name: source, dtype: int64"
      ]
     },
     "execution_count": 20,
     "metadata": {},
     "output_type": "execute_result"
    }
   ],
   "source": [
    "df['source'].value_counts()"
   ]
  },
  {
   "cell_type": "code",
   "execution_count": 21,
   "metadata": {},
   "outputs": [
    {
     "data": {
      "text/plain": [
       "tips_show        40055\n",
       "photos_show      10012\n",
       "advert_open       6164\n",
       "contacts_show     4450\n",
       "map               3881\n",
       "search_1          3506\n",
       "favorites_add     1417\n",
       "search_5          1049\n",
       "tips_click         814\n",
       "search_4           701\n",
       "contacts_call      541\n",
       "search_3           522\n",
       "search_6           460\n",
       "search_2           324\n",
       "search_7           222\n",
       "show_contacts       79\n",
       "Name: event_name, dtype: int64"
      ]
     },
     "execution_count": 21,
     "metadata": {},
     "output_type": "execute_result"
    }
   ],
   "source": [
    "df['event_name'].value_counts()"
   ]
  },
  {
   "cell_type": "markdown",
   "metadata": {},
   "source": [
    "Так как события contacts_show и show_contacts обозначают одно и то же событие - пользователь нажал на кнопку \"Показать номер телефона\", то можно склеить их в одно. Аналогично можно поступить с событиями search, т.к в нашем исследовании неважно, что именно ищут пользователи."
   ]
  },
  {
   "cell_type": "code",
   "execution_count": 22,
   "metadata": {},
   "outputs": [],
   "source": [
    "def events_type(i):\n",
    "    if i == 'show_contacts':\n",
    "        new_name = 'contacts_show'\n",
    "        return new_name\n",
    "    elif 'search' in i:\n",
    "        new_name = 'search'\n",
    "        return new_name\n",
    "    return i\n",
    "\n",
    "df['event_name'] = df['event_name'].apply(events_type)"
   ]
  },
  {
   "cell_type": "code",
   "execution_count": 23,
   "metadata": {},
   "outputs": [
    {
     "data": {
      "text/plain": [
       "tips_show        40055\n",
       "photos_show      10012\n",
       "search            6784\n",
       "advert_open       6164\n",
       "contacts_show     4529\n",
       "map               3881\n",
       "favorites_add     1417\n",
       "tips_click         814\n",
       "contacts_call      541\n",
       "Name: event_name, dtype: int64"
      ]
     },
     "execution_count": 23,
     "metadata": {},
     "output_type": "execute_result"
    }
   ],
   "source": [
    "df['event_name'].value_counts()"
   ]
  },
  {
   "cell_type": "code",
   "execution_count": 24,
   "metadata": {},
   "outputs": [
    {
     "data": {
      "text/html": [
       "<div>\n",
       "<style scoped>\n",
       "    .dataframe tbody tr th:only-of-type {\n",
       "        vertical-align: middle;\n",
       "    }\n",
       "\n",
       "    .dataframe tbody tr th {\n",
       "        vertical-align: top;\n",
       "    }\n",
       "\n",
       "    .dataframe thead th {\n",
       "        text-align: right;\n",
       "    }\n",
       "</style>\n",
       "<table border=\"1\" class=\"dataframe\">\n",
       "  <thead>\n",
       "    <tr style=\"text-align: right;\">\n",
       "      <th></th>\n",
       "      <th>event_time</th>\n",
       "      <th>event_name</th>\n",
       "      <th>user_id</th>\n",
       "      <th>source</th>\n",
       "      <th>event_hour</th>\n",
       "      <th>event_week</th>\n",
       "      <th>event_month</th>\n",
       "      <th>event_year</th>\n",
       "      <th>event_date</th>\n",
       "    </tr>\n",
       "  </thead>\n",
       "  <tbody>\n",
       "    <tr>\n",
       "      <th>74192</th>\n",
       "      <td>2019-11-03 23:46:47</td>\n",
       "      <td>map</td>\n",
       "      <td>d157bffc-264d-4464-8220-1cc0c42f43a9</td>\n",
       "      <td>google</td>\n",
       "      <td>23</td>\n",
       "      <td>2019-10-31</td>\n",
       "      <td>2019-11-01</td>\n",
       "      <td>2019-01-01</td>\n",
       "      <td>2019-11-03</td>\n",
       "    </tr>\n",
       "    <tr>\n",
       "      <th>74193</th>\n",
       "      <td>2019-11-03 23:46:59</td>\n",
       "      <td>advert_open</td>\n",
       "      <td>d157bffc-264d-4464-8220-1cc0c42f43a9</td>\n",
       "      <td>google</td>\n",
       "      <td>23</td>\n",
       "      <td>2019-10-31</td>\n",
       "      <td>2019-11-01</td>\n",
       "      <td>2019-01-01</td>\n",
       "      <td>2019-11-03</td>\n",
       "    </tr>\n",
       "    <tr>\n",
       "      <th>74194</th>\n",
       "      <td>2019-11-03 23:47:01</td>\n",
       "      <td>tips_show</td>\n",
       "      <td>d157bffc-264d-4464-8220-1cc0c42f43a9</td>\n",
       "      <td>google</td>\n",
       "      <td>23</td>\n",
       "      <td>2019-10-31</td>\n",
       "      <td>2019-11-01</td>\n",
       "      <td>2019-01-01</td>\n",
       "      <td>2019-11-03</td>\n",
       "    </tr>\n",
       "    <tr>\n",
       "      <th>74195</th>\n",
       "      <td>2019-11-03 23:47:47</td>\n",
       "      <td>advert_open</td>\n",
       "      <td>d157bffc-264d-4464-8220-1cc0c42f43a9</td>\n",
       "      <td>google</td>\n",
       "      <td>23</td>\n",
       "      <td>2019-10-31</td>\n",
       "      <td>2019-11-01</td>\n",
       "      <td>2019-01-01</td>\n",
       "      <td>2019-11-03</td>\n",
       "    </tr>\n",
       "    <tr>\n",
       "      <th>74196</th>\n",
       "      <td>2019-11-03 23:47:50</td>\n",
       "      <td>tips_show</td>\n",
       "      <td>d157bffc-264d-4464-8220-1cc0c42f43a9</td>\n",
       "      <td>google</td>\n",
       "      <td>23</td>\n",
       "      <td>2019-10-31</td>\n",
       "      <td>2019-11-01</td>\n",
       "      <td>2019-01-01</td>\n",
       "      <td>2019-11-03</td>\n",
       "    </tr>\n",
       "  </tbody>\n",
       "</table>\n",
       "</div>"
      ],
      "text/plain": [
       "               event_time   event_name                               user_id  \\\n",
       "74192 2019-11-03 23:46:47          map  d157bffc-264d-4464-8220-1cc0c42f43a9   \n",
       "74193 2019-11-03 23:46:59  advert_open  d157bffc-264d-4464-8220-1cc0c42f43a9   \n",
       "74194 2019-11-03 23:47:01    tips_show  d157bffc-264d-4464-8220-1cc0c42f43a9   \n",
       "74195 2019-11-03 23:47:47  advert_open  d157bffc-264d-4464-8220-1cc0c42f43a9   \n",
       "74196 2019-11-03 23:47:50    tips_show  d157bffc-264d-4464-8220-1cc0c42f43a9   \n",
       "\n",
       "       source  event_hour event_week event_month event_year event_date  \n",
       "74192  google          23 2019-10-31  2019-11-01 2019-01-01 2019-11-03  \n",
       "74193  google          23 2019-10-31  2019-11-01 2019-01-01 2019-11-03  \n",
       "74194  google          23 2019-10-31  2019-11-01 2019-01-01 2019-11-03  \n",
       "74195  google          23 2019-10-31  2019-11-01 2019-01-01 2019-11-03  \n",
       "74196  google          23 2019-10-31  2019-11-01 2019-01-01 2019-11-03  "
      ]
     },
     "execution_count": 24,
     "metadata": {},
     "output_type": "execute_result"
    }
   ],
   "source": [
    "df.tail()"
   ]
  },
  {
   "cell_type": "markdown",
   "metadata": {},
   "source": [
    "Посмотрим, за какой период у нас есть данные"
   ]
  },
  {
   "cell_type": "code",
   "execution_count": 25,
   "metadata": {},
   "outputs": [
    {
     "data": {
      "text/plain": [
       "'В логе представлены события за период с 2019-10-07 по 2019-11-03'"
      ]
     },
     "metadata": {},
     "output_type": "display_data"
    },
    {
     "data": {
      "text/plain": [
       "'Выборка в днях составляет 27 days 23:58:13'"
      ]
     },
     "metadata": {},
     "output_type": "display_data"
    }
   ],
   "source": [
    "display(f'В логе представлены события за период с {df[\"event_date\"].min().date()} по {df[\"event_date\"].max().date()}')\n",
    "display(f'Выборка в днях составляет {df[\"event_time\"].max()-df[\"event_time\"].min()}')"
   ]
  },
  {
   "cell_type": "markdown",
   "metadata": {},
   "source": [
    "Так как в выборке представленны данные за 28 дней будем строить понедельные когорты"
   ]
  },
  {
   "cell_type": "markdown",
   "metadata": {},
   "source": [
    "### Исследуем выбросы"
   ]
  },
  {
   "cell_type": "markdown",
   "metadata": {},
   "source": [
    "Посмотрим количество действий на пользователя, что бы устранить \"гиперактивных\""
   ]
  },
  {
   "cell_type": "code",
   "execution_count": 26,
   "metadata": {},
   "outputs": [
    {
     "data": {
      "text/plain": [
       "'Минимум событий на одного пользователя:'"
      ]
     },
     "metadata": {},
     "output_type": "display_data"
    },
    {
     "data": {
      "text/plain": [
       "1"
      ]
     },
     "metadata": {},
     "output_type": "display_data"
    },
    {
     "data": {
      "text/plain": [
       "'Максимум событий на одного пользователя:'"
      ]
     },
     "metadata": {},
     "output_type": "display_data"
    },
    {
     "data": {
      "text/plain": [
       "478"
      ]
     },
     "metadata": {},
     "output_type": "display_data"
    }
   ],
   "source": [
    "user_events = df.pivot_table(index='user_id', aggfunc={'event_name':'count'})\n",
    "user_events.columns = ['event_count']\n",
    "display('Минимум событий на одного пользователя:', user_events['event_count'].min())\n",
    "display('Максимум событий на одного пользователя:', user_events['event_count'].max())"
   ]
  },
  {
   "cell_type": "code",
   "execution_count": 27,
   "metadata": {},
   "outputs": [
    {
     "data": {
      "text/html": [
       "<div>\n",
       "<style scoped>\n",
       "    .dataframe tbody tr th:only-of-type {\n",
       "        vertical-align: middle;\n",
       "    }\n",
       "\n",
       "    .dataframe tbody tr th {\n",
       "        vertical-align: top;\n",
       "    }\n",
       "\n",
       "    .dataframe thead th {\n",
       "        text-align: right;\n",
       "    }\n",
       "</style>\n",
       "<table border=\"1\" class=\"dataframe\">\n",
       "  <thead>\n",
       "    <tr style=\"text-align: right;\">\n",
       "      <th></th>\n",
       "      <th>event_count</th>\n",
       "    </tr>\n",
       "  </thead>\n",
       "  <tbody>\n",
       "    <tr>\n",
       "      <th>count</th>\n",
       "      <td>4,293.00</td>\n",
       "    </tr>\n",
       "    <tr>\n",
       "      <th>mean</th>\n",
       "      <td>17.28</td>\n",
       "    </tr>\n",
       "    <tr>\n",
       "      <th>std</th>\n",
       "      <td>29.13</td>\n",
       "    </tr>\n",
       "    <tr>\n",
       "      <th>min</th>\n",
       "      <td>1.00</td>\n",
       "    </tr>\n",
       "    <tr>\n",
       "      <th>25%</th>\n",
       "      <td>5.00</td>\n",
       "    </tr>\n",
       "    <tr>\n",
       "      <th>50%</th>\n",
       "      <td>9.00</td>\n",
       "    </tr>\n",
       "    <tr>\n",
       "      <th>75%</th>\n",
       "      <td>17.00</td>\n",
       "    </tr>\n",
       "    <tr>\n",
       "      <th>max</th>\n",
       "      <td>478.00</td>\n",
       "    </tr>\n",
       "  </tbody>\n",
       "</table>\n",
       "</div>"
      ],
      "text/plain": [
       "       event_count\n",
       "count     4,293.00\n",
       "mean         17.28\n",
       "std          29.13\n",
       "min           1.00\n",
       "25%           5.00\n",
       "50%           9.00\n",
       "75%          17.00\n",
       "max         478.00"
      ]
     },
     "execution_count": 27,
     "metadata": {},
     "output_type": "execute_result"
    }
   ],
   "source": [
    "user_events.describe()"
   ]
  },
  {
   "cell_type": "markdown",
   "metadata": {},
   "source": [
    "Посмотрим какое влияние оказывает tips_show - это автоматическое действие и ни как не зависит от действий пользователей"
   ]
  },
  {
   "cell_type": "code",
   "execution_count": 28,
   "metadata": {},
   "outputs": [],
   "source": [
    "dff = df.query('event_name != \"tips_show\"')"
   ]
  },
  {
   "cell_type": "code",
   "execution_count": 29,
   "metadata": {},
   "outputs": [
    {
     "data": {
      "text/plain": [
       "(3586, 4293)"
      ]
     },
     "execution_count": 29,
     "metadata": {},
     "output_type": "execute_result"
    }
   ],
   "source": [
    "dff['user_id'].nunique(), df['user_id'].nunique()"
   ]
  },
  {
   "cell_type": "code",
   "execution_count": 30,
   "metadata": {},
   "outputs": [
    {
     "data": {
      "text/plain": [
       "'Минимум событий на одного пользователя:'"
      ]
     },
     "metadata": {},
     "output_type": "display_data"
    },
    {
     "data": {
      "text/plain": [
       "1"
      ]
     },
     "metadata": {},
     "output_type": "display_data"
    },
    {
     "data": {
      "text/plain": [
       "'Максимум событий на одного пользователя:'"
      ]
     },
     "metadata": {},
     "output_type": "display_data"
    },
    {
     "data": {
      "text/plain": [
       "336"
      ]
     },
     "metadata": {},
     "output_type": "display_data"
    }
   ],
   "source": [
    "user_events_clean = dff.pivot_table(index='user_id', aggfunc={'event_name':'count'})\n",
    "user_events_clean.columns = ['event_count']\n",
    "display('Минимум событий на одного пользователя:', user_events_clean['event_count'].min())\n",
    "display('Максимум событий на одного пользователя:', user_events_clean['event_count'].max())"
   ]
  },
  {
   "cell_type": "code",
   "execution_count": 31,
   "metadata": {},
   "outputs": [
    {
     "data": {
      "text/html": [
       "<div>\n",
       "<style scoped>\n",
       "    .dataframe tbody tr th:only-of-type {\n",
       "        vertical-align: middle;\n",
       "    }\n",
       "\n",
       "    .dataframe tbody tr th {\n",
       "        vertical-align: top;\n",
       "    }\n",
       "\n",
       "    .dataframe thead th {\n",
       "        text-align: right;\n",
       "    }\n",
       "</style>\n",
       "<table border=\"1\" class=\"dataframe\">\n",
       "  <thead>\n",
       "    <tr style=\"text-align: right;\">\n",
       "      <th></th>\n",
       "      <th>event_count</th>\n",
       "    </tr>\n",
       "  </thead>\n",
       "  <tbody>\n",
       "    <tr>\n",
       "      <th>count</th>\n",
       "      <td>3,586.00</td>\n",
       "    </tr>\n",
       "    <tr>\n",
       "      <th>mean</th>\n",
       "      <td>9.52</td>\n",
       "    </tr>\n",
       "    <tr>\n",
       "      <th>std</th>\n",
       "      <td>16.32</td>\n",
       "    </tr>\n",
       "    <tr>\n",
       "      <th>min</th>\n",
       "      <td>1.00</td>\n",
       "    </tr>\n",
       "    <tr>\n",
       "      <th>25%</th>\n",
       "      <td>3.00</td>\n",
       "    </tr>\n",
       "    <tr>\n",
       "      <th>50%</th>\n",
       "      <td>5.00</td>\n",
       "    </tr>\n",
       "    <tr>\n",
       "      <th>75%</th>\n",
       "      <td>10.00</td>\n",
       "    </tr>\n",
       "    <tr>\n",
       "      <th>max</th>\n",
       "      <td>336.00</td>\n",
       "    </tr>\n",
       "  </tbody>\n",
       "</table>\n",
       "</div>"
      ],
      "text/plain": [
       "       event_count\n",
       "count     3,586.00\n",
       "mean          9.52\n",
       "std          16.32\n",
       "min           1.00\n",
       "25%           3.00\n",
       "50%           5.00\n",
       "75%          10.00\n",
       "max         336.00"
      ]
     },
     "execution_count": 31,
     "metadata": {},
     "output_type": "execute_result"
    }
   ],
   "source": [
    "user_events_clean.describe()"
   ]
  },
  {
   "cell_type": "markdown",
   "metadata": {},
   "source": [
    "Если удалим будут большие потери. Оставим как есть"
   ]
  },
  {
   "cell_type": "markdown",
   "metadata": {},
   "source": [
    "## Анализ поведения пользователей"
   ]
  },
  {
   "cell_type": "markdown",
   "metadata": {},
   "source": [
    "### Retention Rate"
   ]
  },
  {
   "cell_type": "markdown",
   "metadata": {},
   "source": [
    "Разобьем пользователей на когорты на основе даты их первой активности в приложении."
   ]
  },
  {
   "cell_type": "code",
   "execution_count": 32,
   "metadata": {},
   "outputs": [],
   "source": [
    "first_date = df.groupby(['user_id'])['event_date'].min()\n",
    "first_date.name = 'start_dt'\n",
    "df = df.join(first_date,on='user_id')"
   ]
  },
  {
   "cell_type": "code",
   "execution_count": 33,
   "metadata": {},
   "outputs": [
    {
     "data": {
      "text/html": [
       "<div>\n",
       "<style scoped>\n",
       "    .dataframe tbody tr th:only-of-type {\n",
       "        vertical-align: middle;\n",
       "    }\n",
       "\n",
       "    .dataframe tbody tr th {\n",
       "        vertical-align: top;\n",
       "    }\n",
       "\n",
       "    .dataframe thead th {\n",
       "        text-align: right;\n",
       "    }\n",
       "</style>\n",
       "<table border=\"1\" class=\"dataframe\">\n",
       "  <thead>\n",
       "    <tr style=\"text-align: right;\">\n",
       "      <th></th>\n",
       "      <th>event_time</th>\n",
       "      <th>event_name</th>\n",
       "      <th>user_id</th>\n",
       "      <th>source</th>\n",
       "      <th>event_hour</th>\n",
       "      <th>event_week</th>\n",
       "      <th>event_month</th>\n",
       "      <th>event_year</th>\n",
       "      <th>event_date</th>\n",
       "      <th>start_dt</th>\n",
       "    </tr>\n",
       "  </thead>\n",
       "  <tbody>\n",
       "    <tr>\n",
       "      <th>5513</th>\n",
       "      <td>2019-10-07 23:37:58</td>\n",
       "      <td>tips_show</td>\n",
       "      <td>bf615847-1fad-4267-a97e-3406ba6b5600</td>\n",
       "      <td>google</td>\n",
       "      <td>23</td>\n",
       "      <td>2019-10-03</td>\n",
       "      <td>2019-10-01</td>\n",
       "      <td>2019-01-01</td>\n",
       "      <td>2019-10-07</td>\n",
       "      <td>2019-10-07</td>\n",
       "    </tr>\n",
       "    <tr>\n",
       "      <th>68653</th>\n",
       "      <td>2019-10-30 21:46:19</td>\n",
       "      <td>tips_show</td>\n",
       "      <td>0a552292-3c41-4210-b265-ee45445ebb51</td>\n",
       "      <td>yandex</td>\n",
       "      <td>21</td>\n",
       "      <td>2019-10-24</td>\n",
       "      <td>2019-10-01</td>\n",
       "      <td>2019-01-01</td>\n",
       "      <td>2019-10-30</td>\n",
       "      <td>2019-10-30</td>\n",
       "    </tr>\n",
       "    <tr>\n",
       "      <th>67703</th>\n",
       "      <td>2019-10-30 14:13:50</td>\n",
       "      <td>search</td>\n",
       "      <td>ba5fbe23-71a2-4de5-b355-041c8775e1a4</td>\n",
       "      <td>other</td>\n",
       "      <td>14</td>\n",
       "      <td>2019-10-24</td>\n",
       "      <td>2019-10-01</td>\n",
       "      <td>2019-01-01</td>\n",
       "      <td>2019-10-30</td>\n",
       "      <td>2019-10-30</td>\n",
       "    </tr>\n",
       "    <tr>\n",
       "      <th>49582</th>\n",
       "      <td>2019-10-22 16:22:37</td>\n",
       "      <td>tips_show</td>\n",
       "      <td>10c16025-f8e5-47bd-89db-db679a030fdb</td>\n",
       "      <td>yandex</td>\n",
       "      <td>16</td>\n",
       "      <td>2019-10-17</td>\n",
       "      <td>2019-10-01</td>\n",
       "      <td>2019-01-01</td>\n",
       "      <td>2019-10-22</td>\n",
       "      <td>2019-10-22</td>\n",
       "    </tr>\n",
       "    <tr>\n",
       "      <th>16026</th>\n",
       "      <td>2019-10-11 18:50:27</td>\n",
       "      <td>tips_show</td>\n",
       "      <td>689677d5-7d3f-47af-9a27-56e88bbebce7</td>\n",
       "      <td>google</td>\n",
       "      <td>18</td>\n",
       "      <td>2019-10-10</td>\n",
       "      <td>2019-10-01</td>\n",
       "      <td>2019-01-01</td>\n",
       "      <td>2019-10-11</td>\n",
       "      <td>2019-10-11</td>\n",
       "    </tr>\n",
       "    <tr>\n",
       "      <th>67197</th>\n",
       "      <td>2019-10-30 11:51:46</td>\n",
       "      <td>contacts_show</td>\n",
       "      <td>9a8f5b68-87a6-4468-93e1-2130d5de0e63</td>\n",
       "      <td>other</td>\n",
       "      <td>11</td>\n",
       "      <td>2019-10-24</td>\n",
       "      <td>2019-10-01</td>\n",
       "      <td>2019-01-01</td>\n",
       "      <td>2019-10-30</td>\n",
       "      <td>2019-10-30</td>\n",
       "    </tr>\n",
       "    <tr>\n",
       "      <th>34582</th>\n",
       "      <td>2019-10-16 22:15:12</td>\n",
       "      <td>tips_show</td>\n",
       "      <td>abb304e9-f0c7-4ab8-9914-51a092a81ec5</td>\n",
       "      <td>yandex</td>\n",
       "      <td>22</td>\n",
       "      <td>2019-10-10</td>\n",
       "      <td>2019-10-01</td>\n",
       "      <td>2019-01-01</td>\n",
       "      <td>2019-10-16</td>\n",
       "      <td>2019-10-16</td>\n",
       "    </tr>\n",
       "    <tr>\n",
       "      <th>7158</th>\n",
       "      <td>2019-10-15 15:45:19</td>\n",
       "      <td>search</td>\n",
       "      <td>07eff6a2-4b3c-4f16-8fa0-87b5731d3ab2</td>\n",
       "      <td>yandex</td>\n",
       "      <td>15</td>\n",
       "      <td>2019-10-10</td>\n",
       "      <td>2019-10-01</td>\n",
       "      <td>2019-01-01</td>\n",
       "      <td>2019-10-15</td>\n",
       "      <td>2019-10-08</td>\n",
       "    </tr>\n",
       "    <tr>\n",
       "      <th>9250</th>\n",
       "      <td>2019-10-08 23:49:58</td>\n",
       "      <td>photos_show</td>\n",
       "      <td>689d45cc-5bed-41ce-bf20-5801b9de6d8d</td>\n",
       "      <td>google</td>\n",
       "      <td>23</td>\n",
       "      <td>2019-10-03</td>\n",
       "      <td>2019-10-01</td>\n",
       "      <td>2019-01-01</td>\n",
       "      <td>2019-10-08</td>\n",
       "      <td>2019-10-08</td>\n",
       "    </tr>\n",
       "    <tr>\n",
       "      <th>59523</th>\n",
       "      <td>2019-11-03 19:20:53</td>\n",
       "      <td>tips_show</td>\n",
       "      <td>114101ba-29e8-4f20-98ae-80434d6e918a</td>\n",
       "      <td>yandex</td>\n",
       "      <td>19</td>\n",
       "      <td>2019-10-31</td>\n",
       "      <td>2019-11-01</td>\n",
       "      <td>2019-01-01</td>\n",
       "      <td>2019-11-03</td>\n",
       "      <td>2019-10-26</td>\n",
       "    </tr>\n",
       "  </tbody>\n",
       "</table>\n",
       "</div>"
      ],
      "text/plain": [
       "               event_time     event_name  \\\n",
       "5513  2019-10-07 23:37:58      tips_show   \n",
       "68653 2019-10-30 21:46:19      tips_show   \n",
       "67703 2019-10-30 14:13:50         search   \n",
       "49582 2019-10-22 16:22:37      tips_show   \n",
       "16026 2019-10-11 18:50:27      tips_show   \n",
       "67197 2019-10-30 11:51:46  contacts_show   \n",
       "34582 2019-10-16 22:15:12      tips_show   \n",
       "7158  2019-10-15 15:45:19         search   \n",
       "9250  2019-10-08 23:49:58    photos_show   \n",
       "59523 2019-11-03 19:20:53      tips_show   \n",
       "\n",
       "                                    user_id  source  event_hour event_week  \\\n",
       "5513   bf615847-1fad-4267-a97e-3406ba6b5600  google          23 2019-10-03   \n",
       "68653  0a552292-3c41-4210-b265-ee45445ebb51  yandex          21 2019-10-24   \n",
       "67703  ba5fbe23-71a2-4de5-b355-041c8775e1a4   other          14 2019-10-24   \n",
       "49582  10c16025-f8e5-47bd-89db-db679a030fdb  yandex          16 2019-10-17   \n",
       "16026  689677d5-7d3f-47af-9a27-56e88bbebce7  google          18 2019-10-10   \n",
       "67197  9a8f5b68-87a6-4468-93e1-2130d5de0e63   other          11 2019-10-24   \n",
       "34582  abb304e9-f0c7-4ab8-9914-51a092a81ec5  yandex          22 2019-10-10   \n",
       "7158   07eff6a2-4b3c-4f16-8fa0-87b5731d3ab2  yandex          15 2019-10-10   \n",
       "9250   689d45cc-5bed-41ce-bf20-5801b9de6d8d  google          23 2019-10-03   \n",
       "59523  114101ba-29e8-4f20-98ae-80434d6e918a  yandex          19 2019-10-31   \n",
       "\n",
       "      event_month event_year event_date   start_dt  \n",
       "5513   2019-10-01 2019-01-01 2019-10-07 2019-10-07  \n",
       "68653  2019-10-01 2019-01-01 2019-10-30 2019-10-30  \n",
       "67703  2019-10-01 2019-01-01 2019-10-30 2019-10-30  \n",
       "49582  2019-10-01 2019-01-01 2019-10-22 2019-10-22  \n",
       "16026  2019-10-01 2019-01-01 2019-10-11 2019-10-11  \n",
       "67197  2019-10-01 2019-01-01 2019-10-30 2019-10-30  \n",
       "34582  2019-10-01 2019-01-01 2019-10-16 2019-10-16  \n",
       "7158   2019-10-01 2019-01-01 2019-10-15 2019-10-08  \n",
       "9250   2019-10-01 2019-01-01 2019-10-08 2019-10-08  \n",
       "59523  2019-11-01 2019-01-01 2019-11-03 2019-10-26  "
      ]
     },
     "execution_count": 33,
     "metadata": {},
     "output_type": "execute_result"
    }
   ],
   "source": [
    "df.sample(10)"
   ]
  },
  {
   "cell_type": "markdown",
   "metadata": {},
   "source": [
    "Найдем когорту"
   ]
  },
  {
   "cell_type": "code",
   "execution_count": 34,
   "metadata": {},
   "outputs": [],
   "source": [
    "df['activ_week'] = pd.to_datetime(df['event_date'],\n",
    "                                                unit='d') - pd.to_timedelta(df['event_date'].dt.dayofweek, unit='d')\n",
    "df['start_week'] = pd.to_datetime(df['start_dt'],\n",
    "                                                      unit='d') - pd.to_timedelta(df['start_dt'].dt.dayofweek, unit='d')"
   ]
  },
  {
   "cell_type": "code",
   "execution_count": 35,
   "metadata": {},
   "outputs": [
    {
     "name": "stdout",
     "output_type": "stream",
     "text": [
      "<class 'pandas.core.frame.DataFrame'>\n",
      "Int64Index: 74197 entries, 0 to 74196\n",
      "Data columns (total 12 columns):\n",
      " #   Column       Non-Null Count  Dtype         \n",
      "---  ------       --------------  -----         \n",
      " 0   event_time   74197 non-null  datetime64[ns]\n",
      " 1   event_name   74197 non-null  object        \n",
      " 2   user_id      74197 non-null  object        \n",
      " 3   source       74197 non-null  object        \n",
      " 4   event_hour   74197 non-null  int64         \n",
      " 5   event_week   74197 non-null  datetime64[ns]\n",
      " 6   event_month  74197 non-null  datetime64[ns]\n",
      " 7   event_year   74197 non-null  datetime64[ns]\n",
      " 8   event_date   74197 non-null  datetime64[ns]\n",
      " 9   start_dt     74197 non-null  datetime64[ns]\n",
      " 10  activ_week   74197 non-null  datetime64[ns]\n",
      " 11  start_week   74197 non-null  datetime64[ns]\n",
      "dtypes: datetime64[ns](8), int64(1), object(3)\n",
      "memory usage: 7.4+ MB\n"
     ]
    }
   ],
   "source": [
    "df.info()"
   ]
  },
  {
   "cell_type": "markdown",
   "metadata": {},
   "source": [
    "Расcчитаем lifetime"
   ]
  },
  {
   "cell_type": "code",
   "execution_count": 36,
   "metadata": {},
   "outputs": [],
   "source": [
    "df['cohort_lifetime'] = df['activ_week'] - df['start_week']\n",
    "df['cohort_lifetime'] = df['cohort_lifetime'] / np.timedelta64(1,'W')\n",
    "df['cohort_lifetime'] = df['cohort_lifetime'].astype(int)"
   ]
  },
  {
   "cell_type": "markdown",
   "metadata": {},
   "source": [
    "Сгруппируем данные по когорте и lifetime."
   ]
  },
  {
   "cell_type": "code",
   "execution_count": 37,
   "metadata": {},
   "outputs": [],
   "source": [
    "cohorts = df.groupby(['start_week','cohort_lifetime']).agg({'user_id':'nunique'}).reset_index()"
   ]
  },
  {
   "cell_type": "markdown",
   "metadata": {},
   "source": [
    "Найдём количество пользователей в когорте. Возьмём их число на нулевую неделю:"
   ]
  },
  {
   "cell_type": "code",
   "execution_count": 38,
   "metadata": {},
   "outputs": [],
   "source": [
    "initial_users_count = cohorts[cohorts['cohort_lifetime'] == 0][['start_week','user_id']]"
   ]
  },
  {
   "cell_type": "code",
   "execution_count": 39,
   "metadata": {},
   "outputs": [],
   "source": [
    "initial_users_count = initial_users_count.rename(columns={'user_id':'cohort_users'})\n",
    "cohorts = cohorts.merge(initial_users_count,on='start_week')"
   ]
  },
  {
   "cell_type": "markdown",
   "metadata": {},
   "source": [
    "Посчитаем Retention Rate. Разделим количество активных пользователей в каждую из недель на исходное число пользователей в когорте"
   ]
  },
  {
   "cell_type": "code",
   "execution_count": 40,
   "metadata": {},
   "outputs": [],
   "source": [
    "cohorts['retention'] = cohorts['user_id']/cohorts['cohort_users']"
   ]
  },
  {
   "cell_type": "code",
   "execution_count": 41,
   "metadata": {},
   "outputs": [],
   "source": [
    "cohorts['start_week'] = cohorts['start_week'].dt.date"
   ]
  },
  {
   "cell_type": "code",
   "execution_count": 42,
   "metadata": {},
   "outputs": [],
   "source": [
    "retention_pivot = cohorts.pivot_table(index='start_week',columns='cohort_lifetime',values='retention',aggfunc='sum')"
   ]
  },
  {
   "cell_type": "code",
   "execution_count": 43,
   "metadata": {},
   "outputs": [
    {
     "data": {
      "image/png": "[encoded data removed]",
      "text/plain": [
       "<Figure size 720x504 with 2 Axes>"
      ]
     },
     "metadata": {},
     "output_type": "display_data"
    }
   ],
   "source": [
    "sns.set(style='dark')\n",
    "plt.figure(figsize=(10, 7))\n",
    "plt.title('Cohorts: User Retention')\n",
    "sns.heatmap(retention_pivot, annot=True, fmt='.1%', linewidths=1, linecolor='gray');"
   ]
  },
  {
   "cell_type": "markdown",
   "metadata": {},
   "source": [
    "Анализ когорт показал закономерное снижение Retention Rate со временем:\n",
    "\n",
    "Удержание пользователей значительно падает уже на второй неделе после установки приложения. Например, для когорты от 7 до 13 октября доля вернувшихся пользователей на второй неделе составляет лишь 7%, а для более поздних когорт — ещё меньше.\n",
    "\n",
    "Новые когорты демонстрируют всё более низкий уровень удержания, что может свидетельствовать о снижении интереса к приложению, ухудшении первого опыта или недостаточной ценности для пользователей.\n",
    "\n",
    "Такая динамика указывает на то, что основная часть пользователей не возвращается в приложение после первой недели использования. Причины могут быть связаны с недостаточно вовлекающим интерфейсом, нерелевантными рекомендациями или отсутствием причин вернуться.\n",
    "\n",
    "Рекомендация: необходимо детально изучить поведение новых пользователей в первые дни после установки, выявить узкие места в пользовательском пути"
   ]
  },
  {
   "cell_type": "markdown",
   "metadata": {},
   "source": [
    "### Время, проведенное в приложении"
   ]
  },
  {
   "cell_type": "markdown",
   "metadata": {},
   "source": [
    "Что определить эту метрику, нужно выделить для каждого пользователя сессии. Создадим столбец с отметкой времени предыдущего действия для каждого пользователя (pre_action_time):"
   ]
  },
  {
   "cell_type": "code",
   "execution_count": 44,
   "metadata": {},
   "outputs": [
    {
     "data": {
      "text/html": [
       "<div>\n",
       "<style scoped>\n",
       "    .dataframe tbody tr th:only-of-type {\n",
       "        vertical-align: middle;\n",
       "    }\n",
       "\n",
       "    .dataframe tbody tr th {\n",
       "        vertical-align: top;\n",
       "    }\n",
       "\n",
       "    .dataframe thead th {\n",
       "        text-align: right;\n",
       "    }\n",
       "</style>\n",
       "<table border=\"1\" class=\"dataframe\">\n",
       "  <thead>\n",
       "    <tr style=\"text-align: right;\">\n",
       "      <th></th>\n",
       "      <th>event_time</th>\n",
       "      <th>event_name</th>\n",
       "      <th>user_id</th>\n",
       "      <th>source</th>\n",
       "      <th>event_hour</th>\n",
       "      <th>event_week</th>\n",
       "      <th>event_month</th>\n",
       "      <th>event_year</th>\n",
       "      <th>event_date</th>\n",
       "      <th>start_dt</th>\n",
       "      <th>activ_week</th>\n",
       "      <th>start_week</th>\n",
       "      <th>cohort_lifetime</th>\n",
       "      <th>pre_action_time</th>\n",
       "    </tr>\n",
       "  </thead>\n",
       "  <tbody>\n",
       "    <tr>\n",
       "      <th>64396</th>\n",
       "      <td>2019-10-30 19:15:29</td>\n",
       "      <td>tips_show</td>\n",
       "      <td>081bb564-703e-4f1c-9016-ac9460dec5bf</td>\n",
       "      <td>other</td>\n",
       "      <td>19</td>\n",
       "      <td>2019-10-24</td>\n",
       "      <td>2019-10-01</td>\n",
       "      <td>2019-01-01</td>\n",
       "      <td>2019-10-30</td>\n",
       "      <td>2019-10-28</td>\n",
       "      <td>2019-10-28</td>\n",
       "      <td>2019-10-28</td>\n",
       "      <td>0</td>\n",
       "      <td>2019-10-30 19:12:33</td>\n",
       "    </tr>\n",
       "    <tr>\n",
       "      <th>8720</th>\n",
       "      <td>2019-10-15 20:23:00</td>\n",
       "      <td>favorites_add</td>\n",
       "      <td>83ae922a-1d12-458a-b591-0ea6d283ce0d</td>\n",
       "      <td>yandex</td>\n",
       "      <td>20</td>\n",
       "      <td>2019-10-10</td>\n",
       "      <td>2019-10-01</td>\n",
       "      <td>2019-01-01</td>\n",
       "      <td>2019-10-15</td>\n",
       "      <td>2019-10-08</td>\n",
       "      <td>2019-10-14</td>\n",
       "      <td>2019-10-07</td>\n",
       "      <td>1</td>\n",
       "      <td>2019-10-15 20:19:47</td>\n",
       "    </tr>\n",
       "    <tr>\n",
       "      <th>40037</th>\n",
       "      <td>2019-10-26 20:44:43</td>\n",
       "      <td>tips_show</td>\n",
       "      <td>1e49028e-e90e-4b27-9467-c101d8f94156</td>\n",
       "      <td>yandex</td>\n",
       "      <td>20</td>\n",
       "      <td>2019-10-24</td>\n",
       "      <td>2019-10-01</td>\n",
       "      <td>2019-01-01</td>\n",
       "      <td>2019-10-26</td>\n",
       "      <td>2019-10-18</td>\n",
       "      <td>2019-10-21</td>\n",
       "      <td>2019-10-14</td>\n",
       "      <td>1</td>\n",
       "      <td>2019-10-26 20:44:29</td>\n",
       "    </tr>\n",
       "    <tr>\n",
       "      <th>65256</th>\n",
       "      <td>2019-10-29 09:06:25</td>\n",
       "      <td>tips_show</td>\n",
       "      <td>a975aed8-0663-4c61-8516-807b66f7e006</td>\n",
       "      <td>yandex</td>\n",
       "      <td>9</td>\n",
       "      <td>2019-10-24</td>\n",
       "      <td>2019-10-01</td>\n",
       "      <td>2019-01-01</td>\n",
       "      <td>2019-10-29</td>\n",
       "      <td>2019-10-29</td>\n",
       "      <td>2019-10-28</td>\n",
       "      <td>2019-10-28</td>\n",
       "      <td>0</td>\n",
       "      <td>2019-10-29 09:03:29</td>\n",
       "    </tr>\n",
       "    <tr>\n",
       "      <th>9548</th>\n",
       "      <td>2019-10-18 09:23:29</td>\n",
       "      <td>tips_show</td>\n",
       "      <td>a5a2b580-aa38-4cc3-b9a7-16dd0ff522d9</td>\n",
       "      <td>google</td>\n",
       "      <td>9</td>\n",
       "      <td>2019-10-17</td>\n",
       "      <td>2019-10-01</td>\n",
       "      <td>2019-01-01</td>\n",
       "      <td>2019-10-18</td>\n",
       "      <td>2019-10-09</td>\n",
       "      <td>2019-10-14</td>\n",
       "      <td>2019-10-07</td>\n",
       "      <td>1</td>\n",
       "      <td>2019-10-18 09:23:25</td>\n",
       "    </tr>\n",
       "    <tr>\n",
       "      <th>2768</th>\n",
       "      <td>2019-10-07 14:57:46</td>\n",
       "      <td>tips_show</td>\n",
       "      <td>9b835c74-8ede-4586-9f59-e5473aa48de2</td>\n",
       "      <td>other</td>\n",
       "      <td>14</td>\n",
       "      <td>2019-10-03</td>\n",
       "      <td>2019-10-01</td>\n",
       "      <td>2019-01-01</td>\n",
       "      <td>2019-10-07</td>\n",
       "      <td>2019-10-07</td>\n",
       "      <td>2019-10-07</td>\n",
       "      <td>2019-10-07</td>\n",
       "      <td>0</td>\n",
       "      <td>2019-10-07 14:56:03</td>\n",
       "    </tr>\n",
       "    <tr>\n",
       "      <th>64191</th>\n",
       "      <td>2019-10-29 09:31:33</td>\n",
       "      <td>tips_show</td>\n",
       "      <td>86bba402-cba4-419d-a91d-a74532d6cd60</td>\n",
       "      <td>yandex</td>\n",
       "      <td>9</td>\n",
       "      <td>2019-10-24</td>\n",
       "      <td>2019-10-01</td>\n",
       "      <td>2019-01-01</td>\n",
       "      <td>2019-10-29</td>\n",
       "      <td>2019-10-28</td>\n",
       "      <td>2019-10-28</td>\n",
       "      <td>2019-10-28</td>\n",
       "      <td>0</td>\n",
       "      <td>2019-10-29 09:31:30</td>\n",
       "    </tr>\n",
       "    <tr>\n",
       "      <th>73171</th>\n",
       "      <td>2019-11-03 15:58:01</td>\n",
       "      <td>contacts_show</td>\n",
       "      <td>aec5c5db-21f9-41d3-a228-23ae2816b107</td>\n",
       "      <td>google</td>\n",
       "      <td>15</td>\n",
       "      <td>2019-10-31</td>\n",
       "      <td>2019-11-01</td>\n",
       "      <td>2019-01-01</td>\n",
       "      <td>2019-11-03</td>\n",
       "      <td>2019-11-03</td>\n",
       "      <td>2019-10-28</td>\n",
       "      <td>2019-10-28</td>\n",
       "      <td>0</td>\n",
       "      <td>2019-11-03 15:57:28</td>\n",
       "    </tr>\n",
       "    <tr>\n",
       "      <th>55079</th>\n",
       "      <td>2019-10-24 20:51:23</td>\n",
       "      <td>tips_show</td>\n",
       "      <td>252b991b-cf28-41be-ad33-009d5ee7a9eb</td>\n",
       "      <td>yandex</td>\n",
       "      <td>20</td>\n",
       "      <td>2019-10-24</td>\n",
       "      <td>2019-10-01</td>\n",
       "      <td>2019-01-01</td>\n",
       "      <td>2019-10-24</td>\n",
       "      <td>2019-10-24</td>\n",
       "      <td>2019-10-21</td>\n",
       "      <td>2019-10-21</td>\n",
       "      <td>0</td>\n",
       "      <td>2019-10-24 20:50:44</td>\n",
       "    </tr>\n",
       "    <tr>\n",
       "      <th>49174</th>\n",
       "      <td>2019-10-22 13:23:19</td>\n",
       "      <td>photos_show</td>\n",
       "      <td>018e7719-44fd-4576-9f89-fc565b309e3b</td>\n",
       "      <td>yandex</td>\n",
       "      <td>13</td>\n",
       "      <td>2019-10-17</td>\n",
       "      <td>2019-10-01</td>\n",
       "      <td>2019-01-01</td>\n",
       "      <td>2019-10-22</td>\n",
       "      <td>2019-10-22</td>\n",
       "      <td>2019-10-21</td>\n",
       "      <td>2019-10-21</td>\n",
       "      <td>0</td>\n",
       "      <td>2019-10-22 13:21:09</td>\n",
       "    </tr>\n",
       "  </tbody>\n",
       "</table>\n",
       "</div>"
      ],
      "text/plain": [
       "               event_time     event_name  \\\n",
       "64396 2019-10-30 19:15:29      tips_show   \n",
       "8720  2019-10-15 20:23:00  favorites_add   \n",
       "40037 2019-10-26 20:44:43      tips_show   \n",
       "65256 2019-10-29 09:06:25      tips_show   \n",
       "9548  2019-10-18 09:23:29      tips_show   \n",
       "2768  2019-10-07 14:57:46      tips_show   \n",
       "64191 2019-10-29 09:31:33      tips_show   \n",
       "73171 2019-11-03 15:58:01  contacts_show   \n",
       "55079 2019-10-24 20:51:23      tips_show   \n",
       "49174 2019-10-22 13:23:19    photos_show   \n",
       "\n",
       "                                    user_id  source  event_hour event_week  \\\n",
       "64396  081bb564-703e-4f1c-9016-ac9460dec5bf   other          19 2019-10-24   \n",
       "8720   83ae922a-1d12-458a-b591-0ea6d283ce0d  yandex          20 2019-10-10   \n",
       "40037  1e49028e-e90e-4b27-9467-c101d8f94156  yandex          20 2019-10-24   \n",
       "65256  a975aed8-0663-4c61-8516-807b66f7e006  yandex           9 2019-10-24   \n",
       "9548   a5a2b580-aa38-4cc3-b9a7-16dd0ff522d9  google           9 2019-10-17   \n",
       "2768   9b835c74-8ede-4586-9f59-e5473aa48de2   other          14 2019-10-03   \n",
       "64191  86bba402-cba4-419d-a91d-a74532d6cd60  yandex           9 2019-10-24   \n",
       "73171  aec5c5db-21f9-41d3-a228-23ae2816b107  google          15 2019-10-31   \n",
       "55079  252b991b-cf28-41be-ad33-009d5ee7a9eb  yandex          20 2019-10-24   \n",
       "49174  018e7719-44fd-4576-9f89-fc565b309e3b  yandex          13 2019-10-17   \n",
       "\n",
       "      event_month event_year event_date   start_dt activ_week start_week  \\\n",
       "64396  2019-10-01 2019-01-01 2019-10-30 2019-10-28 2019-10-28 2019-10-28   \n",
       "8720   2019-10-01 2019-01-01 2019-10-15 2019-10-08 2019-10-14 2019-10-07   \n",
       "40037  2019-10-01 2019-01-01 2019-10-26 2019-10-18 2019-10-21 2019-10-14   \n",
       "65256  2019-10-01 2019-01-01 2019-10-29 2019-10-29 2019-10-28 2019-10-28   \n",
       "9548   2019-10-01 2019-01-01 2019-10-18 2019-10-09 2019-10-14 2019-10-07   \n",
       "2768   2019-10-01 2019-01-01 2019-10-07 2019-10-07 2019-10-07 2019-10-07   \n",
       "64191  2019-10-01 2019-01-01 2019-10-29 2019-10-28 2019-10-28 2019-10-28   \n",
       "73171  2019-11-01 2019-01-01 2019-11-03 2019-11-03 2019-10-28 2019-10-28   \n",
       "55079  2019-10-01 2019-01-01 2019-10-24 2019-10-24 2019-10-21 2019-10-21   \n",
       "49174  2019-10-01 2019-01-01 2019-10-22 2019-10-22 2019-10-21 2019-10-21   \n",
       "\n",
       "       cohort_lifetime     pre_action_time  \n",
       "64396                0 2019-10-30 19:12:33  \n",
       "8720                 1 2019-10-15 20:19:47  \n",
       "40037                1 2019-10-26 20:44:29  \n",
       "65256                0 2019-10-29 09:03:29  \n",
       "9548                 1 2019-10-18 09:23:25  \n",
       "2768                 0 2019-10-07 14:56:03  \n",
       "64191                0 2019-10-29 09:31:30  \n",
       "73171                0 2019-11-03 15:57:28  \n",
       "55079                0 2019-10-24 20:50:44  \n",
       "49174                0 2019-10-22 13:21:09  "
      ]
     },
     "execution_count": 44,
     "metadata": {},
     "output_type": "execute_result"
    }
   ],
   "source": [
    "df['pre_action_time'] = df.groupby('user_id')['event_time'].shift()\n",
    "df.sample(10)"
   ]
  },
  {
   "cell_type": "markdown",
   "metadata": {},
   "source": [
    "Создадим столбец active_session, в котором будет содержаться количество времени, проведенное в приложении между действиями:"
   ]
  },
  {
   "cell_type": "code",
   "execution_count": 45,
   "metadata": {},
   "outputs": [
    {
     "data": {
      "text/html": [
       "<div>\n",
       "<style scoped>\n",
       "    .dataframe tbody tr th:only-of-type {\n",
       "        vertical-align: middle;\n",
       "    }\n",
       "\n",
       "    .dataframe tbody tr th {\n",
       "        vertical-align: top;\n",
       "    }\n",
       "\n",
       "    .dataframe thead th {\n",
       "        text-align: right;\n",
       "    }\n",
       "</style>\n",
       "<table border=\"1\" class=\"dataframe\">\n",
       "  <thead>\n",
       "    <tr style=\"text-align: right;\">\n",
       "      <th></th>\n",
       "      <th>event_time</th>\n",
       "      <th>event_name</th>\n",
       "      <th>user_id</th>\n",
       "      <th>source</th>\n",
       "      <th>event_hour</th>\n",
       "      <th>event_week</th>\n",
       "      <th>event_month</th>\n",
       "      <th>event_year</th>\n",
       "      <th>event_date</th>\n",
       "      <th>start_dt</th>\n",
       "      <th>activ_week</th>\n",
       "      <th>start_week</th>\n",
       "      <th>cohort_lifetime</th>\n",
       "      <th>pre_action_time</th>\n",
       "      <th>active_session</th>\n",
       "    </tr>\n",
       "  </thead>\n",
       "  <tbody>\n",
       "    <tr>\n",
       "      <th>23834</th>\n",
       "      <td>2019-10-13 18:25:07</td>\n",
       "      <td>tips_show</td>\n",
       "      <td>094abcd3-4022-4e55-94f9-e416a4416752</td>\n",
       "      <td>yandex</td>\n",
       "      <td>18</td>\n",
       "      <td>2019-10-10</td>\n",
       "      <td>2019-10-01</td>\n",
       "      <td>2019-01-01</td>\n",
       "      <td>2019-10-13</td>\n",
       "      <td>2019-10-13</td>\n",
       "      <td>2019-10-07</td>\n",
       "      <td>2019-10-07</td>\n",
       "      <td>0</td>\n",
       "      <td>2019-10-13 18:25:00</td>\n",
       "      <td>0 days 00:00:07</td>\n",
       "    </tr>\n",
       "    <tr>\n",
       "      <th>14529</th>\n",
       "      <td>2019-10-10 17:59:31</td>\n",
       "      <td>tips_show</td>\n",
       "      <td>955bd7b0-8da8-49df-adee-546b59347634</td>\n",
       "      <td>other</td>\n",
       "      <td>17</td>\n",
       "      <td>2019-10-10</td>\n",
       "      <td>2019-10-01</td>\n",
       "      <td>2019-01-01</td>\n",
       "      <td>2019-10-10</td>\n",
       "      <td>2019-10-10</td>\n",
       "      <td>2019-10-07</td>\n",
       "      <td>2019-10-07</td>\n",
       "      <td>0</td>\n",
       "      <td>2019-10-10 17:59:26</td>\n",
       "      <td>0 days 00:00:05</td>\n",
       "    </tr>\n",
       "    <tr>\n",
       "      <th>31385</th>\n",
       "      <td>2019-10-15 23:10:35</td>\n",
       "      <td>advert_open</td>\n",
       "      <td>0d5c7fc6-7a74-4a7d-a7f6-f19a739365f6</td>\n",
       "      <td>yandex</td>\n",
       "      <td>23</td>\n",
       "      <td>2019-10-10</td>\n",
       "      <td>2019-10-01</td>\n",
       "      <td>2019-01-01</td>\n",
       "      <td>2019-10-15</td>\n",
       "      <td>2019-10-15</td>\n",
       "      <td>2019-10-14</td>\n",
       "      <td>2019-10-14</td>\n",
       "      <td>0</td>\n",
       "      <td>2019-10-15 23:10:26</td>\n",
       "      <td>0 days 00:00:09</td>\n",
       "    </tr>\n",
       "    <tr>\n",
       "      <th>58957</th>\n",
       "      <td>2019-10-30 19:26:32</td>\n",
       "      <td>favorites_add</td>\n",
       "      <td>aed9d717-9562-4ac9-8629-d7ef7fd7029e</td>\n",
       "      <td>yandex</td>\n",
       "      <td>19</td>\n",
       "      <td>2019-10-24</td>\n",
       "      <td>2019-10-01</td>\n",
       "      <td>2019-01-01</td>\n",
       "      <td>2019-10-30</td>\n",
       "      <td>2019-10-26</td>\n",
       "      <td>2019-10-28</td>\n",
       "      <td>2019-10-21</td>\n",
       "      <td>1</td>\n",
       "      <td>2019-10-30 19:25:38</td>\n",
       "      <td>0 days 00:00:54</td>\n",
       "    </tr>\n",
       "    <tr>\n",
       "      <th>31617</th>\n",
       "      <td>2019-10-16 21:51:56</td>\n",
       "      <td>photos_show</td>\n",
       "      <td>decbe15d-ded9-4b26-8197-89c773c37f6b</td>\n",
       "      <td>google</td>\n",
       "      <td>21</td>\n",
       "      <td>2019-10-10</td>\n",
       "      <td>2019-10-01</td>\n",
       "      <td>2019-01-01</td>\n",
       "      <td>2019-10-16</td>\n",
       "      <td>2019-10-16</td>\n",
       "      <td>2019-10-14</td>\n",
       "      <td>2019-10-14</td>\n",
       "      <td>0</td>\n",
       "      <td>2019-10-16 21:51:17</td>\n",
       "      <td>0 days 00:00:39</td>\n",
       "    </tr>\n",
       "    <tr>\n",
       "      <th>27831</th>\n",
       "      <td>2019-10-14 21:30:49</td>\n",
       "      <td>favorites_add</td>\n",
       "      <td>22fbd020-1f72-483a-b452-ef13563a622e</td>\n",
       "      <td>other</td>\n",
       "      <td>21</td>\n",
       "      <td>2019-10-10</td>\n",
       "      <td>2019-10-01</td>\n",
       "      <td>2019-01-01</td>\n",
       "      <td>2019-10-14</td>\n",
       "      <td>2019-10-14</td>\n",
       "      <td>2019-10-14</td>\n",
       "      <td>2019-10-14</td>\n",
       "      <td>0</td>\n",
       "      <td>2019-10-14 20:51:26</td>\n",
       "      <td>0 days 00:39:23</td>\n",
       "    </tr>\n",
       "    <tr>\n",
       "      <th>68873</th>\n",
       "      <td>2019-10-30 23:27:34</td>\n",
       "      <td>search</td>\n",
       "      <td>772cce95-50f6-4409-b8a1-77e8e24d792a</td>\n",
       "      <td>yandex</td>\n",
       "      <td>23</td>\n",
       "      <td>2019-10-24</td>\n",
       "      <td>2019-10-01</td>\n",
       "      <td>2019-01-01</td>\n",
       "      <td>2019-10-30</td>\n",
       "      <td>2019-10-30</td>\n",
       "      <td>2019-10-28</td>\n",
       "      <td>2019-10-28</td>\n",
       "      <td>0</td>\n",
       "      <td>NaT</td>\n",
       "      <td>NaT</td>\n",
       "    </tr>\n",
       "    <tr>\n",
       "      <th>6743</th>\n",
       "      <td>2019-10-11 13:59:15</td>\n",
       "      <td>contacts_show</td>\n",
       "      <td>e38cb669-7335-4d56-9de5-c8d5d2f13fd3</td>\n",
       "      <td>google</td>\n",
       "      <td>13</td>\n",
       "      <td>2019-10-10</td>\n",
       "      <td>2019-10-01</td>\n",
       "      <td>2019-01-01</td>\n",
       "      <td>2019-10-11</td>\n",
       "      <td>2019-10-08</td>\n",
       "      <td>2019-10-07</td>\n",
       "      <td>2019-10-07</td>\n",
       "      <td>0</td>\n",
       "      <td>2019-10-11 13:56:35</td>\n",
       "      <td>0 days 00:02:40</td>\n",
       "    </tr>\n",
       "    <tr>\n",
       "      <th>62022</th>\n",
       "      <td>2019-10-27 17:28:35</td>\n",
       "      <td>tips_show</td>\n",
       "      <td>035ae717-a6ae-4569-b952-16be9447832b</td>\n",
       "      <td>yandex</td>\n",
       "      <td>17</td>\n",
       "      <td>2019-10-24</td>\n",
       "      <td>2019-10-01</td>\n",
       "      <td>2019-01-01</td>\n",
       "      <td>2019-10-27</td>\n",
       "      <td>2019-10-27</td>\n",
       "      <td>2019-10-21</td>\n",
       "      <td>2019-10-21</td>\n",
       "      <td>0</td>\n",
       "      <td>2019-10-27 17:25:57</td>\n",
       "      <td>0 days 00:02:38</td>\n",
       "    </tr>\n",
       "    <tr>\n",
       "      <th>59695</th>\n",
       "      <td>2019-10-26 17:26:19</td>\n",
       "      <td>tips_show</td>\n",
       "      <td>e15c3bf3-a586-4c63-8379-be2393077a60</td>\n",
       "      <td>yandex</td>\n",
       "      <td>17</td>\n",
       "      <td>2019-10-24</td>\n",
       "      <td>2019-10-01</td>\n",
       "      <td>2019-01-01</td>\n",
       "      <td>2019-10-26</td>\n",
       "      <td>2019-10-26</td>\n",
       "      <td>2019-10-21</td>\n",
       "      <td>2019-10-21</td>\n",
       "      <td>0</td>\n",
       "      <td>2019-10-26 17:25:53</td>\n",
       "      <td>0 days 00:00:26</td>\n",
       "    </tr>\n",
       "  </tbody>\n",
       "</table>\n",
       "</div>"
      ],
      "text/plain": [
       "               event_time     event_name  \\\n",
       "23834 2019-10-13 18:25:07      tips_show   \n",
       "14529 2019-10-10 17:59:31      tips_show   \n",
       "31385 2019-10-15 23:10:35    advert_open   \n",
       "58957 2019-10-30 19:26:32  favorites_add   \n",
       "31617 2019-10-16 21:51:56    photos_show   \n",
       "27831 2019-10-14 21:30:49  favorites_add   \n",
       "68873 2019-10-30 23:27:34         search   \n",
       "6743  2019-10-11 13:59:15  contacts_show   \n",
       "62022 2019-10-27 17:28:35      tips_show   \n",
       "59695 2019-10-26 17:26:19      tips_show   \n",
       "\n",
       "                                    user_id  source  event_hour event_week  \\\n",
       "23834  094abcd3-4022-4e55-94f9-e416a4416752  yandex          18 2019-10-10   \n",
       "14529  955bd7b0-8da8-49df-adee-546b59347634   other          17 2019-10-10   \n",
       "31385  0d5c7fc6-7a74-4a7d-a7f6-f19a739365f6  yandex          23 2019-10-10   \n",
       "58957  aed9d717-9562-4ac9-8629-d7ef7fd7029e  yandex          19 2019-10-24   \n",
       "31617  decbe15d-ded9-4b26-8197-89c773c37f6b  google          21 2019-10-10   \n",
       "27831  22fbd020-1f72-483a-b452-ef13563a622e   other          21 2019-10-10   \n",
       "68873  772cce95-50f6-4409-b8a1-77e8e24d792a  yandex          23 2019-10-24   \n",
       "6743   e38cb669-7335-4d56-9de5-c8d5d2f13fd3  google          13 2019-10-10   \n",
       "62022  035ae717-a6ae-4569-b952-16be9447832b  yandex          17 2019-10-24   \n",
       "59695  e15c3bf3-a586-4c63-8379-be2393077a60  yandex          17 2019-10-24   \n",
       "\n",
       "      event_month event_year event_date   start_dt activ_week start_week  \\\n",
       "23834  2019-10-01 2019-01-01 2019-10-13 2019-10-13 2019-10-07 2019-10-07   \n",
       "14529  2019-10-01 2019-01-01 2019-10-10 2019-10-10 2019-10-07 2019-10-07   \n",
       "31385  2019-10-01 2019-01-01 2019-10-15 2019-10-15 2019-10-14 2019-10-14   \n",
       "58957  2019-10-01 2019-01-01 2019-10-30 2019-10-26 2019-10-28 2019-10-21   \n",
       "31617  2019-10-01 2019-01-01 2019-10-16 2019-10-16 2019-10-14 2019-10-14   \n",
       "27831  2019-10-01 2019-01-01 2019-10-14 2019-10-14 2019-10-14 2019-10-14   \n",
       "68873  2019-10-01 2019-01-01 2019-10-30 2019-10-30 2019-10-28 2019-10-28   \n",
       "6743   2019-10-01 2019-01-01 2019-10-11 2019-10-08 2019-10-07 2019-10-07   \n",
       "62022  2019-10-01 2019-01-01 2019-10-27 2019-10-27 2019-10-21 2019-10-21   \n",
       "59695  2019-10-01 2019-01-01 2019-10-26 2019-10-26 2019-10-21 2019-10-21   \n",
       "\n",
       "       cohort_lifetime     pre_action_time  active_session  \n",
       "23834                0 2019-10-13 18:25:00 0 days 00:00:07  \n",
       "14529                0 2019-10-10 17:59:26 0 days 00:00:05  \n",
       "31385                0 2019-10-15 23:10:26 0 days 00:00:09  \n",
       "58957                1 2019-10-30 19:25:38 0 days 00:00:54  \n",
       "31617                0 2019-10-16 21:51:17 0 days 00:00:39  \n",
       "27831                0 2019-10-14 20:51:26 0 days 00:39:23  \n",
       "68873                0                 NaT             NaT  \n",
       "6743                 0 2019-10-11 13:56:35 0 days 00:02:40  \n",
       "62022                0 2019-10-27 17:25:57 0 days 00:02:38  \n",
       "59695                0 2019-10-26 17:25:53 0 days 00:00:26  "
      ]
     },
     "execution_count": 45,
     "metadata": {},
     "output_type": "execute_result"
    }
   ],
   "source": [
    "df['active_session'] = df['event_time'] - df['pre_action_time']\n",
    "df.sample(10)"
   ]
  },
  {
   "cell_type": "markdown",
   "metadata": {},
   "source": [
    "Пронумеруем сессии: сравним временной интервал между двумя действиями (active_session) с 30 минутами (именно это число мы возьмем за максимальную продолжительность единоразовой сессии). Если интервал будет превышать 30 минут, то сессии будет присваиваться следующий номер"
   ]
  },
  {
   "cell_type": "code",
   "execution_count": 46,
   "metadata": {},
   "outputs": [],
   "source": [
    "f = lambda t: t.diff().gt(pd.Timedelta('30T')).cumsum()\n",
    "df['session_num'] = df.groupby('user_id')['event_time'].apply(f) + 1"
   ]
  },
  {
   "cell_type": "code",
   "execution_count": 47,
   "metadata": {},
   "outputs": [
    {
     "data": {
      "text/html": [
       "<div>\n",
       "<style scoped>\n",
       "    .dataframe tbody tr th:only-of-type {\n",
       "        vertical-align: middle;\n",
       "    }\n",
       "\n",
       "    .dataframe tbody tr th {\n",
       "        vertical-align: top;\n",
       "    }\n",
       "\n",
       "    .dataframe thead th {\n",
       "        text-align: right;\n",
       "    }\n",
       "</style>\n",
       "<table border=\"1\" class=\"dataframe\">\n",
       "  <thead>\n",
       "    <tr style=\"text-align: right;\">\n",
       "      <th></th>\n",
       "      <th>event_time</th>\n",
       "      <th>event_name</th>\n",
       "      <th>user_id</th>\n",
       "      <th>source</th>\n",
       "      <th>event_hour</th>\n",
       "      <th>event_week</th>\n",
       "      <th>event_month</th>\n",
       "      <th>event_year</th>\n",
       "      <th>event_date</th>\n",
       "      <th>start_dt</th>\n",
       "      <th>activ_week</th>\n",
       "      <th>start_week</th>\n",
       "      <th>cohort_lifetime</th>\n",
       "      <th>pre_action_time</th>\n",
       "      <th>active_session</th>\n",
       "      <th>session_num</th>\n",
       "    </tr>\n",
       "  </thead>\n",
       "  <tbody>\n",
       "    <tr>\n",
       "      <th>0</th>\n",
       "      <td>2019-10-07 00:00:00</td>\n",
       "      <td>advert_open</td>\n",
       "      <td>020292ab-89bc-4156-9acf-68bc2783f894</td>\n",
       "      <td>other</td>\n",
       "      <td>0</td>\n",
       "      <td>2019-10-03</td>\n",
       "      <td>2019-10-01</td>\n",
       "      <td>2019-01-01</td>\n",
       "      <td>2019-10-07</td>\n",
       "      <td>2019-10-07</td>\n",
       "      <td>2019-10-07</td>\n",
       "      <td>2019-10-07</td>\n",
       "      <td>0</td>\n",
       "      <td>NaT</td>\n",
       "      <td>NaT</td>\n",
       "      <td>1</td>\n",
       "    </tr>\n",
       "    <tr>\n",
       "      <th>1</th>\n",
       "      <td>2019-10-07 00:00:01</td>\n",
       "      <td>tips_show</td>\n",
       "      <td>020292ab-89bc-4156-9acf-68bc2783f894</td>\n",
       "      <td>other</td>\n",
       "      <td>0</td>\n",
       "      <td>2019-10-03</td>\n",
       "      <td>2019-10-01</td>\n",
       "      <td>2019-01-01</td>\n",
       "      <td>2019-10-07</td>\n",
       "      <td>2019-10-07</td>\n",
       "      <td>2019-10-07</td>\n",
       "      <td>2019-10-07</td>\n",
       "      <td>0</td>\n",
       "      <td>2019-10-07 00:00:00</td>\n",
       "      <td>0 days 00:00:01</td>\n",
       "      <td>1</td>\n",
       "    </tr>\n",
       "    <tr>\n",
       "      <th>2</th>\n",
       "      <td>2019-10-07 00:00:07</td>\n",
       "      <td>tips_show</td>\n",
       "      <td>020292ab-89bc-4156-9acf-68bc2783f894</td>\n",
       "      <td>other</td>\n",
       "      <td>0</td>\n",
       "      <td>2019-10-03</td>\n",
       "      <td>2019-10-01</td>\n",
       "      <td>2019-01-01</td>\n",
       "      <td>2019-10-07</td>\n",
       "      <td>2019-10-07</td>\n",
       "      <td>2019-10-07</td>\n",
       "      <td>2019-10-07</td>\n",
       "      <td>0</td>\n",
       "      <td>2019-10-07 00:00:01</td>\n",
       "      <td>0 days 00:00:06</td>\n",
       "      <td>1</td>\n",
       "    </tr>\n",
       "    <tr>\n",
       "      <th>3</th>\n",
       "      <td>2019-10-07 00:01:28</td>\n",
       "      <td>advert_open</td>\n",
       "      <td>020292ab-89bc-4156-9acf-68bc2783f894</td>\n",
       "      <td>other</td>\n",
       "      <td>0</td>\n",
       "      <td>2019-10-03</td>\n",
       "      <td>2019-10-01</td>\n",
       "      <td>2019-01-01</td>\n",
       "      <td>2019-10-07</td>\n",
       "      <td>2019-10-07</td>\n",
       "      <td>2019-10-07</td>\n",
       "      <td>2019-10-07</td>\n",
       "      <td>0</td>\n",
       "      <td>2019-10-07 00:00:07</td>\n",
       "      <td>0 days 00:01:21</td>\n",
       "      <td>1</td>\n",
       "    </tr>\n",
       "    <tr>\n",
       "      <th>4</th>\n",
       "      <td>2019-10-07 00:01:35</td>\n",
       "      <td>tips_show</td>\n",
       "      <td>020292ab-89bc-4156-9acf-68bc2783f894</td>\n",
       "      <td>other</td>\n",
       "      <td>0</td>\n",
       "      <td>2019-10-03</td>\n",
       "      <td>2019-10-01</td>\n",
       "      <td>2019-01-01</td>\n",
       "      <td>2019-10-07</td>\n",
       "      <td>2019-10-07</td>\n",
       "      <td>2019-10-07</td>\n",
       "      <td>2019-10-07</td>\n",
       "      <td>0</td>\n",
       "      <td>2019-10-07 00:01:28</td>\n",
       "      <td>0 days 00:00:07</td>\n",
       "      <td>1</td>\n",
       "    </tr>\n",
       "    <tr>\n",
       "      <th>5</th>\n",
       "      <td>2019-10-07 00:01:55</td>\n",
       "      <td>advert_open</td>\n",
       "      <td>020292ab-89bc-4156-9acf-68bc2783f894</td>\n",
       "      <td>other</td>\n",
       "      <td>0</td>\n",
       "      <td>2019-10-03</td>\n",
       "      <td>2019-10-01</td>\n",
       "      <td>2019-01-01</td>\n",
       "      <td>2019-10-07</td>\n",
       "      <td>2019-10-07</td>\n",
       "      <td>2019-10-07</td>\n",
       "      <td>2019-10-07</td>\n",
       "      <td>0</td>\n",
       "      <td>2019-10-07 00:01:35</td>\n",
       "      <td>0 days 00:00:20</td>\n",
       "      <td>1</td>\n",
       "    </tr>\n",
       "    <tr>\n",
       "      <th>6</th>\n",
       "      <td>2019-10-07 00:02:01</td>\n",
       "      <td>tips_show</td>\n",
       "      <td>020292ab-89bc-4156-9acf-68bc2783f894</td>\n",
       "      <td>other</td>\n",
       "      <td>0</td>\n",
       "      <td>2019-10-03</td>\n",
       "      <td>2019-10-01</td>\n",
       "      <td>2019-01-01</td>\n",
       "      <td>2019-10-07</td>\n",
       "      <td>2019-10-07</td>\n",
       "      <td>2019-10-07</td>\n",
       "      <td>2019-10-07</td>\n",
       "      <td>0</td>\n",
       "      <td>2019-10-07 00:01:55</td>\n",
       "      <td>0 days 00:00:06</td>\n",
       "      <td>1</td>\n",
       "    </tr>\n",
       "    <tr>\n",
       "      <th>7</th>\n",
       "      <td>2019-10-07 00:02:25</td>\n",
       "      <td>advert_open</td>\n",
       "      <td>020292ab-89bc-4156-9acf-68bc2783f894</td>\n",
       "      <td>other</td>\n",
       "      <td>0</td>\n",
       "      <td>2019-10-03</td>\n",
       "      <td>2019-10-01</td>\n",
       "      <td>2019-01-01</td>\n",
       "      <td>2019-10-07</td>\n",
       "      <td>2019-10-07</td>\n",
       "      <td>2019-10-07</td>\n",
       "      <td>2019-10-07</td>\n",
       "      <td>0</td>\n",
       "      <td>2019-10-07 00:02:01</td>\n",
       "      <td>0 days 00:00:24</td>\n",
       "      <td>1</td>\n",
       "    </tr>\n",
       "    <tr>\n",
       "      <th>8</th>\n",
       "      <td>2019-10-07 00:02:31</td>\n",
       "      <td>tips_show</td>\n",
       "      <td>020292ab-89bc-4156-9acf-68bc2783f894</td>\n",
       "      <td>other</td>\n",
       "      <td>0</td>\n",
       "      <td>2019-10-03</td>\n",
       "      <td>2019-10-01</td>\n",
       "      <td>2019-01-01</td>\n",
       "      <td>2019-10-07</td>\n",
       "      <td>2019-10-07</td>\n",
       "      <td>2019-10-07</td>\n",
       "      <td>2019-10-07</td>\n",
       "      <td>0</td>\n",
       "      <td>2019-10-07 00:02:25</td>\n",
       "      <td>0 days 00:00:06</td>\n",
       "      <td>1</td>\n",
       "    </tr>\n",
       "    <tr>\n",
       "      <th>9</th>\n",
       "      <td>2019-10-07 00:03:02</td>\n",
       "      <td>tips_show</td>\n",
       "      <td>020292ab-89bc-4156-9acf-68bc2783f894</td>\n",
       "      <td>other</td>\n",
       "      <td>0</td>\n",
       "      <td>2019-10-03</td>\n",
       "      <td>2019-10-01</td>\n",
       "      <td>2019-01-01</td>\n",
       "      <td>2019-10-07</td>\n",
       "      <td>2019-10-07</td>\n",
       "      <td>2019-10-07</td>\n",
       "      <td>2019-10-07</td>\n",
       "      <td>0</td>\n",
       "      <td>2019-10-07 00:02:31</td>\n",
       "      <td>0 days 00:00:31</td>\n",
       "      <td>1</td>\n",
       "    </tr>\n",
       "  </tbody>\n",
       "</table>\n",
       "</div>"
      ],
      "text/plain": [
       "           event_time   event_name                               user_id  \\\n",
       "0 2019-10-07 00:00:00  advert_open  020292ab-89bc-4156-9acf-68bc2783f894   \n",
       "1 2019-10-07 00:00:01    tips_show  020292ab-89bc-4156-9acf-68bc2783f894   \n",
       "2 2019-10-07 00:00:07    tips_show  020292ab-89bc-4156-9acf-68bc2783f894   \n",
       "3 2019-10-07 00:01:28  advert_open  020292ab-89bc-4156-9acf-68bc2783f894   \n",
       "4 2019-10-07 00:01:35    tips_show  020292ab-89bc-4156-9acf-68bc2783f894   \n",
       "5 2019-10-07 00:01:55  advert_open  020292ab-89bc-4156-9acf-68bc2783f894   \n",
       "6 2019-10-07 00:02:01    tips_show  020292ab-89bc-4156-9acf-68bc2783f894   \n",
       "7 2019-10-07 00:02:25  advert_open  020292ab-89bc-4156-9acf-68bc2783f894   \n",
       "8 2019-10-07 00:02:31    tips_show  020292ab-89bc-4156-9acf-68bc2783f894   \n",
       "9 2019-10-07 00:03:02    tips_show  020292ab-89bc-4156-9acf-68bc2783f894   \n",
       "\n",
       "  source  event_hour event_week event_month event_year event_date   start_dt  \\\n",
       "0  other           0 2019-10-03  2019-10-01 2019-01-01 2019-10-07 2019-10-07   \n",
       "1  other           0 2019-10-03  2019-10-01 2019-01-01 2019-10-07 2019-10-07   \n",
       "2  other           0 2019-10-03  2019-10-01 2019-01-01 2019-10-07 2019-10-07   \n",
       "3  other           0 2019-10-03  2019-10-01 2019-01-01 2019-10-07 2019-10-07   \n",
       "4  other           0 2019-10-03  2019-10-01 2019-01-01 2019-10-07 2019-10-07   \n",
       "5  other           0 2019-10-03  2019-10-01 2019-01-01 2019-10-07 2019-10-07   \n",
       "6  other           0 2019-10-03  2019-10-01 2019-01-01 2019-10-07 2019-10-07   \n",
       "7  other           0 2019-10-03  2019-10-01 2019-01-01 2019-10-07 2019-10-07   \n",
       "8  other           0 2019-10-03  2019-10-01 2019-01-01 2019-10-07 2019-10-07   \n",
       "9  other           0 2019-10-03  2019-10-01 2019-01-01 2019-10-07 2019-10-07   \n",
       "\n",
       "  activ_week start_week  cohort_lifetime     pre_action_time  active_session  \\\n",
       "0 2019-10-07 2019-10-07                0                 NaT             NaT   \n",
       "1 2019-10-07 2019-10-07                0 2019-10-07 00:00:00 0 days 00:00:01   \n",
       "2 2019-10-07 2019-10-07                0 2019-10-07 00:00:01 0 days 00:00:06   \n",
       "3 2019-10-07 2019-10-07                0 2019-10-07 00:00:07 0 days 00:01:21   \n",
       "4 2019-10-07 2019-10-07                0 2019-10-07 00:01:28 0 days 00:00:07   \n",
       "5 2019-10-07 2019-10-07                0 2019-10-07 00:01:35 0 days 00:00:20   \n",
       "6 2019-10-07 2019-10-07                0 2019-10-07 00:01:55 0 days 00:00:06   \n",
       "7 2019-10-07 2019-10-07                0 2019-10-07 00:02:01 0 days 00:00:24   \n",
       "8 2019-10-07 2019-10-07                0 2019-10-07 00:02:25 0 days 00:00:06   \n",
       "9 2019-10-07 2019-10-07                0 2019-10-07 00:02:31 0 days 00:00:31   \n",
       "\n",
       "   session_num  \n",
       "0            1  \n",
       "1            1  \n",
       "2            1  \n",
       "3            1  \n",
       "4            1  \n",
       "5            1  \n",
       "6            1  \n",
       "7            1  \n",
       "8            1  \n",
       "9            1  "
      ]
     },
     "execution_count": 47,
     "metadata": {},
     "output_type": "execute_result"
    }
   ],
   "source": [
    "df.head(10)"
   ]
  },
  {
   "cell_type": "markdown",
   "metadata": {},
   "source": [
    "фильтруем столбец \"active_session\" следующим образом - если промежуток между действиями больше 30 минут - заменяем его на NaN"
   ]
  },
  {
   "cell_type": "code",
   "execution_count": 48,
   "metadata": {},
   "outputs": [
    {
     "data": {
      "text/html": [
       "<div>\n",
       "<style scoped>\n",
       "    .dataframe tbody tr th:only-of-type {\n",
       "        vertical-align: middle;\n",
       "    }\n",
       "\n",
       "    .dataframe tbody tr th {\n",
       "        vertical-align: top;\n",
       "    }\n",
       "\n",
       "    .dataframe thead th {\n",
       "        text-align: right;\n",
       "    }\n",
       "</style>\n",
       "<table border=\"1\" class=\"dataframe\">\n",
       "  <thead>\n",
       "    <tr style=\"text-align: right;\">\n",
       "      <th></th>\n",
       "      <th>event_time</th>\n",
       "      <th>event_name</th>\n",
       "      <th>user_id</th>\n",
       "      <th>source</th>\n",
       "      <th>event_hour</th>\n",
       "      <th>event_week</th>\n",
       "      <th>event_month</th>\n",
       "      <th>event_year</th>\n",
       "      <th>event_date</th>\n",
       "      <th>start_dt</th>\n",
       "      <th>activ_week</th>\n",
       "      <th>start_week</th>\n",
       "      <th>cohort_lifetime</th>\n",
       "      <th>pre_action_time</th>\n",
       "      <th>active_session</th>\n",
       "      <th>session_num</th>\n",
       "    </tr>\n",
       "  </thead>\n",
       "  <tbody>\n",
       "    <tr>\n",
       "      <th>0</th>\n",
       "      <td>2019-10-07 00:00:00</td>\n",
       "      <td>advert_open</td>\n",
       "      <td>020292ab-89bc-4156-9acf-68bc2783f894</td>\n",
       "      <td>other</td>\n",
       "      <td>0</td>\n",
       "      <td>2019-10-03</td>\n",
       "      <td>2019-10-01</td>\n",
       "      <td>2019-01-01</td>\n",
       "      <td>2019-10-07</td>\n",
       "      <td>2019-10-07</td>\n",
       "      <td>2019-10-07</td>\n",
       "      <td>2019-10-07</td>\n",
       "      <td>0</td>\n",
       "      <td>NaT</td>\n",
       "      <td>NaT</td>\n",
       "      <td>1</td>\n",
       "    </tr>\n",
       "    <tr>\n",
       "      <th>1</th>\n",
       "      <td>2019-10-07 00:00:01</td>\n",
       "      <td>tips_show</td>\n",
       "      <td>020292ab-89bc-4156-9acf-68bc2783f894</td>\n",
       "      <td>other</td>\n",
       "      <td>0</td>\n",
       "      <td>2019-10-03</td>\n",
       "      <td>2019-10-01</td>\n",
       "      <td>2019-01-01</td>\n",
       "      <td>2019-10-07</td>\n",
       "      <td>2019-10-07</td>\n",
       "      <td>2019-10-07</td>\n",
       "      <td>2019-10-07</td>\n",
       "      <td>0</td>\n",
       "      <td>2019-10-07 00:00:00</td>\n",
       "      <td>0 days 00:00:01</td>\n",
       "      <td>1</td>\n",
       "    </tr>\n",
       "    <tr>\n",
       "      <th>2</th>\n",
       "      <td>2019-10-07 00:00:07</td>\n",
       "      <td>tips_show</td>\n",
       "      <td>020292ab-89bc-4156-9acf-68bc2783f894</td>\n",
       "      <td>other</td>\n",
       "      <td>0</td>\n",
       "      <td>2019-10-03</td>\n",
       "      <td>2019-10-01</td>\n",
       "      <td>2019-01-01</td>\n",
       "      <td>2019-10-07</td>\n",
       "      <td>2019-10-07</td>\n",
       "      <td>2019-10-07</td>\n",
       "      <td>2019-10-07</td>\n",
       "      <td>0</td>\n",
       "      <td>2019-10-07 00:00:01</td>\n",
       "      <td>0 days 00:00:06</td>\n",
       "      <td>1</td>\n",
       "    </tr>\n",
       "    <tr>\n",
       "      <th>3</th>\n",
       "      <td>2019-10-07 00:01:28</td>\n",
       "      <td>advert_open</td>\n",
       "      <td>020292ab-89bc-4156-9acf-68bc2783f894</td>\n",
       "      <td>other</td>\n",
       "      <td>0</td>\n",
       "      <td>2019-10-03</td>\n",
       "      <td>2019-10-01</td>\n",
       "      <td>2019-01-01</td>\n",
       "      <td>2019-10-07</td>\n",
       "      <td>2019-10-07</td>\n",
       "      <td>2019-10-07</td>\n",
       "      <td>2019-10-07</td>\n",
       "      <td>0</td>\n",
       "      <td>2019-10-07 00:00:07</td>\n",
       "      <td>0 days 00:01:21</td>\n",
       "      <td>1</td>\n",
       "    </tr>\n",
       "    <tr>\n",
       "      <th>4</th>\n",
       "      <td>2019-10-07 00:01:35</td>\n",
       "      <td>tips_show</td>\n",
       "      <td>020292ab-89bc-4156-9acf-68bc2783f894</td>\n",
       "      <td>other</td>\n",
       "      <td>0</td>\n",
       "      <td>2019-10-03</td>\n",
       "      <td>2019-10-01</td>\n",
       "      <td>2019-01-01</td>\n",
       "      <td>2019-10-07</td>\n",
       "      <td>2019-10-07</td>\n",
       "      <td>2019-10-07</td>\n",
       "      <td>2019-10-07</td>\n",
       "      <td>0</td>\n",
       "      <td>2019-10-07 00:01:28</td>\n",
       "      <td>0 days 00:00:07</td>\n",
       "      <td>1</td>\n",
       "    </tr>\n",
       "    <tr>\n",
       "      <th>5</th>\n",
       "      <td>2019-10-07 00:01:55</td>\n",
       "      <td>advert_open</td>\n",
       "      <td>020292ab-89bc-4156-9acf-68bc2783f894</td>\n",
       "      <td>other</td>\n",
       "      <td>0</td>\n",
       "      <td>2019-10-03</td>\n",
       "      <td>2019-10-01</td>\n",
       "      <td>2019-01-01</td>\n",
       "      <td>2019-10-07</td>\n",
       "      <td>2019-10-07</td>\n",
       "      <td>2019-10-07</td>\n",
       "      <td>2019-10-07</td>\n",
       "      <td>0</td>\n",
       "      <td>2019-10-07 00:01:35</td>\n",
       "      <td>0 days 00:00:20</td>\n",
       "      <td>1</td>\n",
       "    </tr>\n",
       "    <tr>\n",
       "      <th>6</th>\n",
       "      <td>2019-10-07 00:02:01</td>\n",
       "      <td>tips_show</td>\n",
       "      <td>020292ab-89bc-4156-9acf-68bc2783f894</td>\n",
       "      <td>other</td>\n",
       "      <td>0</td>\n",
       "      <td>2019-10-03</td>\n",
       "      <td>2019-10-01</td>\n",
       "      <td>2019-01-01</td>\n",
       "      <td>2019-10-07</td>\n",
       "      <td>2019-10-07</td>\n",
       "      <td>2019-10-07</td>\n",
       "      <td>2019-10-07</td>\n",
       "      <td>0</td>\n",
       "      <td>2019-10-07 00:01:55</td>\n",
       "      <td>0 days 00:00:06</td>\n",
       "      <td>1</td>\n",
       "    </tr>\n",
       "    <tr>\n",
       "      <th>7</th>\n",
       "      <td>2019-10-07 00:02:25</td>\n",
       "      <td>advert_open</td>\n",
       "      <td>020292ab-89bc-4156-9acf-68bc2783f894</td>\n",
       "      <td>other</td>\n",
       "      <td>0</td>\n",
       "      <td>2019-10-03</td>\n",
       "      <td>2019-10-01</td>\n",
       "      <td>2019-01-01</td>\n",
       "      <td>2019-10-07</td>\n",
       "      <td>2019-10-07</td>\n",
       "      <td>2019-10-07</td>\n",
       "      <td>2019-10-07</td>\n",
       "      <td>0</td>\n",
       "      <td>2019-10-07 00:02:01</td>\n",
       "      <td>0 days 00:00:24</td>\n",
       "      <td>1</td>\n",
       "    </tr>\n",
       "    <tr>\n",
       "      <th>8</th>\n",
       "      <td>2019-10-07 00:02:31</td>\n",
       "      <td>tips_show</td>\n",
       "      <td>020292ab-89bc-4156-9acf-68bc2783f894</td>\n",
       "      <td>other</td>\n",
       "      <td>0</td>\n",
       "      <td>2019-10-03</td>\n",
       "      <td>2019-10-01</td>\n",
       "      <td>2019-01-01</td>\n",
       "      <td>2019-10-07</td>\n",
       "      <td>2019-10-07</td>\n",
       "      <td>2019-10-07</td>\n",
       "      <td>2019-10-07</td>\n",
       "      <td>0</td>\n",
       "      <td>2019-10-07 00:02:25</td>\n",
       "      <td>0 days 00:00:06</td>\n",
       "      <td>1</td>\n",
       "    </tr>\n",
       "    <tr>\n",
       "      <th>9</th>\n",
       "      <td>2019-10-07 00:03:02</td>\n",
       "      <td>tips_show</td>\n",
       "      <td>020292ab-89bc-4156-9acf-68bc2783f894</td>\n",
       "      <td>other</td>\n",
       "      <td>0</td>\n",
       "      <td>2019-10-03</td>\n",
       "      <td>2019-10-01</td>\n",
       "      <td>2019-01-01</td>\n",
       "      <td>2019-10-07</td>\n",
       "      <td>2019-10-07</td>\n",
       "      <td>2019-10-07</td>\n",
       "      <td>2019-10-07</td>\n",
       "      <td>0</td>\n",
       "      <td>2019-10-07 00:02:31</td>\n",
       "      <td>0 days 00:00:31</td>\n",
       "      <td>1</td>\n",
       "    </tr>\n",
       "  </tbody>\n",
       "</table>\n",
       "</div>"
      ],
      "text/plain": [
       "           event_time   event_name                               user_id  \\\n",
       "0 2019-10-07 00:00:00  advert_open  020292ab-89bc-4156-9acf-68bc2783f894   \n",
       "1 2019-10-07 00:00:01    tips_show  020292ab-89bc-4156-9acf-68bc2783f894   \n",
       "2 2019-10-07 00:00:07    tips_show  020292ab-89bc-4156-9acf-68bc2783f894   \n",
       "3 2019-10-07 00:01:28  advert_open  020292ab-89bc-4156-9acf-68bc2783f894   \n",
       "4 2019-10-07 00:01:35    tips_show  020292ab-89bc-4156-9acf-68bc2783f894   \n",
       "5 2019-10-07 00:01:55  advert_open  020292ab-89bc-4156-9acf-68bc2783f894   \n",
       "6 2019-10-07 00:02:01    tips_show  020292ab-89bc-4156-9acf-68bc2783f894   \n",
       "7 2019-10-07 00:02:25  advert_open  020292ab-89bc-4156-9acf-68bc2783f894   \n",
       "8 2019-10-07 00:02:31    tips_show  020292ab-89bc-4156-9acf-68bc2783f894   \n",
       "9 2019-10-07 00:03:02    tips_show  020292ab-89bc-4156-9acf-68bc2783f894   \n",
       "\n",
       "  source  event_hour event_week event_month event_year event_date   start_dt  \\\n",
       "0  other           0 2019-10-03  2019-10-01 2019-01-01 2019-10-07 2019-10-07   \n",
       "1  other           0 2019-10-03  2019-10-01 2019-01-01 2019-10-07 2019-10-07   \n",
       "2  other           0 2019-10-03  2019-10-01 2019-01-01 2019-10-07 2019-10-07   \n",
       "3  other           0 2019-10-03  2019-10-01 2019-01-01 2019-10-07 2019-10-07   \n",
       "4  other           0 2019-10-03  2019-10-01 2019-01-01 2019-10-07 2019-10-07   \n",
       "5  other           0 2019-10-03  2019-10-01 2019-01-01 2019-10-07 2019-10-07   \n",
       "6  other           0 2019-10-03  2019-10-01 2019-01-01 2019-10-07 2019-10-07   \n",
       "7  other           0 2019-10-03  2019-10-01 2019-01-01 2019-10-07 2019-10-07   \n",
       "8  other           0 2019-10-03  2019-10-01 2019-01-01 2019-10-07 2019-10-07   \n",
       "9  other           0 2019-10-03  2019-10-01 2019-01-01 2019-10-07 2019-10-07   \n",
       "\n",
       "  activ_week start_week  cohort_lifetime     pre_action_time  active_session  \\\n",
       "0 2019-10-07 2019-10-07                0                 NaT             NaT   \n",
       "1 2019-10-07 2019-10-07                0 2019-10-07 00:00:00 0 days 00:00:01   \n",
       "2 2019-10-07 2019-10-07                0 2019-10-07 00:00:01 0 days 00:00:06   \n",
       "3 2019-10-07 2019-10-07                0 2019-10-07 00:00:07 0 days 00:01:21   \n",
       "4 2019-10-07 2019-10-07                0 2019-10-07 00:01:28 0 days 00:00:07   \n",
       "5 2019-10-07 2019-10-07                0 2019-10-07 00:01:35 0 days 00:00:20   \n",
       "6 2019-10-07 2019-10-07                0 2019-10-07 00:01:55 0 days 00:00:06   \n",
       "7 2019-10-07 2019-10-07                0 2019-10-07 00:02:01 0 days 00:00:24   \n",
       "8 2019-10-07 2019-10-07                0 2019-10-07 00:02:25 0 days 00:00:06   \n",
       "9 2019-10-07 2019-10-07                0 2019-10-07 00:02:31 0 days 00:00:31   \n",
       "\n",
       "   session_num  \n",
       "0            1  \n",
       "1            1  \n",
       "2            1  \n",
       "3            1  \n",
       "4            1  \n",
       "5            1  \n",
       "6            1  \n",
       "7            1  \n",
       "8            1  \n",
       "9            1  "
      ]
     },
     "execution_count": 48,
     "metadata": {},
     "output_type": "execute_result"
    }
   ],
   "source": [
    "df['active_session'].loc[(df['active_session'] > pd.Timedelta(30,'m'))] = np.nan\n",
    "df.head(10)"
   ]
  },
  {
   "cell_type": "markdown",
   "metadata": {},
   "source": [
    "NaNы заменим на 0,чтобы при суммировании не возникло проблем"
   ]
  },
  {
   "cell_type": "code",
   "execution_count": 49,
   "metadata": {},
   "outputs": [],
   "source": [
    "df['active_session'].fillna('0',inplace=True)"
   ]
  },
  {
   "cell_type": "markdown",
   "metadata": {},
   "source": [
    "Посмотрим на время в приложении"
   ]
  },
  {
   "cell_type": "code",
   "execution_count": 50,
   "metadata": {},
   "outputs": [],
   "source": [
    "total_session = df.groupby(['user_id','session_num'], as_index=False)\\\n",
    ".agg({'active_session':'sum'})"
   ]
  },
  {
   "cell_type": "code",
   "execution_count": 51,
   "metadata": {},
   "outputs": [
    {
     "data": {
      "text/html": [
       "<div>\n",
       "<style scoped>\n",
       "    .dataframe tbody tr th:only-of-type {\n",
       "        vertical-align: middle;\n",
       "    }\n",
       "\n",
       "    .dataframe tbody tr th {\n",
       "        vertical-align: top;\n",
       "    }\n",
       "\n",
       "    .dataframe thead th {\n",
       "        text-align: right;\n",
       "    }\n",
       "</style>\n",
       "<table border=\"1\" class=\"dataframe\">\n",
       "  <thead>\n",
       "    <tr style=\"text-align: right;\">\n",
       "      <th></th>\n",
       "      <th>user_id</th>\n",
       "      <th>session_num</th>\n",
       "      <th>active_session</th>\n",
       "    </tr>\n",
       "  </thead>\n",
       "  <tbody>\n",
       "    <tr>\n",
       "      <th>0</th>\n",
       "      <td>0001b1d5-b74a-4cbf-aeb0-7df5947bf349</td>\n",
       "      <td>1</td>\n",
       "      <td>0 days 00:09:56</td>\n",
       "    </tr>\n",
       "    <tr>\n",
       "      <th>1</th>\n",
       "      <td>0001b1d5-b74a-4cbf-aeb0-7df5947bf349</td>\n",
       "      <td>2</td>\n",
       "      <td>0 days 00:08:27</td>\n",
       "    </tr>\n",
       "    <tr>\n",
       "      <th>2</th>\n",
       "      <td>0001b1d5-b74a-4cbf-aeb0-7df5947bf349</td>\n",
       "      <td>3</td>\n",
       "      <td>0 days 00:14:59</td>\n",
       "    </tr>\n",
       "    <tr>\n",
       "      <th>3</th>\n",
       "      <td>0001b1d5-b74a-4cbf-aeb0-7df5947bf349</td>\n",
       "      <td>4</td>\n",
       "      <td>0 days 00:12:38</td>\n",
       "    </tr>\n",
       "    <tr>\n",
       "      <th>4</th>\n",
       "      <td>00157779-810c-4498-9e05-a1e9e3cedf93</td>\n",
       "      <td>1</td>\n",
       "      <td>0 days 00:25:21</td>\n",
       "    </tr>\n",
       "    <tr>\n",
       "      <th>5</th>\n",
       "      <td>00157779-810c-4498-9e05-a1e9e3cedf93</td>\n",
       "      <td>2</td>\n",
       "      <td>0 days 01:16:12</td>\n",
       "    </tr>\n",
       "    <tr>\n",
       "      <th>6</th>\n",
       "      <td>00157779-810c-4498-9e05-a1e9e3cedf93</td>\n",
       "      <td>3</td>\n",
       "      <td>0 days 00:06:33</td>\n",
       "    </tr>\n",
       "    <tr>\n",
       "      <th>7</th>\n",
       "      <td>00157779-810c-4498-9e05-a1e9e3cedf93</td>\n",
       "      <td>4</td>\n",
       "      <td>0 days 00:52:01</td>\n",
       "    </tr>\n",
       "    <tr>\n",
       "      <th>8</th>\n",
       "      <td>00157779-810c-4498-9e05-a1e9e3cedf93</td>\n",
       "      <td>5</td>\n",
       "      <td>0 days 00:36:08</td>\n",
       "    </tr>\n",
       "    <tr>\n",
       "      <th>9</th>\n",
       "      <td>00157779-810c-4498-9e05-a1e9e3cedf93</td>\n",
       "      <td>6</td>\n",
       "      <td>0 days 00:00:00</td>\n",
       "    </tr>\n",
       "  </tbody>\n",
       "</table>\n",
       "</div>"
      ],
      "text/plain": [
       "                                user_id  session_num  active_session\n",
       "0  0001b1d5-b74a-4cbf-aeb0-7df5947bf349            1 0 days 00:09:56\n",
       "1  0001b1d5-b74a-4cbf-aeb0-7df5947bf349            2 0 days 00:08:27\n",
       "2  0001b1d5-b74a-4cbf-aeb0-7df5947bf349            3 0 days 00:14:59\n",
       "3  0001b1d5-b74a-4cbf-aeb0-7df5947bf349            4 0 days 00:12:38\n",
       "4  00157779-810c-4498-9e05-a1e9e3cedf93            1 0 days 00:25:21\n",
       "5  00157779-810c-4498-9e05-a1e9e3cedf93            2 0 days 01:16:12\n",
       "6  00157779-810c-4498-9e05-a1e9e3cedf93            3 0 days 00:06:33\n",
       "7  00157779-810c-4498-9e05-a1e9e3cedf93            4 0 days 00:52:01\n",
       "8  00157779-810c-4498-9e05-a1e9e3cedf93            5 0 days 00:36:08\n",
       "9  00157779-810c-4498-9e05-a1e9e3cedf93            6 0 days 00:00:00"
      ]
     },
     "execution_count": 51,
     "metadata": {},
     "output_type": "execute_result"
    }
   ],
   "source": [
    "total_session.head(10)"
   ]
  },
  {
   "cell_type": "code",
   "execution_count": 52,
   "metadata": {},
   "outputs": [
    {
     "data": {
      "text/plain": [
       "count                        10368\n",
       "mean     0 days 00:12:52.668981481\n",
       "std      0 days 00:19:51.607952024\n",
       "min                0 days 00:00:00\n",
       "25%                0 days 00:00:21\n",
       "50%                0 days 00:05:35\n",
       "75%         0 days 00:17:25.250000\n",
       "max                0 days 05:21:58\n",
       "Name: active_session, dtype: object"
      ]
     },
     "execution_count": 52,
     "metadata": {},
     "output_type": "execute_result"
    }
   ],
   "source": [
    "total_session['active_session'].describe()"
   ]
  },
  {
   "cell_type": "code",
   "execution_count": 53,
   "metadata": {},
   "outputs": [
    {
     "data": {
      "text/plain": [
       "2.0"
      ]
     },
     "execution_count": 53,
     "metadata": {},
     "output_type": "execute_result"
    }
   ],
   "source": [
    "total_session['session_num'].median()"
   ]
  },
  {
   "cell_type": "markdown",
   "metadata": {},
   "source": [
    "Ну и посмотрим количество сеансов, рассматривать сразу будем по медиане"
   ]
  },
  {
   "cell_type": "code",
   "execution_count": 54,
   "metadata": {},
   "outputs": [
    {
     "data": {
      "text/plain": [
       "2.4150943396226414"
      ]
     },
     "execution_count": 54,
     "metadata": {},
     "output_type": "execute_result"
    }
   ],
   "source": [
    "total_session.groupby('user_id')['session_num'].count().mean()"
   ]
  },
  {
   "cell_type": "markdown",
   "metadata": {},
   "source": [
    "Анализ активности пользователей показал, что:\n",
    "\n",
    "В среднем пользователь проводит в приложении около 2 сессий в месяц, при этом каждая сессия длится примерно 13 минут.\n",
    "\n",
    "Медианное и среднее количество сессий почти совпадают, что говорит о стабильной структуре пользовательского поведения без значительных выбросов.\n",
    "\n",
    "Пользователь за месяц проводит в приложении от 30 до 40 минут, что может считаться приемлемым результатом для сервиса объявлений.\n",
    "\n",
    "Это поведение говорит о том, что пользователи, как правило, используют приложение для быстрого поиска нужной информации — они заходят, просматривают предложения и принимают решение. Долгое удержание в приложении здесь может быть не целью, а наоборот — простота и скорость взаимодействия важнее.\n",
    "\n",
    "Рекомендация: вместо увеличения времени в приложении, стоит сосредоточиться на повышении удобства и эффективности взаимодействия — чтобы пользователь мог быстро находить интересующие его товары и чаще возвращаться."
   ]
  },
  {
   "cell_type": "markdown",
   "metadata": {},
   "source": [
    "### Частота действий"
   ]
  },
  {
   "cell_type": "code",
   "execution_count": 55,
   "metadata": {},
   "outputs": [
    {
     "data": {
      "text/html": [
       "<div>\n",
       "<style scoped>\n",
       "    .dataframe tbody tr th:only-of-type {\n",
       "        vertical-align: middle;\n",
       "    }\n",
       "\n",
       "    .dataframe tbody tr th {\n",
       "        vertical-align: top;\n",
       "    }\n",
       "\n",
       "    .dataframe thead th {\n",
       "        text-align: right;\n",
       "    }\n",
       "</style>\n",
       "<table border=\"1\" class=\"dataframe\">\n",
       "  <thead>\n",
       "    <tr style=\"text-align: right;\">\n",
       "      <th></th>\n",
       "      <th>event_name</th>\n",
       "    </tr>\n",
       "  </thead>\n",
       "  <tbody>\n",
       "    <tr>\n",
       "      <th>tips_show</th>\n",
       "      <td>40055</td>\n",
       "    </tr>\n",
       "    <tr>\n",
       "      <th>photos_show</th>\n",
       "      <td>10012</td>\n",
       "    </tr>\n",
       "    <tr>\n",
       "      <th>search</th>\n",
       "      <td>6784</td>\n",
       "    </tr>\n",
       "    <tr>\n",
       "      <th>advert_open</th>\n",
       "      <td>6164</td>\n",
       "    </tr>\n",
       "    <tr>\n",
       "      <th>contacts_show</th>\n",
       "      <td>4529</td>\n",
       "    </tr>\n",
       "    <tr>\n",
       "      <th>map</th>\n",
       "      <td>3881</td>\n",
       "    </tr>\n",
       "    <tr>\n",
       "      <th>favorites_add</th>\n",
       "      <td>1417</td>\n",
       "    </tr>\n",
       "    <tr>\n",
       "      <th>tips_click</th>\n",
       "      <td>814</td>\n",
       "    </tr>\n",
       "    <tr>\n",
       "      <th>contacts_call</th>\n",
       "      <td>541</td>\n",
       "    </tr>\n",
       "  </tbody>\n",
       "</table>\n",
       "</div>"
      ],
      "text/plain": [
       "               event_name\n",
       "tips_show           40055\n",
       "photos_show         10012\n",
       "search               6784\n",
       "advert_open          6164\n",
       "contacts_show        4529\n",
       "map                  3881\n",
       "favorites_add        1417\n",
       "tips_click            814\n",
       "contacts_call         541"
      ]
     },
     "execution_count": 55,
     "metadata": {},
     "output_type": "execute_result"
    }
   ],
   "source": [
    "full_events = df['event_name'].value_counts().to_frame()\n",
    "full_events"
   ]
  },
  {
   "cell_type": "code",
   "execution_count": 56,
   "metadata": {},
   "outputs": [
    {
     "data": {
      "image/png": "[encoded data removed]",
      "text/plain": [
       "<Figure size 1008x576 with 1 Axes>"
      ]
     },
     "metadata": {},
     "output_type": "display_data"
    }
   ],
   "source": [
    "full_events.plot(kind='bar', figsize=(14,8))\n",
    "plt.title('Часто совершаемые события в приложении', fontsize=20)\n",
    "plt.gca().set(xlabel='типы событий', ylabel='количество повторений событий')\n",
    "plt.xticks(rotation=45)\n",
    "plt;"
   ]
  },
  {
   "cell_type": "markdown",
   "metadata": {},
   "source": [
    "Количество пользователей совершавших каждое действие"
   ]
  },
  {
   "cell_type": "code",
   "execution_count": 57,
   "metadata": {},
   "outputs": [],
   "source": [
    "def get_event_count(event_name):\n",
    "    users_count = df[df['event_name'] == event_name]['user_id'].nunique()\n",
    "    return users_count"
   ]
  },
  {
   "cell_type": "code",
   "execution_count": 58,
   "metadata": {},
   "outputs": [
    {
     "data": {
      "text/html": [
       "<div>\n",
       "<style scoped>\n",
       "    .dataframe tbody tr th:only-of-type {\n",
       "        vertical-align: middle;\n",
       "    }\n",
       "\n",
       "    .dataframe tbody tr th {\n",
       "        vertical-align: top;\n",
       "    }\n",
       "\n",
       "    .dataframe thead th {\n",
       "        text-align: right;\n",
       "    }\n",
       "</style>\n",
       "<table border=\"1\" class=\"dataframe\">\n",
       "  <thead>\n",
       "    <tr style=\"text-align: right;\">\n",
       "      <th></th>\n",
       "      <th>event_name</th>\n",
       "      <th>no. of users</th>\n",
       "      <th>percent_of_events</th>\n",
       "      <th>percent_of_unique_users</th>\n",
       "    </tr>\n",
       "  </thead>\n",
       "  <tbody>\n",
       "    <tr>\n",
       "      <th>tips_show</th>\n",
       "      <td>40055</td>\n",
       "      <td>2801</td>\n",
       "      <td>53.98</td>\n",
       "      <td>65.25</td>\n",
       "    </tr>\n",
       "    <tr>\n",
       "      <th>search</th>\n",
       "      <td>6784</td>\n",
       "      <td>1666</td>\n",
       "      <td>9.14</td>\n",
       "      <td>38.81</td>\n",
       "    </tr>\n",
       "    <tr>\n",
       "      <th>map</th>\n",
       "      <td>3881</td>\n",
       "      <td>1456</td>\n",
       "      <td>5.23</td>\n",
       "      <td>33.92</td>\n",
       "    </tr>\n",
       "    <tr>\n",
       "      <th>photos_show</th>\n",
       "      <td>10012</td>\n",
       "      <td>1095</td>\n",
       "      <td>13.49</td>\n",
       "      <td>25.51</td>\n",
       "    </tr>\n",
       "    <tr>\n",
       "      <th>contacts_show</th>\n",
       "      <td>4529</td>\n",
       "      <td>981</td>\n",
       "      <td>6.10</td>\n",
       "      <td>22.85</td>\n",
       "    </tr>\n",
       "    <tr>\n",
       "      <th>advert_open</th>\n",
       "      <td>6164</td>\n",
       "      <td>751</td>\n",
       "      <td>8.31</td>\n",
       "      <td>17.49</td>\n",
       "    </tr>\n",
       "    <tr>\n",
       "      <th>favorites_add</th>\n",
       "      <td>1417</td>\n",
       "      <td>351</td>\n",
       "      <td>1.91</td>\n",
       "      <td>8.18</td>\n",
       "    </tr>\n",
       "    <tr>\n",
       "      <th>tips_click</th>\n",
       "      <td>814</td>\n",
       "      <td>322</td>\n",
       "      <td>1.10</td>\n",
       "      <td>7.50</td>\n",
       "    </tr>\n",
       "    <tr>\n",
       "      <th>contacts_call</th>\n",
       "      <td>541</td>\n",
       "      <td>213</td>\n",
       "      <td>0.73</td>\n",
       "      <td>4.96</td>\n",
       "    </tr>\n",
       "  </tbody>\n",
       "</table>\n",
       "</div>"
      ],
      "text/plain": [
       "               event_name  no. of users  percent_of_events  \\\n",
       "tips_show           40055          2801              53.98   \n",
       "search               6784          1666               9.14   \n",
       "map                  3881          1456               5.23   \n",
       "photos_show         10012          1095              13.49   \n",
       "contacts_show        4529           981               6.10   \n",
       "advert_open          6164           751               8.31   \n",
       "favorites_add        1417           351               1.91   \n",
       "tips_click            814           322               1.10   \n",
       "contacts_call         541           213               0.73   \n",
       "\n",
       "               percent_of_unique_users  \n",
       "tips_show                        65.25  \n",
       "search                           38.81  \n",
       "map                              33.92  \n",
       "photos_show                      25.51  \n",
       "contacts_show                    22.85  \n",
       "advert_open                      17.49  \n",
       "favorites_add                     8.18  \n",
       "tips_click                        7.50  \n",
       "contacts_call                     4.96  "
      ]
     },
     "execution_count": 58,
     "metadata": {},
     "output_type": "execute_result"
    }
   ],
   "source": [
    "events_count = full_events.reset_index()\n",
    "events_count['no. of users'] = events_count['index'].apply(get_event_count)\n",
    "events_count = events_count.sort_values(by='no. of users', ascending=False)\n",
    "events_count = events_count.set_index('index')\n",
    "events_count.index.name = None\n",
    "events_count['percent_of_events'] = events_count['event_name'].apply(lambda x: round(x/full_events['event_name'].sum()*100, 2))\n",
    "events_count['percent_of_unique_users'] = events_count['no. of users'].apply(lambda x: round(x/df['user_id'].nunique()*100, 2))\n",
    "events_count"
   ]
  },
  {
   "cell_type": "markdown",
   "metadata": {},
   "source": [
    "Анализ частоты пользовательских действий в приложении выявил следующие закономерности:\n",
    "\n",
    "Наиболее частое событие — tips_show (рекомендации) — оно охватывает более 65% пользователей и составляет около 54% всех событий. Это говорит о том, что рекомендации, вероятно, отображаются сразу при запуске приложения, автоматически.\n",
    "\n",
    "Просмотр фотографий (photos_show) — второе по популярности действие. Это может свидетельствовать о высоком интересе к визуальному контенту, что важно учитывать при разработке интерфейса.\n",
    "\n",
    "Поиск (search) используется сравнительно редко, несмотря на его важность для нахождения конкретных товаров. Только 39% пользователей обращаются к нему. Это может говорить о:\n",
    "\n",
    "- неудобном расположении элемента поиска,\n",
    "\n",
    "- или об отсутствии потребности в точном фильтрации — пользователи предпочитают \"пролистывать\" предложения.\n",
    "\n",
    "Действия, связанные с карточками объявлений (advert_open, contacts_show, contacts_call) совершаются существенно реже, особенно — звонки. Только около 5% пользователей совершают звонок через приложение. Это может быть связано с предпочтением звонков напрямую, мессенджерами или низкой заинтересованностью в товаре."
   ]
  },
  {
   "cell_type": "markdown",
   "metadata": {},
   "source": [
    "### Конверсия в целевое действие — просмотр контактов"
   ]
  },
  {
   "cell_type": "markdown",
   "metadata": {},
   "source": [
    "Cгруппируем данные по пользователям и номеру сессии и просуммируем время, проведенное в приложении"
   ]
  },
  {
   "cell_type": "code",
   "execution_count": 59,
   "metadata": {},
   "outputs": [],
   "source": [
    "features = df.groupby('user_id', as_index=False)\\\n",
    ".agg({'active_session':'sum', 'event_date':'count'})\\\n",
    ".rename(columns={'event_date':'visits'})"
   ]
  },
  {
   "cell_type": "code",
   "execution_count": 60,
   "metadata": {},
   "outputs": [
    {
     "data": {
      "text/html": [
       "<div>\n",
       "<style scoped>\n",
       "    .dataframe tbody tr th:only-of-type {\n",
       "        vertical-align: middle;\n",
       "    }\n",
       "\n",
       "    .dataframe tbody tr th {\n",
       "        vertical-align: top;\n",
       "    }\n",
       "\n",
       "    .dataframe thead th {\n",
       "        text-align: right;\n",
       "    }\n",
       "</style>\n",
       "<table border=\"1\" class=\"dataframe\">\n",
       "  <thead>\n",
       "    <tr style=\"text-align: right;\">\n",
       "      <th></th>\n",
       "      <th>user_id</th>\n",
       "      <th>active_session</th>\n",
       "      <th>visits</th>\n",
       "    </tr>\n",
       "  </thead>\n",
       "  <tbody>\n",
       "    <tr>\n",
       "      <th>0</th>\n",
       "      <td>0001b1d5-b74a-4cbf-aeb0-7df5947bf349</td>\n",
       "      <td>0 days 00:46:00</td>\n",
       "      <td>35</td>\n",
       "    </tr>\n",
       "    <tr>\n",
       "      <th>1</th>\n",
       "      <td>00157779-810c-4498-9e05-a1e9e3cedf93</td>\n",
       "      <td>0 days 03:16:15</td>\n",
       "      <td>71</td>\n",
       "    </tr>\n",
       "    <tr>\n",
       "      <th>2</th>\n",
       "      <td>00463033-5717-4bf1-91b4-09183923b9df</td>\n",
       "      <td>0 days 00:24:43</td>\n",
       "      <td>10</td>\n",
       "    </tr>\n",
       "    <tr>\n",
       "      <th>3</th>\n",
       "      <td>004690c3-5a84-4bb7-a8af-e0c8f8fca64e</td>\n",
       "      <td>0 days 01:50:44</td>\n",
       "      <td>32</td>\n",
       "    </tr>\n",
       "    <tr>\n",
       "      <th>4</th>\n",
       "      <td>00551e79-152e-4441-9cf7-565d7eb04090</td>\n",
       "      <td>0 days 00:09:20</td>\n",
       "      <td>8</td>\n",
       "    </tr>\n",
       "  </tbody>\n",
       "</table>\n",
       "</div>"
      ],
      "text/plain": [
       "                                user_id  active_session  visits\n",
       "0  0001b1d5-b74a-4cbf-aeb0-7df5947bf349 0 days 00:46:00      35\n",
       "1  00157779-810c-4498-9e05-a1e9e3cedf93 0 days 03:16:15      71\n",
       "2  00463033-5717-4bf1-91b4-09183923b9df 0 days 00:24:43      10\n",
       "3  004690c3-5a84-4bb7-a8af-e0c8f8fca64e 0 days 01:50:44      32\n",
       "4  00551e79-152e-4441-9cf7-565d7eb04090 0 days 00:09:20       8"
      ]
     },
     "execution_count": 60,
     "metadata": {},
     "output_type": "execute_result"
    }
   ],
   "source": [
    "features.head()"
   ]
  },
  {
   "cell_type": "markdown",
   "metadata": {},
   "source": [
    "посчитаем, сколько раз пользователи совершили целевое действие - просмотр контактов"
   ]
  },
  {
   "cell_type": "code",
   "execution_count": 61,
   "metadata": {},
   "outputs": [],
   "source": [
    "conversion = df.query('event_name==\"contacts_show\"')\\\n",
    ".groupby('user_id', as_index=False)\\\n",
    ".agg({'event_name':'count'})\\\n",
    ".rename(columns={'event_name':'conversions'})"
   ]
  },
  {
   "cell_type": "code",
   "execution_count": 62,
   "metadata": {},
   "outputs": [
    {
     "data": {
      "text/html": [
       "<div>\n",
       "<style scoped>\n",
       "    .dataframe tbody tr th:only-of-type {\n",
       "        vertical-align: middle;\n",
       "    }\n",
       "\n",
       "    .dataframe tbody tr th {\n",
       "        vertical-align: top;\n",
       "    }\n",
       "\n",
       "    .dataframe thead th {\n",
       "        text-align: right;\n",
       "    }\n",
       "</style>\n",
       "<table border=\"1\" class=\"dataframe\">\n",
       "  <thead>\n",
       "    <tr style=\"text-align: right;\">\n",
       "      <th></th>\n",
       "      <th>user_id</th>\n",
       "      <th>conversions</th>\n",
       "    </tr>\n",
       "  </thead>\n",
       "  <tbody>\n",
       "    <tr>\n",
       "      <th>0</th>\n",
       "      <td>00157779-810c-4498-9e05-a1e9e3cedf93</td>\n",
       "      <td>11</td>\n",
       "    </tr>\n",
       "    <tr>\n",
       "      <th>1</th>\n",
       "      <td>00551e79-152e-4441-9cf7-565d7eb04090</td>\n",
       "      <td>3</td>\n",
       "    </tr>\n",
       "    <tr>\n",
       "      <th>2</th>\n",
       "      <td>005fbea5-2678-406f-88a6-fbe9787e2268</td>\n",
       "      <td>3</td>\n",
       "    </tr>\n",
       "    <tr>\n",
       "      <th>3</th>\n",
       "      <td>00753c79-ea81-4456-acd0-a47a23ca2fb9</td>\n",
       "      <td>1</td>\n",
       "    </tr>\n",
       "    <tr>\n",
       "      <th>4</th>\n",
       "      <td>007d031d-5018-4e02-b7ee-72a30609173f</td>\n",
       "      <td>2</td>\n",
       "    </tr>\n",
       "    <tr>\n",
       "      <th>...</th>\n",
       "      <td>...</td>\n",
       "      <td>...</td>\n",
       "    </tr>\n",
       "    <tr>\n",
       "      <th>976</th>\n",
       "      <td>fee3ba1c-16f4-46f7-bf56-4bf80cc4e2f5</td>\n",
       "      <td>17</td>\n",
       "    </tr>\n",
       "    <tr>\n",
       "      <th>977</th>\n",
       "      <td>ff1554b5-919e-40b1-90bb-ee1f7f6d5846</td>\n",
       "      <td>1</td>\n",
       "    </tr>\n",
       "    <tr>\n",
       "      <th>978</th>\n",
       "      <td>ffc01466-fdb1-4460-ae94-e800f52eb136</td>\n",
       "      <td>1</td>\n",
       "    </tr>\n",
       "    <tr>\n",
       "      <th>979</th>\n",
       "      <td>ffe68f10-e48e-470e-be9b-eeb93128ff1a</td>\n",
       "      <td>1</td>\n",
       "    </tr>\n",
       "    <tr>\n",
       "      <th>980</th>\n",
       "      <td>fffb9e79-b927-4dbb-9b48-7fd09b23a62b</td>\n",
       "      <td>68</td>\n",
       "    </tr>\n",
       "  </tbody>\n",
       "</table>\n",
       "<p>981 rows × 2 columns</p>\n",
       "</div>"
      ],
      "text/plain": [
       "                                  user_id  conversions\n",
       "0    00157779-810c-4498-9e05-a1e9e3cedf93           11\n",
       "1    00551e79-152e-4441-9cf7-565d7eb04090            3\n",
       "2    005fbea5-2678-406f-88a6-fbe9787e2268            3\n",
       "3    00753c79-ea81-4456-acd0-a47a23ca2fb9            1\n",
       "4    007d031d-5018-4e02-b7ee-72a30609173f            2\n",
       "..                                    ...          ...\n",
       "976  fee3ba1c-16f4-46f7-bf56-4bf80cc4e2f5           17\n",
       "977  ff1554b5-919e-40b1-90bb-ee1f7f6d5846            1\n",
       "978  ffc01466-fdb1-4460-ae94-e800f52eb136            1\n",
       "979  ffe68f10-e48e-470e-be9b-eeb93128ff1a            1\n",
       "980  fffb9e79-b927-4dbb-9b48-7fd09b23a62b           68\n",
       "\n",
       "[981 rows x 2 columns]"
      ]
     },
     "execution_count": 62,
     "metadata": {},
     "output_type": "execute_result"
    }
   ],
   "source": [
    "conversion"
   ]
  },
  {
   "cell_type": "markdown",
   "metadata": {},
   "source": [
    "добавим столбец conversions в датасет с признаками"
   ]
  },
  {
   "cell_type": "code",
   "execution_count": 63,
   "metadata": {},
   "outputs": [],
   "source": [
    "features = pd.merge(features, conversion, on='user_id', how='left')"
   ]
  },
  {
   "cell_type": "markdown",
   "metadata": {},
   "source": [
    "заменим пропуски нулями"
   ]
  },
  {
   "cell_type": "code",
   "execution_count": 64,
   "metadata": {},
   "outputs": [],
   "source": [
    "features['conversions'] = features['conversions'].fillna(0)"
   ]
  },
  {
   "cell_type": "code",
   "execution_count": 65,
   "metadata": {},
   "outputs": [
    {
     "data": {
      "text/html": [
       "<div>\n",
       "<style scoped>\n",
       "    .dataframe tbody tr th:only-of-type {\n",
       "        vertical-align: middle;\n",
       "    }\n",
       "\n",
       "    .dataframe tbody tr th {\n",
       "        vertical-align: top;\n",
       "    }\n",
       "\n",
       "    .dataframe thead th {\n",
       "        text-align: right;\n",
       "    }\n",
       "</style>\n",
       "<table border=\"1\" class=\"dataframe\">\n",
       "  <thead>\n",
       "    <tr style=\"text-align: right;\">\n",
       "      <th></th>\n",
       "      <th>user_id</th>\n",
       "      <th>active_session</th>\n",
       "      <th>visits</th>\n",
       "      <th>conversions</th>\n",
       "    </tr>\n",
       "  </thead>\n",
       "  <tbody>\n",
       "    <tr>\n",
       "      <th>3188</th>\n",
       "      <td>bfb4a245-978f-4e0d-b3d9-e46275df6dcb</td>\n",
       "      <td>0 days 00:24:50</td>\n",
       "      <td>5</td>\n",
       "      <td>0.00</td>\n",
       "    </tr>\n",
       "    <tr>\n",
       "      <th>2130</th>\n",
       "      <td>7f4f6c5b-7ce9-4141-9757-bf5922c5e061</td>\n",
       "      <td>0 days 02:09:10</td>\n",
       "      <td>53</td>\n",
       "      <td>0.00</td>\n",
       "    </tr>\n",
       "    <tr>\n",
       "      <th>3448</th>\n",
       "      <td>ce30f4d2-2c14-4317-b7cf-7eee595aac35</td>\n",
       "      <td>0 days 00:45:54</td>\n",
       "      <td>21</td>\n",
       "      <td>0.00</td>\n",
       "    </tr>\n",
       "    <tr>\n",
       "      <th>3156</th>\n",
       "      <td>bdd67a79-fbbe-40b0-a8f6-d8fa5a782a39</td>\n",
       "      <td>0 days 02:52:40</td>\n",
       "      <td>105</td>\n",
       "      <td>0.00</td>\n",
       "    </tr>\n",
       "    <tr>\n",
       "      <th>1548</th>\n",
       "      <td>5d82386f-d0ab-439c-92b1-d7572102c369</td>\n",
       "      <td>0 days 01:01:37</td>\n",
       "      <td>27</td>\n",
       "      <td>0.00</td>\n",
       "    </tr>\n",
       "    <tr>\n",
       "      <th>2036</th>\n",
       "      <td>7a4806d3-b727-43f7-9edc-d5068869d95d</td>\n",
       "      <td>0 days 04:32:47</td>\n",
       "      <td>124</td>\n",
       "      <td>4.00</td>\n",
       "    </tr>\n",
       "    <tr>\n",
       "      <th>3167</th>\n",
       "      <td>be849e0d-19af-45d9-9725-e79edf3d8b6f</td>\n",
       "      <td>0 days 00:10:31</td>\n",
       "      <td>6</td>\n",
       "      <td>0.00</td>\n",
       "    </tr>\n",
       "    <tr>\n",
       "      <th>2068</th>\n",
       "      <td>7c311438-9726-4487-bc7a-21f23ab31dae</td>\n",
       "      <td>0 days 00:11:11</td>\n",
       "      <td>8</td>\n",
       "      <td>0.00</td>\n",
       "    </tr>\n",
       "    <tr>\n",
       "      <th>3252</th>\n",
       "      <td>c2e5c060-fdd6-4b17-880b-c3902733e975</td>\n",
       "      <td>0 days 00:36:11</td>\n",
       "      <td>20</td>\n",
       "      <td>3.00</td>\n",
       "    </tr>\n",
       "    <tr>\n",
       "      <th>1593</th>\n",
       "      <td>5f71e670-bb34-45da-a287-96f92eedfd6c</td>\n",
       "      <td>0 days 00:01:13</td>\n",
       "      <td>6</td>\n",
       "      <td>0.00</td>\n",
       "    </tr>\n",
       "  </tbody>\n",
       "</table>\n",
       "</div>"
      ],
      "text/plain": [
       "                                   user_id  active_session  visits  \\\n",
       "3188  bfb4a245-978f-4e0d-b3d9-e46275df6dcb 0 days 00:24:50       5   \n",
       "2130  7f4f6c5b-7ce9-4141-9757-bf5922c5e061 0 days 02:09:10      53   \n",
       "3448  ce30f4d2-2c14-4317-b7cf-7eee595aac35 0 days 00:45:54      21   \n",
       "3156  bdd67a79-fbbe-40b0-a8f6-d8fa5a782a39 0 days 02:52:40     105   \n",
       "1548  5d82386f-d0ab-439c-92b1-d7572102c369 0 days 01:01:37      27   \n",
       "2036  7a4806d3-b727-43f7-9edc-d5068869d95d 0 days 04:32:47     124   \n",
       "3167  be849e0d-19af-45d9-9725-e79edf3d8b6f 0 days 00:10:31       6   \n",
       "2068  7c311438-9726-4487-bc7a-21f23ab31dae 0 days 00:11:11       8   \n",
       "3252  c2e5c060-fdd6-4b17-880b-c3902733e975 0 days 00:36:11      20   \n",
       "1593  5f71e670-bb34-45da-a287-96f92eedfd6c 0 days 00:01:13       6   \n",
       "\n",
       "      conversions  \n",
       "3188         0.00  \n",
       "2130         0.00  \n",
       "3448         0.00  \n",
       "3156         0.00  \n",
       "1548         0.00  \n",
       "2036         4.00  \n",
       "3167         0.00  \n",
       "2068         0.00  \n",
       "3252         3.00  \n",
       "1593         0.00  "
      ]
     },
     "execution_count": 65,
     "metadata": {},
     "output_type": "execute_result"
    }
   ],
   "source": [
    "features.sample(10)"
   ]
  },
  {
   "cell_type": "markdown",
   "metadata": {},
   "source": [
    "Построим график количества конверсий в просмотр контакта"
   ]
  },
  {
   "cell_type": "code",
   "execution_count": 66,
   "metadata": {},
   "outputs": [
    {
     "data": {
      "image/png": "[encoded data removed]",
      "text/plain": [
       "<Figure size 1080x576 with 1 Axes>"
      ]
     },
     "metadata": {},
     "output_type": "display_data"
    },
    {
     "name": "stdout",
     "output_type": "stream",
     "text": [
      "[ 2.  5. 15.]\n"
     ]
    }
   ],
   "source": [
    "plt.figure(figsize=(15, 8))\n",
    "sns.histplot(features['conversions'], bins=100)\n",
    "plt.title('Количество конверсий в целевое действие — просмотр контактов')\n",
    "plt.xlabel('Количество конверсий')\n",
    "plt.ylabel('Количество пользователей')\n",
    "plt.xlim(0, 50)\n",
    "plt.show()\n",
    "print(np.percentile(features['conversions'], [90, 95, 99]))"
   ]
  },
  {
   "cell_type": "markdown",
   "metadata": {},
   "source": [
    "На каждого пользователя приходится от одной до 5 сессий;\n",
    "Большая часть пользователей не совершает целевое действие - просмотр контактов.\n",
    "\n",
    "Чтобы вычислить конверсию в действие contacts_show, отфильтруем основной датафрейм (с помощью метода query) по интересующему нас действию. Затем найдем количество уникальных пользователей в отфильтрованной таблице и разделим количество уникальных пользователей из отфильтрованной таблицы contacts_show_df на количество уникальных пользователей из основной таблицы и умножим на 100"
   ]
  },
  {
   "cell_type": "code",
   "execution_count": 67,
   "metadata": {},
   "outputs": [],
   "source": [
    "contacts_show_df = df.query('event_name == \"contacts_show\"')"
   ]
  },
  {
   "cell_type": "code",
   "execution_count": 68,
   "metadata": {},
   "outputs": [
    {
     "data": {
      "text/plain": [
       "981"
      ]
     },
     "execution_count": 68,
     "metadata": {},
     "output_type": "execute_result"
    }
   ],
   "source": [
    "contacts_show_df['user_id'].nunique()"
   ]
  },
  {
   "cell_type": "code",
   "execution_count": 69,
   "metadata": {},
   "outputs": [
    {
     "data": {
      "text/plain": [
       "22.851153039832283"
      ]
     },
     "execution_count": 69,
     "metadata": {},
     "output_type": "execute_result"
    }
   ],
   "source": [
    "(contacts_show_df['user_id'].nunique() / df['user_id'].nunique()) * 100"
   ]
  },
  {
   "cell_type": "markdown",
   "metadata": {},
   "source": [
    "Конверсия в целевое действие — просмотр контактов — составляет около 23%. Это указывает на то, что значительная часть пользователей не доходит до этого этапа. Возможные причины могут включать:\n",
    "\n",
    "- Пользователи \"теряются\" в большом количестве рекомендаций.\n",
    "- Интерфейс приложения недостаточно интуитивен, что усложняет путь пользователя к целевому действию."
   ]
  },
  {
   "cell_type": "markdown",
   "metadata": {},
   "source": [
    "В результате анализа поведения пользователей были получены следующие ключевые наблюдения:\n",
    "\n",
    "- Удержание пользователей (Retention Rate):\n",
    "\n",
    "Retention заметно снижается с каждой последующей неделей. Например, когорта пользователей от 7–13 октября показывает удержание на второй неделе около 7%.\n",
    "\n",
    "Новые когорты демонстрируют всё более низкие показатели вовлеченности, что указывает на ухудшение пользовательского опыта или снижение интереса к приложению.\n",
    "\n",
    "Динамика retention требует дополнительного анализа — важно выявить факторы, влияющие на отток (например, источник установки, первый опыт пользователя, навигация и пр.).\n",
    "\n",
    "- Активность в приложении:\n",
    "\n",
    "В среднем пользователь совершает около 2–2,4 сессий в месяц, а длительность одной сессии составляет около 13 минут.\n",
    "\n",
    "Это подтверждается медианой и средним количеством сессий, которые практически совпадают, что говорит о стабильном пользовательском паттерне.\n",
    "\n",
    "Для специфики приложения («Ненужные вещи») это может быть приемлемо: пользователю важно быстро найти интересующее объявление, без долгого пребывания в интерфейсе.\n",
    "\n",
    "- Частота и структура действий:\n",
    "\n",
    "Наиболее часто фиксируемое действие — tips_show, что говорит о частом взаимодействии с рекомендательным блоком. Однако оно не отражает активную вовлеченность, поскольку происходит автоматически.\n",
    "\n",
    "Пользователи чаще просматривают фотографии (photos_show), чем используют поиск (search). Это может указывать на неинтуитивное расположение поисковой функции или предпочтение визуального контента.\n",
    "\n",
    "Целевое действие — contacts_show — совершается лишь 23% пользователей. Это сигнализирует о значительном «провале» в воронке: пользователи не доходят до контактов даже после просмотра объявлений.\n",
    "\n",
    "- Вывод по вовлеченности:\n",
    "\n",
    "Общий паттерн показывает: пользователи быстро взаимодействуют с контентом, но редко совершают ключевые действия.\n",
    "\n",
    "Возможные причины: перегруженность рекомендациями, неудобная навигация, отсутствие триггеров к действию или неинтуитивный интерфейс."
   ]
  },
  {
   "cell_type": "markdown",
   "metadata": {},
   "source": [
    "## Сегментация пользователей по действиям"
   ]
  },
  {
   "cell_type": "markdown",
   "metadata": {},
   "source": [
    "Маркировка признаков\n",
    "\n",
    "В этой функции мы маркируем пользователей, которые совершали определенные действия. При группировке по пользователю можно как сложить единицы, чтобы узнать, сколько раз пользователь совершал данное действие (сколько раз посмотрел контакты), так и просто увидеть, совершалось ли вообще пользователем это действие (посмотрел ли контакты хоть раз).\""
   ]
  },
  {
   "cell_type": "code",
   "execution_count": 70,
   "metadata": {},
   "outputs": [],
   "source": [
    "def add_sign(name):\n",
    "\n",
    "    df[name] = \"\"\n",
    "    for i in range(len(df['event_name'])):\n",
    "        if df['event_name'][i] == name:\n",
    "            df[name][i] = 1\n",
    "        else:\n",
    "            df[name][i] = 0"
   ]
  },
  {
   "cell_type": "code",
   "execution_count": 71,
   "metadata": {},
   "outputs": [],
   "source": [
    "add_sign('contacts_show')"
   ]
  },
  {
   "cell_type": "code",
   "execution_count": 72,
   "metadata": {},
   "outputs": [],
   "source": [
    "add_sign('photos_show')"
   ]
  },
  {
   "cell_type": "code",
   "execution_count": 73,
   "metadata": {},
   "outputs": [],
   "source": [
    "add_sign('tips_show')"
   ]
  },
  {
   "cell_type": "code",
   "execution_count": 74,
   "metadata": {},
   "outputs": [],
   "source": [
    "add_sign('search')"
   ]
  },
  {
   "cell_type": "code",
   "execution_count": 75,
   "metadata": {},
   "outputs": [
    {
     "data": {
      "text/html": [
       "<div>\n",
       "<style scoped>\n",
       "    .dataframe tbody tr th:only-of-type {\n",
       "        vertical-align: middle;\n",
       "    }\n",
       "\n",
       "    .dataframe tbody tr th {\n",
       "        vertical-align: top;\n",
       "    }\n",
       "\n",
       "    .dataframe thead th {\n",
       "        text-align: right;\n",
       "    }\n",
       "</style>\n",
       "<table border=\"1\" class=\"dataframe\">\n",
       "  <thead>\n",
       "    <tr style=\"text-align: right;\">\n",
       "      <th></th>\n",
       "      <th>event_time</th>\n",
       "      <th>event_name</th>\n",
       "      <th>user_id</th>\n",
       "      <th>source</th>\n",
       "      <th>event_hour</th>\n",
       "      <th>event_week</th>\n",
       "      <th>event_month</th>\n",
       "      <th>event_year</th>\n",
       "      <th>event_date</th>\n",
       "      <th>start_dt</th>\n",
       "      <th>activ_week</th>\n",
       "      <th>start_week</th>\n",
       "      <th>cohort_lifetime</th>\n",
       "      <th>pre_action_time</th>\n",
       "      <th>active_session</th>\n",
       "      <th>session_num</th>\n",
       "      <th>contacts_show</th>\n",
       "      <th>photos_show</th>\n",
       "      <th>tips_show</th>\n",
       "      <th>search</th>\n",
       "    </tr>\n",
       "  </thead>\n",
       "  <tbody>\n",
       "    <tr>\n",
       "      <th>28908</th>\n",
       "      <td>2019-10-15 09:31:30</td>\n",
       "      <td>tips_show</td>\n",
       "      <td>e5c3b198-6021-4ccb-8cf3-2bc61197118b</td>\n",
       "      <td>yandex</td>\n",
       "      <td>9</td>\n",
       "      <td>2019-10-10</td>\n",
       "      <td>2019-10-01</td>\n",
       "      <td>2019-01-01</td>\n",
       "      <td>2019-10-15</td>\n",
       "      <td>2019-10-15</td>\n",
       "      <td>2019-10-14</td>\n",
       "      <td>2019-10-14</td>\n",
       "      <td>0</td>\n",
       "      <td>2019-10-15 09:30:33</td>\n",
       "      <td>0 days 00:00:57</td>\n",
       "      <td>1</td>\n",
       "      <td>0</td>\n",
       "      <td>0</td>\n",
       "      <td>1</td>\n",
       "      <td>0</td>\n",
       "    </tr>\n",
       "    <tr>\n",
       "      <th>51327</th>\n",
       "      <td>2019-10-23 12:33:44</td>\n",
       "      <td>tips_show</td>\n",
       "      <td>cae4c469-26c9-4677-9889-95c35c74571a</td>\n",
       "      <td>yandex</td>\n",
       "      <td>12</td>\n",
       "      <td>2019-10-17</td>\n",
       "      <td>2019-10-01</td>\n",
       "      <td>2019-01-01</td>\n",
       "      <td>2019-10-23</td>\n",
       "      <td>2019-10-23</td>\n",
       "      <td>2019-10-21</td>\n",
       "      <td>2019-10-21</td>\n",
       "      <td>0</td>\n",
       "      <td>2019-10-23 12:32:07</td>\n",
       "      <td>0 days 00:01:37</td>\n",
       "      <td>1</td>\n",
       "      <td>0</td>\n",
       "      <td>0</td>\n",
       "      <td>1</td>\n",
       "      <td>0</td>\n",
       "    </tr>\n",
       "    <tr>\n",
       "      <th>57850</th>\n",
       "      <td>2019-11-01 18:49:33</td>\n",
       "      <td>map</td>\n",
       "      <td>395bdd53-9193-452f-8b7c-bd4eebd15707</td>\n",
       "      <td>google</td>\n",
       "      <td>18</td>\n",
       "      <td>2019-10-31</td>\n",
       "      <td>2019-11-01</td>\n",
       "      <td>2019-01-01</td>\n",
       "      <td>2019-11-01</td>\n",
       "      <td>2019-10-25</td>\n",
       "      <td>2019-10-28</td>\n",
       "      <td>2019-10-21</td>\n",
       "      <td>1</td>\n",
       "      <td>2019-10-26 10:51:57</td>\n",
       "      <td>0</td>\n",
       "      <td>3</td>\n",
       "      <td>0</td>\n",
       "      <td>0</td>\n",
       "      <td>0</td>\n",
       "      <td>0</td>\n",
       "    </tr>\n",
       "    <tr>\n",
       "      <th>43199</th>\n",
       "      <td>2019-10-19 23:05:24</td>\n",
       "      <td>tips_show</td>\n",
       "      <td>99f49db7-3073-428e-a3fe-db4040eadde5</td>\n",
       "      <td>google</td>\n",
       "      <td>23</td>\n",
       "      <td>2019-10-17</td>\n",
       "      <td>2019-10-01</td>\n",
       "      <td>2019-01-01</td>\n",
       "      <td>2019-10-19</td>\n",
       "      <td>2019-10-19</td>\n",
       "      <td>2019-10-14</td>\n",
       "      <td>2019-10-14</td>\n",
       "      <td>0</td>\n",
       "      <td>2019-10-19 23:04:08</td>\n",
       "      <td>0 days 00:01:16</td>\n",
       "      <td>1</td>\n",
       "      <td>0</td>\n",
       "      <td>0</td>\n",
       "      <td>1</td>\n",
       "      <td>0</td>\n",
       "    </tr>\n",
       "    <tr>\n",
       "      <th>53168</th>\n",
       "      <td>2019-10-27 14:07:13</td>\n",
       "      <td>tips_show</td>\n",
       "      <td>eb1fd737-8bf3-434a-a31b-ea7747e35e04</td>\n",
       "      <td>yandex</td>\n",
       "      <td>14</td>\n",
       "      <td>2019-10-24</td>\n",
       "      <td>2019-10-01</td>\n",
       "      <td>2019-01-01</td>\n",
       "      <td>2019-10-27</td>\n",
       "      <td>2019-10-23</td>\n",
       "      <td>2019-10-21</td>\n",
       "      <td>2019-10-21</td>\n",
       "      <td>0</td>\n",
       "      <td>2019-10-27 14:04:59</td>\n",
       "      <td>0 days 00:02:14</td>\n",
       "      <td>2</td>\n",
       "      <td>0</td>\n",
       "      <td>0</td>\n",
       "      <td>1</td>\n",
       "      <td>0</td>\n",
       "    </tr>\n",
       "    <tr>\n",
       "      <th>20830</th>\n",
       "      <td>2019-10-12 20:28:34</td>\n",
       "      <td>tips_show</td>\n",
       "      <td>c140f88a-c544-4ce6-a6bd-578a1a0d1b18</td>\n",
       "      <td>yandex</td>\n",
       "      <td>20</td>\n",
       "      <td>2019-10-10</td>\n",
       "      <td>2019-10-01</td>\n",
       "      <td>2019-01-01</td>\n",
       "      <td>2019-10-12</td>\n",
       "      <td>2019-10-12</td>\n",
       "      <td>2019-10-07</td>\n",
       "      <td>2019-10-07</td>\n",
       "      <td>0</td>\n",
       "      <td>2019-10-12 20:27:07</td>\n",
       "      <td>0 days 00:01:27</td>\n",
       "      <td>1</td>\n",
       "      <td>0</td>\n",
       "      <td>0</td>\n",
       "      <td>1</td>\n",
       "      <td>0</td>\n",
       "    </tr>\n",
       "    <tr>\n",
       "      <th>68768</th>\n",
       "      <td>2019-10-30 21:56:08</td>\n",
       "      <td>tips_show</td>\n",
       "      <td>f6fc8cc6-7340-4be1-bb42-49ffa70ae230</td>\n",
       "      <td>yandex</td>\n",
       "      <td>21</td>\n",
       "      <td>2019-10-24</td>\n",
       "      <td>2019-10-01</td>\n",
       "      <td>2019-01-01</td>\n",
       "      <td>2019-10-30</td>\n",
       "      <td>2019-10-30</td>\n",
       "      <td>2019-10-28</td>\n",
       "      <td>2019-10-28</td>\n",
       "      <td>0</td>\n",
       "      <td>2019-10-30 21:49:02</td>\n",
       "      <td>0 days 00:07:06</td>\n",
       "      <td>1</td>\n",
       "      <td>0</td>\n",
       "      <td>0</td>\n",
       "      <td>1</td>\n",
       "      <td>0</td>\n",
       "    </tr>\n",
       "    <tr>\n",
       "      <th>50904</th>\n",
       "      <td>2019-10-28 10:44:46</td>\n",
       "      <td>tips_show</td>\n",
       "      <td>b76914c3-031d-43f6-95e7-aec7750a0bee</td>\n",
       "      <td>other</td>\n",
       "      <td>10</td>\n",
       "      <td>2019-10-24</td>\n",
       "      <td>2019-10-01</td>\n",
       "      <td>2019-01-01</td>\n",
       "      <td>2019-10-28</td>\n",
       "      <td>2019-10-23</td>\n",
       "      <td>2019-10-28</td>\n",
       "      <td>2019-10-21</td>\n",
       "      <td>1</td>\n",
       "      <td>2019-10-28 10:40:17</td>\n",
       "      <td>0 days 00:04:29</td>\n",
       "      <td>9</td>\n",
       "      <td>0</td>\n",
       "      <td>0</td>\n",
       "      <td>1</td>\n",
       "      <td>0</td>\n",
       "    </tr>\n",
       "    <tr>\n",
       "      <th>32537</th>\n",
       "      <td>2019-10-16 14:19:38</td>\n",
       "      <td>contacts_show</td>\n",
       "      <td>320cab3c-e823-4dff-8c01-c4253764640a</td>\n",
       "      <td>google</td>\n",
       "      <td>14</td>\n",
       "      <td>2019-10-10</td>\n",
       "      <td>2019-10-01</td>\n",
       "      <td>2019-01-01</td>\n",
       "      <td>2019-10-16</td>\n",
       "      <td>2019-10-16</td>\n",
       "      <td>2019-10-14</td>\n",
       "      <td>2019-10-14</td>\n",
       "      <td>0</td>\n",
       "      <td>2019-10-16 14:19:10</td>\n",
       "      <td>0 days 00:00:28</td>\n",
       "      <td>2</td>\n",
       "      <td>1</td>\n",
       "      <td>0</td>\n",
       "      <td>0</td>\n",
       "      <td>0</td>\n",
       "    </tr>\n",
       "    <tr>\n",
       "      <th>53052</th>\n",
       "      <td>2019-10-23 20:02:38</td>\n",
       "      <td>contacts_show</td>\n",
       "      <td>ea432c4c-1db9-44d7-91e4-2d470202d9f1</td>\n",
       "      <td>google</td>\n",
       "      <td>20</td>\n",
       "      <td>2019-10-17</td>\n",
       "      <td>2019-10-01</td>\n",
       "      <td>2019-01-01</td>\n",
       "      <td>2019-10-23</td>\n",
       "      <td>2019-10-23</td>\n",
       "      <td>2019-10-21</td>\n",
       "      <td>2019-10-21</td>\n",
       "      <td>0</td>\n",
       "      <td>2019-10-23 20:01:59</td>\n",
       "      <td>0 days 00:00:39</td>\n",
       "      <td>1</td>\n",
       "      <td>1</td>\n",
       "      <td>0</td>\n",
       "      <td>0</td>\n",
       "      <td>0</td>\n",
       "    </tr>\n",
       "  </tbody>\n",
       "</table>\n",
       "</div>"
      ],
      "text/plain": [
       "               event_time     event_name  \\\n",
       "28908 2019-10-15 09:31:30      tips_show   \n",
       "51327 2019-10-23 12:33:44      tips_show   \n",
       "57850 2019-11-01 18:49:33            map   \n",
       "43199 2019-10-19 23:05:24      tips_show   \n",
       "53168 2019-10-27 14:07:13      tips_show   \n",
       "20830 2019-10-12 20:28:34      tips_show   \n",
       "68768 2019-10-30 21:56:08      tips_show   \n",
       "50904 2019-10-28 10:44:46      tips_show   \n",
       "32537 2019-10-16 14:19:38  contacts_show   \n",
       "53052 2019-10-23 20:02:38  contacts_show   \n",
       "\n",
       "                                    user_id  source  event_hour event_week  \\\n",
       "28908  e5c3b198-6021-4ccb-8cf3-2bc61197118b  yandex           9 2019-10-10   \n",
       "51327  cae4c469-26c9-4677-9889-95c35c74571a  yandex          12 2019-10-17   \n",
       "57850  395bdd53-9193-452f-8b7c-bd4eebd15707  google          18 2019-10-31   \n",
       "43199  99f49db7-3073-428e-a3fe-db4040eadde5  google          23 2019-10-17   \n",
       "53168  eb1fd737-8bf3-434a-a31b-ea7747e35e04  yandex          14 2019-10-24   \n",
       "20830  c140f88a-c544-4ce6-a6bd-578a1a0d1b18  yandex          20 2019-10-10   \n",
       "68768  f6fc8cc6-7340-4be1-bb42-49ffa70ae230  yandex          21 2019-10-24   \n",
       "50904  b76914c3-031d-43f6-95e7-aec7750a0bee   other          10 2019-10-24   \n",
       "32537  320cab3c-e823-4dff-8c01-c4253764640a  google          14 2019-10-10   \n",
       "53052  ea432c4c-1db9-44d7-91e4-2d470202d9f1  google          20 2019-10-17   \n",
       "\n",
       "      event_month event_year event_date   start_dt activ_week start_week  \\\n",
       "28908  2019-10-01 2019-01-01 2019-10-15 2019-10-15 2019-10-14 2019-10-14   \n",
       "51327  2019-10-01 2019-01-01 2019-10-23 2019-10-23 2019-10-21 2019-10-21   \n",
       "57850  2019-11-01 2019-01-01 2019-11-01 2019-10-25 2019-10-28 2019-10-21   \n",
       "43199  2019-10-01 2019-01-01 2019-10-19 2019-10-19 2019-10-14 2019-10-14   \n",
       "53168  2019-10-01 2019-01-01 2019-10-27 2019-10-23 2019-10-21 2019-10-21   \n",
       "20830  2019-10-01 2019-01-01 2019-10-12 2019-10-12 2019-10-07 2019-10-07   \n",
       "68768  2019-10-01 2019-01-01 2019-10-30 2019-10-30 2019-10-28 2019-10-28   \n",
       "50904  2019-10-01 2019-01-01 2019-10-28 2019-10-23 2019-10-28 2019-10-21   \n",
       "32537  2019-10-01 2019-01-01 2019-10-16 2019-10-16 2019-10-14 2019-10-14   \n",
       "53052  2019-10-01 2019-01-01 2019-10-23 2019-10-23 2019-10-21 2019-10-21   \n",
       "\n",
       "       cohort_lifetime     pre_action_time   active_session  session_num  \\\n",
       "28908                0 2019-10-15 09:30:33  0 days 00:00:57            1   \n",
       "51327                0 2019-10-23 12:32:07  0 days 00:01:37            1   \n",
       "57850                1 2019-10-26 10:51:57                0            3   \n",
       "43199                0 2019-10-19 23:04:08  0 days 00:01:16            1   \n",
       "53168                0 2019-10-27 14:04:59  0 days 00:02:14            2   \n",
       "20830                0 2019-10-12 20:27:07  0 days 00:01:27            1   \n",
       "68768                0 2019-10-30 21:49:02  0 days 00:07:06            1   \n",
       "50904                1 2019-10-28 10:40:17  0 days 00:04:29            9   \n",
       "32537                0 2019-10-16 14:19:10  0 days 00:00:28            2   \n",
       "53052                0 2019-10-23 20:01:59  0 days 00:00:39            1   \n",
       "\n",
       "      contacts_show photos_show tips_show search  \n",
       "28908             0           0         1      0  \n",
       "51327             0           0         1      0  \n",
       "57850             0           0         0      0  \n",
       "43199             0           0         1      0  \n",
       "53168             0           0         1      0  \n",
       "20830             0           0         1      0  \n",
       "68768             0           0         1      0  \n",
       "50904             0           0         1      0  \n",
       "32537             1           0         0      0  \n",
       "53052             1           0         0      0  "
      ]
     },
     "execution_count": 75,
     "metadata": {},
     "output_type": "execute_result"
    }
   ],
   "source": [
    "df.sample(10)"
   ]
  },
  {
   "cell_type": "markdown",
   "metadata": {},
   "source": [
    "Добавим дату крайнего действия пользователя"
   ]
  },
  {
   "cell_type": "code",
   "execution_count": 76,
   "metadata": {},
   "outputs": [],
   "source": [
    "last_visits = df.groupby(['user_id'])['event_date'].max().reset_index()\n",
    "last_visits.columns = ['user_id', 'last_dt']"
   ]
  },
  {
   "cell_type": "code",
   "execution_count": 77,
   "metadata": {},
   "outputs": [],
   "source": [
    "df = df.merge(last_visits, on='user_id')"
   ]
  },
  {
   "cell_type": "code",
   "execution_count": 78,
   "metadata": {},
   "outputs": [],
   "source": [
    "df['duration'] = (df['last_dt'] - df['start_dt']).dt.days + 1"
   ]
  },
  {
   "cell_type": "code",
   "execution_count": 79,
   "metadata": {},
   "outputs": [
    {
     "data": {
      "text/html": [
       "<div>\n",
       "<style scoped>\n",
       "    .dataframe tbody tr th:only-of-type {\n",
       "        vertical-align: middle;\n",
       "    }\n",
       "\n",
       "    .dataframe tbody tr th {\n",
       "        vertical-align: top;\n",
       "    }\n",
       "\n",
       "    .dataframe thead th {\n",
       "        text-align: right;\n",
       "    }\n",
       "</style>\n",
       "<table border=\"1\" class=\"dataframe\">\n",
       "  <thead>\n",
       "    <tr style=\"text-align: right;\">\n",
       "      <th></th>\n",
       "      <th>duration</th>\n",
       "      <th>n_session</th>\n",
       "      <th>n_event</th>\n",
       "      <th>n_contacts_show</th>\n",
       "      <th>photos_show</th>\n",
       "      <th>tips_show</th>\n",
       "      <th>search</th>\n",
       "    </tr>\n",
       "    <tr>\n",
       "      <th>user_id</th>\n",
       "      <th></th>\n",
       "      <th></th>\n",
       "      <th></th>\n",
       "      <th></th>\n",
       "      <th></th>\n",
       "      <th></th>\n",
       "      <th></th>\n",
       "    </tr>\n",
       "  </thead>\n",
       "  <tbody>\n",
       "    <tr>\n",
       "      <th>0001b1d5-b74a-4cbf-aeb0-7df5947bf349</th>\n",
       "      <td>16</td>\n",
       "      <td>35</td>\n",
       "      <td>35</td>\n",
       "      <td>0</td>\n",
       "      <td>0</td>\n",
       "      <td>1</td>\n",
       "      <td>0</td>\n",
       "    </tr>\n",
       "    <tr>\n",
       "      <th>00157779-810c-4498-9e05-a1e9e3cedf93</th>\n",
       "      <td>16</td>\n",
       "      <td>71</td>\n",
       "      <td>71</td>\n",
       "      <td>11</td>\n",
       "      <td>1</td>\n",
       "      <td>0</td>\n",
       "      <td>1</td>\n",
       "    </tr>\n",
       "    <tr>\n",
       "      <th>00463033-5717-4bf1-91b4-09183923b9df</th>\n",
       "      <td>1</td>\n",
       "      <td>10</td>\n",
       "      <td>10</td>\n",
       "      <td>0</td>\n",
       "      <td>1</td>\n",
       "      <td>0</td>\n",
       "      <td>0</td>\n",
       "    </tr>\n",
       "    <tr>\n",
       "      <th>004690c3-5a84-4bb7-a8af-e0c8f8fca64e</th>\n",
       "      <td>14</td>\n",
       "      <td>32</td>\n",
       "      <td>32</td>\n",
       "      <td>0</td>\n",
       "      <td>0</td>\n",
       "      <td>1</td>\n",
       "      <td>1</td>\n",
       "    </tr>\n",
       "    <tr>\n",
       "      <th>00551e79-152e-4441-9cf7-565d7eb04090</th>\n",
       "      <td>5</td>\n",
       "      <td>8</td>\n",
       "      <td>8</td>\n",
       "      <td>3</td>\n",
       "      <td>1</td>\n",
       "      <td>0</td>\n",
       "      <td>1</td>\n",
       "    </tr>\n",
       "    <tr>\n",
       "      <th>...</th>\n",
       "      <td>...</td>\n",
       "      <td>...</td>\n",
       "      <td>...</td>\n",
       "      <td>...</td>\n",
       "      <td>...</td>\n",
       "      <td>...</td>\n",
       "      <td>...</td>\n",
       "    </tr>\n",
       "    <tr>\n",
       "      <th>ffab8d8a-30bb-424a-a3ab-0b63ebbf7b07</th>\n",
       "      <td>14</td>\n",
       "      <td>17</td>\n",
       "      <td>17</td>\n",
       "      <td>0</td>\n",
       "      <td>0</td>\n",
       "      <td>1</td>\n",
       "      <td>0</td>\n",
       "    </tr>\n",
       "    <tr>\n",
       "      <th>ffc01466-fdb1-4460-ae94-e800f52eb136</th>\n",
       "      <td>1</td>\n",
       "      <td>7</td>\n",
       "      <td>7</td>\n",
       "      <td>1</td>\n",
       "      <td>1</td>\n",
       "      <td>0</td>\n",
       "      <td>0</td>\n",
       "    </tr>\n",
       "    <tr>\n",
       "      <th>ffcf50d9-293c-4254-8243-4890b030b238</th>\n",
       "      <td>1</td>\n",
       "      <td>2</td>\n",
       "      <td>2</td>\n",
       "      <td>0</td>\n",
       "      <td>0</td>\n",
       "      <td>1</td>\n",
       "      <td>0</td>\n",
       "    </tr>\n",
       "    <tr>\n",
       "      <th>ffe68f10-e48e-470e-be9b-eeb93128ff1a</th>\n",
       "      <td>8</td>\n",
       "      <td>13</td>\n",
       "      <td>13</td>\n",
       "      <td>1</td>\n",
       "      <td>1</td>\n",
       "      <td>0</td>\n",
       "      <td>1</td>\n",
       "    </tr>\n",
       "    <tr>\n",
       "      <th>fffb9e79-b927-4dbb-9b48-7fd09b23a62b</th>\n",
       "      <td>23</td>\n",
       "      <td>303</td>\n",
       "      <td>303</td>\n",
       "      <td>68</td>\n",
       "      <td>0</td>\n",
       "      <td>1</td>\n",
       "      <td>0</td>\n",
       "    </tr>\n",
       "  </tbody>\n",
       "</table>\n",
       "<p>4293 rows × 7 columns</p>\n",
       "</div>"
      ],
      "text/plain": [
       "                                      duration  n_session  n_event  \\\n",
       "user_id                                                              \n",
       "0001b1d5-b74a-4cbf-aeb0-7df5947bf349        16         35       35   \n",
       "00157779-810c-4498-9e05-a1e9e3cedf93        16         71       71   \n",
       "00463033-5717-4bf1-91b4-09183923b9df         1         10       10   \n",
       "004690c3-5a84-4bb7-a8af-e0c8f8fca64e        14         32       32   \n",
       "00551e79-152e-4441-9cf7-565d7eb04090         5          8        8   \n",
       "...                                        ...        ...      ...   \n",
       "ffab8d8a-30bb-424a-a3ab-0b63ebbf7b07        14         17       17   \n",
       "ffc01466-fdb1-4460-ae94-e800f52eb136         1          7        7   \n",
       "ffcf50d9-293c-4254-8243-4890b030b238         1          2        2   \n",
       "ffe68f10-e48e-470e-be9b-eeb93128ff1a         8         13       13   \n",
       "fffb9e79-b927-4dbb-9b48-7fd09b23a62b        23        303      303   \n",
       "\n",
       "                                      n_contacts_show  photos_show  tips_show  \\\n",
       "user_id                                                                         \n",
       "0001b1d5-b74a-4cbf-aeb0-7df5947bf349                0            0          1   \n",
       "00157779-810c-4498-9e05-a1e9e3cedf93               11            1          0   \n",
       "00463033-5717-4bf1-91b4-09183923b9df                0            1          0   \n",
       "004690c3-5a84-4bb7-a8af-e0c8f8fca64e                0            0          1   \n",
       "00551e79-152e-4441-9cf7-565d7eb04090                3            1          0   \n",
       "...                                               ...          ...        ...   \n",
       "ffab8d8a-30bb-424a-a3ab-0b63ebbf7b07                0            0          1   \n",
       "ffc01466-fdb1-4460-ae94-e800f52eb136                1            1          0   \n",
       "ffcf50d9-293c-4254-8243-4890b030b238                0            0          1   \n",
       "ffe68f10-e48e-470e-be9b-eeb93128ff1a                1            1          0   \n",
       "fffb9e79-b927-4dbb-9b48-7fd09b23a62b               68            0          1   \n",
       "\n",
       "                                      search  \n",
       "user_id                                       \n",
       "0001b1d5-b74a-4cbf-aeb0-7df5947bf349       0  \n",
       "00157779-810c-4498-9e05-a1e9e3cedf93       1  \n",
       "00463033-5717-4bf1-91b4-09183923b9df       0  \n",
       "004690c3-5a84-4bb7-a8af-e0c8f8fca64e       1  \n",
       "00551e79-152e-4441-9cf7-565d7eb04090       1  \n",
       "...                                      ...  \n",
       "ffab8d8a-30bb-424a-a3ab-0b63ebbf7b07       0  \n",
       "ffc01466-fdb1-4460-ae94-e800f52eb136       0  \n",
       "ffcf50d9-293c-4254-8243-4890b030b238       0  \n",
       "ffe68f10-e48e-470e-be9b-eeb93128ff1a       1  \n",
       "fffb9e79-b927-4dbb-9b48-7fd09b23a62b       0  \n",
       "\n",
       "[4293 rows x 7 columns]"
      ]
     },
     "execution_count": 79,
     "metadata": {},
     "output_type": "execute_result"
    }
   ],
   "source": [
    "grouped_by_user = df.groupby('user_id').agg({'duration':'mean', \n",
    "                                                          'session_num':'count', \n",
    "                                                          'event_name':'count',\n",
    "                                                          'contacts_show':'sum', \n",
    "                                                          'photos_show':'max',\n",
    "                                                          'tips_show':'max',\n",
    "                                                          'search':'max'})\n",
    "grouped_by_user = grouped_by_user.rename(columns={'session_num':'n_session', 'event_name':'n_event', 'contacts_show':'n_contacts_show'})\n",
    "grouped_by_user"
   ]
  },
  {
   "cell_type": "code",
   "execution_count": 80,
   "metadata": {},
   "outputs": [
    {
     "data": {
      "text/html": [
       "<div>\n",
       "<style scoped>\n",
       "    .dataframe tbody tr th:only-of-type {\n",
       "        vertical-align: middle;\n",
       "    }\n",
       "\n",
       "    .dataframe tbody tr th {\n",
       "        vertical-align: top;\n",
       "    }\n",
       "\n",
       "    .dataframe thead th {\n",
       "        text-align: right;\n",
       "    }\n",
       "</style>\n",
       "<table border=\"1\" class=\"dataframe\">\n",
       "  <thead>\n",
       "    <tr style=\"text-align: right;\">\n",
       "      <th></th>\n",
       "      <th>duration</th>\n",
       "      <th>n_session</th>\n",
       "      <th>n_event</th>\n",
       "      <th>n_contacts_show</th>\n",
       "      <th>photos_show</th>\n",
       "      <th>tips_show</th>\n",
       "      <th>search</th>\n",
       "      <th>conversion</th>\n",
       "    </tr>\n",
       "    <tr>\n",
       "      <th>user_id</th>\n",
       "      <th></th>\n",
       "      <th></th>\n",
       "      <th></th>\n",
       "      <th></th>\n",
       "      <th></th>\n",
       "      <th></th>\n",
       "      <th></th>\n",
       "      <th></th>\n",
       "    </tr>\n",
       "  </thead>\n",
       "  <tbody>\n",
       "    <tr>\n",
       "      <th>0001b1d5-b74a-4cbf-aeb0-7df5947bf349</th>\n",
       "      <td>16</td>\n",
       "      <td>35</td>\n",
       "      <td>35</td>\n",
       "      <td>0</td>\n",
       "      <td>0</td>\n",
       "      <td>1</td>\n",
       "      <td>0</td>\n",
       "      <td>0.00</td>\n",
       "    </tr>\n",
       "    <tr>\n",
       "      <th>00157779-810c-4498-9e05-a1e9e3cedf93</th>\n",
       "      <td>16</td>\n",
       "      <td>71</td>\n",
       "      <td>71</td>\n",
       "      <td>11</td>\n",
       "      <td>1</td>\n",
       "      <td>0</td>\n",
       "      <td>1</td>\n",
       "      <td>0.15</td>\n",
       "    </tr>\n",
       "    <tr>\n",
       "      <th>00463033-5717-4bf1-91b4-09183923b9df</th>\n",
       "      <td>1</td>\n",
       "      <td>10</td>\n",
       "      <td>10</td>\n",
       "      <td>0</td>\n",
       "      <td>1</td>\n",
       "      <td>0</td>\n",
       "      <td>0</td>\n",
       "      <td>0.00</td>\n",
       "    </tr>\n",
       "    <tr>\n",
       "      <th>004690c3-5a84-4bb7-a8af-e0c8f8fca64e</th>\n",
       "      <td>14</td>\n",
       "      <td>32</td>\n",
       "      <td>32</td>\n",
       "      <td>0</td>\n",
       "      <td>0</td>\n",
       "      <td>1</td>\n",
       "      <td>1</td>\n",
       "      <td>0.00</td>\n",
       "    </tr>\n",
       "    <tr>\n",
       "      <th>00551e79-152e-4441-9cf7-565d7eb04090</th>\n",
       "      <td>5</td>\n",
       "      <td>8</td>\n",
       "      <td>8</td>\n",
       "      <td>3</td>\n",
       "      <td>1</td>\n",
       "      <td>0</td>\n",
       "      <td>1</td>\n",
       "      <td>0.38</td>\n",
       "    </tr>\n",
       "    <tr>\n",
       "      <th>...</th>\n",
       "      <td>...</td>\n",
       "      <td>...</td>\n",
       "      <td>...</td>\n",
       "      <td>...</td>\n",
       "      <td>...</td>\n",
       "      <td>...</td>\n",
       "      <td>...</td>\n",
       "      <td>...</td>\n",
       "    </tr>\n",
       "    <tr>\n",
       "      <th>ffab8d8a-30bb-424a-a3ab-0b63ebbf7b07</th>\n",
       "      <td>14</td>\n",
       "      <td>17</td>\n",
       "      <td>17</td>\n",
       "      <td>0</td>\n",
       "      <td>0</td>\n",
       "      <td>1</td>\n",
       "      <td>0</td>\n",
       "      <td>0.00</td>\n",
       "    </tr>\n",
       "    <tr>\n",
       "      <th>ffc01466-fdb1-4460-ae94-e800f52eb136</th>\n",
       "      <td>1</td>\n",
       "      <td>7</td>\n",
       "      <td>7</td>\n",
       "      <td>1</td>\n",
       "      <td>1</td>\n",
       "      <td>0</td>\n",
       "      <td>0</td>\n",
       "      <td>0.14</td>\n",
       "    </tr>\n",
       "    <tr>\n",
       "      <th>ffcf50d9-293c-4254-8243-4890b030b238</th>\n",
       "      <td>1</td>\n",
       "      <td>2</td>\n",
       "      <td>2</td>\n",
       "      <td>0</td>\n",
       "      <td>0</td>\n",
       "      <td>1</td>\n",
       "      <td>0</td>\n",
       "      <td>0.00</td>\n",
       "    </tr>\n",
       "    <tr>\n",
       "      <th>ffe68f10-e48e-470e-be9b-eeb93128ff1a</th>\n",
       "      <td>8</td>\n",
       "      <td>13</td>\n",
       "      <td>13</td>\n",
       "      <td>1</td>\n",
       "      <td>1</td>\n",
       "      <td>0</td>\n",
       "      <td>1</td>\n",
       "      <td>0.08</td>\n",
       "    </tr>\n",
       "    <tr>\n",
       "      <th>fffb9e79-b927-4dbb-9b48-7fd09b23a62b</th>\n",
       "      <td>23</td>\n",
       "      <td>303</td>\n",
       "      <td>303</td>\n",
       "      <td>68</td>\n",
       "      <td>0</td>\n",
       "      <td>1</td>\n",
       "      <td>0</td>\n",
       "      <td>0.22</td>\n",
       "    </tr>\n",
       "  </tbody>\n",
       "</table>\n",
       "<p>4293 rows × 8 columns</p>\n",
       "</div>"
      ],
      "text/plain": [
       "                                      duration  n_session  n_event  \\\n",
       "user_id                                                              \n",
       "0001b1d5-b74a-4cbf-aeb0-7df5947bf349        16         35       35   \n",
       "00157779-810c-4498-9e05-a1e9e3cedf93        16         71       71   \n",
       "00463033-5717-4bf1-91b4-09183923b9df         1         10       10   \n",
       "004690c3-5a84-4bb7-a8af-e0c8f8fca64e        14         32       32   \n",
       "00551e79-152e-4441-9cf7-565d7eb04090         5          8        8   \n",
       "...                                        ...        ...      ...   \n",
       "ffab8d8a-30bb-424a-a3ab-0b63ebbf7b07        14         17       17   \n",
       "ffc01466-fdb1-4460-ae94-e800f52eb136         1          7        7   \n",
       "ffcf50d9-293c-4254-8243-4890b030b238         1          2        2   \n",
       "ffe68f10-e48e-470e-be9b-eeb93128ff1a         8         13       13   \n",
       "fffb9e79-b927-4dbb-9b48-7fd09b23a62b        23        303      303   \n",
       "\n",
       "                                      n_contacts_show  photos_show  tips_show  \\\n",
       "user_id                                                                         \n",
       "0001b1d5-b74a-4cbf-aeb0-7df5947bf349                0            0          1   \n",
       "00157779-810c-4498-9e05-a1e9e3cedf93               11            1          0   \n",
       "00463033-5717-4bf1-91b4-09183923b9df                0            1          0   \n",
       "004690c3-5a84-4bb7-a8af-e0c8f8fca64e                0            0          1   \n",
       "00551e79-152e-4441-9cf7-565d7eb04090                3            1          0   \n",
       "...                                               ...          ...        ...   \n",
       "ffab8d8a-30bb-424a-a3ab-0b63ebbf7b07                0            0          1   \n",
       "ffc01466-fdb1-4460-ae94-e800f52eb136                1            1          0   \n",
       "ffcf50d9-293c-4254-8243-4890b030b238                0            0          1   \n",
       "ffe68f10-e48e-470e-be9b-eeb93128ff1a                1            1          0   \n",
       "fffb9e79-b927-4dbb-9b48-7fd09b23a62b               68            0          1   \n",
       "\n",
       "                                      search  conversion  \n",
       "user_id                                                   \n",
       "0001b1d5-b74a-4cbf-aeb0-7df5947bf349       0        0.00  \n",
       "00157779-810c-4498-9e05-a1e9e3cedf93       1        0.15  \n",
       "00463033-5717-4bf1-91b4-09183923b9df       0        0.00  \n",
       "004690c3-5a84-4bb7-a8af-e0c8f8fca64e       1        0.00  \n",
       "00551e79-152e-4441-9cf7-565d7eb04090       1        0.38  \n",
       "...                                      ...         ...  \n",
       "ffab8d8a-30bb-424a-a3ab-0b63ebbf7b07       0        0.00  \n",
       "ffc01466-fdb1-4460-ae94-e800f52eb136       0        0.14  \n",
       "ffcf50d9-293c-4254-8243-4890b030b238       0        0.00  \n",
       "ffe68f10-e48e-470e-be9b-eeb93128ff1a       1        0.08  \n",
       "fffb9e79-b927-4dbb-9b48-7fd09b23a62b       0        0.22  \n",
       "\n",
       "[4293 rows x 8 columns]"
      ]
     },
     "execution_count": 80,
     "metadata": {},
     "output_type": "execute_result"
    }
   ],
   "source": [
    "# Проверяем, что n_session не равно нулю, чтобы избежать деления на ноль\n",
    "grouped_by_user['conversion'] = grouped_by_user.apply(\n",
    "    lambda row: row['n_contacts_show'] / row['n_session'] if row['n_session'] != 0 else 0, axis=1\n",
    ")\n",
    "\n",
    "grouped_by_user"
   ]
  },
  {
   "cell_type": "code",
   "execution_count": 81,
   "metadata": {},
   "outputs": [
    {
     "data": {
      "text/html": [
       "<div>\n",
       "<style scoped>\n",
       "    .dataframe tbody tr th:only-of-type {\n",
       "        vertical-align: middle;\n",
       "    }\n",
       "\n",
       "    .dataframe tbody tr th {\n",
       "        vertical-align: top;\n",
       "    }\n",
       "\n",
       "    .dataframe thead th {\n",
       "        text-align: right;\n",
       "    }\n",
       "</style>\n",
       "<table border=\"1\" class=\"dataframe\">\n",
       "  <thead>\n",
       "    <tr style=\"text-align: right;\">\n",
       "      <th></th>\n",
       "      <th>duration</th>\n",
       "      <th>n_session</th>\n",
       "      <th>n_event</th>\n",
       "      <th>n_contacts_show</th>\n",
       "      <th>photos_show</th>\n",
       "      <th>tips_show</th>\n",
       "      <th>search</th>\n",
       "      <th>conversion</th>\n",
       "    </tr>\n",
       "  </thead>\n",
       "  <tbody>\n",
       "    <tr>\n",
       "      <th>count</th>\n",
       "      <td>4,293.00</td>\n",
       "      <td>4,293.00</td>\n",
       "      <td>4,293.00</td>\n",
       "      <td>4,293.00</td>\n",
       "      <td>4,293.00</td>\n",
       "      <td>4,293.00</td>\n",
       "      <td>4,293.00</td>\n",
       "      <td>4,293.00</td>\n",
       "    </tr>\n",
       "    <tr>\n",
       "      <th>mean</th>\n",
       "      <td>3.61</td>\n",
       "      <td>17.28</td>\n",
       "      <td>17.28</td>\n",
       "      <td>1.05</td>\n",
       "      <td>0.26</td>\n",
       "      <td>0.65</td>\n",
       "      <td>0.39</td>\n",
       "      <td>0.06</td>\n",
       "    </tr>\n",
       "    <tr>\n",
       "      <th>std</th>\n",
       "      <td>5.19</td>\n",
       "      <td>29.13</td>\n",
       "      <td>29.13</td>\n",
       "      <td>4.99</td>\n",
       "      <td>0.44</td>\n",
       "      <td>0.48</td>\n",
       "      <td>0.49</td>\n",
       "      <td>0.15</td>\n",
       "    </tr>\n",
       "    <tr>\n",
       "      <th>min</th>\n",
       "      <td>1.00</td>\n",
       "      <td>1.00</td>\n",
       "      <td>1.00</td>\n",
       "      <td>0.00</td>\n",
       "      <td>0.00</td>\n",
       "      <td>0.00</td>\n",
       "      <td>0.00</td>\n",
       "      <td>0.00</td>\n",
       "    </tr>\n",
       "    <tr>\n",
       "      <th>25%</th>\n",
       "      <td>1.00</td>\n",
       "      <td>5.00</td>\n",
       "      <td>5.00</td>\n",
       "      <td>0.00</td>\n",
       "      <td>0.00</td>\n",
       "      <td>0.00</td>\n",
       "      <td>0.00</td>\n",
       "      <td>0.00</td>\n",
       "    </tr>\n",
       "    <tr>\n",
       "      <th>50%</th>\n",
       "      <td>1.00</td>\n",
       "      <td>9.00</td>\n",
       "      <td>9.00</td>\n",
       "      <td>0.00</td>\n",
       "      <td>0.00</td>\n",
       "      <td>1.00</td>\n",
       "      <td>0.00</td>\n",
       "      <td>0.00</td>\n",
       "    </tr>\n",
       "    <tr>\n",
       "      <th>75%</th>\n",
       "      <td>4.00</td>\n",
       "      <td>17.00</td>\n",
       "      <td>17.00</td>\n",
       "      <td>0.00</td>\n",
       "      <td>1.00</td>\n",
       "      <td>1.00</td>\n",
       "      <td>1.00</td>\n",
       "      <td>0.00</td>\n",
       "    </tr>\n",
       "    <tr>\n",
       "      <th>max</th>\n",
       "      <td>28.00</td>\n",
       "      <td>478.00</td>\n",
       "      <td>478.00</td>\n",
       "      <td>137.00</td>\n",
       "      <td>1.00</td>\n",
       "      <td>1.00</td>\n",
       "      <td>1.00</td>\n",
       "      <td>1.00</td>\n",
       "    </tr>\n",
       "  </tbody>\n",
       "</table>\n",
       "</div>"
      ],
      "text/plain": [
       "       duration  n_session  n_event  n_contacts_show  photos_show  tips_show  \\\n",
       "count  4,293.00   4,293.00 4,293.00         4,293.00     4,293.00   4,293.00   \n",
       "mean       3.61      17.28    17.28             1.05         0.26       0.65   \n",
       "std        5.19      29.13    29.13             4.99         0.44       0.48   \n",
       "min        1.00       1.00     1.00             0.00         0.00       0.00   \n",
       "25%        1.00       5.00     5.00             0.00         0.00       0.00   \n",
       "50%        1.00       9.00     9.00             0.00         0.00       1.00   \n",
       "75%        4.00      17.00    17.00             0.00         1.00       1.00   \n",
       "max       28.00     478.00   478.00           137.00         1.00       1.00   \n",
       "\n",
       "        search  conversion  \n",
       "count 4,293.00    4,293.00  \n",
       "mean      0.39        0.06  \n",
       "std       0.49        0.15  \n",
       "min       0.00        0.00  \n",
       "25%       0.00        0.00  \n",
       "50%       0.00        0.00  \n",
       "75%       1.00        0.00  \n",
       "max       1.00        1.00  "
      ]
     },
     "execution_count": 81,
     "metadata": {},
     "output_type": "execute_result"
    }
   ],
   "source": [
    "grouped_by_user.describe()"
   ]
  },
  {
   "cell_type": "markdown",
   "metadata": {},
   "source": [
    "Поделим пользователей на 4 группы в зависимости от их активности и достижения цели:\n",
    "\n",
    "Часто пользуются и смотрят контакты.\n",
    "Активно пользуется приложением, но ни разу не смотрели контакты.\n",
    "Пользовался и смотрел контакты, но давно (так как у нас данные только за месяц, возьмем 3 недели).\n",
    "Почти не пользуется, контакты не смотрел ни разу."
   ]
  },
  {
   "cell_type": "code",
   "execution_count": 82,
   "metadata": {},
   "outputs": [],
   "source": [
    "# Проверяем, что значения в столбцах duration и n_contacts_show корректны\n",
    "valid_data = grouped_by_user[\n",
    "    (grouped_by_user['duration'] >= 0) &\n",
    "    (grouped_by_user['n_contacts_show'] >= 0)\n",
    "]"
   ]
  },
  {
   "cell_type": "code",
   "execution_count": 83,
   "metadata": {},
   "outputs": [],
   "source": [
    "active_contacts_show = grouped_by_user.query('duration >= 2 and n_contacts_show >= 1')\n",
    "active_no_contacts_show = grouped_by_user.query('duration >= 2 and n_contacts_show == 0')\n",
    "inactive_contacts_show = grouped_by_user.query('duration < 2 and n_contacts_show >= 1')\n",
    "inactive_no_contacts_show = grouped_by_user.query('duration < 2 and n_contacts_show == 0')"
   ]
  },
  {
   "cell_type": "code",
   "execution_count": 84,
   "metadata": {},
   "outputs": [
    {
     "data": {
      "text/html": [
       "<div>\n",
       "<style scoped>\n",
       "    .dataframe tbody tr th:only-of-type {\n",
       "        vertical-align: middle;\n",
       "    }\n",
       "\n",
       "    .dataframe tbody tr th {\n",
       "        vertical-align: top;\n",
       "    }\n",
       "\n",
       "    .dataframe thead th {\n",
       "        text-align: right;\n",
       "    }\n",
       "</style>\n",
       "<table border=\"1\" class=\"dataframe\">\n",
       "  <thead>\n",
       "    <tr style=\"text-align: right;\">\n",
       "      <th></th>\n",
       "      <th>duration</th>\n",
       "      <th>n_session</th>\n",
       "      <th>n_event</th>\n",
       "      <th>n_contacts_show</th>\n",
       "      <th>photos_show</th>\n",
       "      <th>tips_show</th>\n",
       "      <th>search</th>\n",
       "      <th>conversion</th>\n",
       "    </tr>\n",
       "  </thead>\n",
       "  <tbody>\n",
       "    <tr>\n",
       "      <th>count</th>\n",
       "      <td>528.00</td>\n",
       "      <td>528.00</td>\n",
       "      <td>528.00</td>\n",
       "      <td>528.00</td>\n",
       "      <td>528.00</td>\n",
       "      <td>528.00</td>\n",
       "      <td>528.00</td>\n",
       "      <td>528.00</td>\n",
       "    </tr>\n",
       "    <tr>\n",
       "      <th>mean</th>\n",
       "      <td>8.26</td>\n",
       "      <td>40.67</td>\n",
       "      <td>40.67</td>\n",
       "      <td>5.85</td>\n",
       "      <td>0.42</td>\n",
       "      <td>0.49</td>\n",
       "      <td>0.48</td>\n",
       "      <td>0.20</td>\n",
       "    </tr>\n",
       "    <tr>\n",
       "      <th>std</th>\n",
       "      <td>6.49</td>\n",
       "      <td>60.78</td>\n",
       "      <td>60.78</td>\n",
       "      <td>12.06</td>\n",
       "      <td>0.49</td>\n",
       "      <td>0.50</td>\n",
       "      <td>0.50</td>\n",
       "      <td>0.19</td>\n",
       "    </tr>\n",
       "    <tr>\n",
       "      <th>min</th>\n",
       "      <td>2.00</td>\n",
       "      <td>2.00</td>\n",
       "      <td>2.00</td>\n",
       "      <td>1.00</td>\n",
       "      <td>0.00</td>\n",
       "      <td>0.00</td>\n",
       "      <td>0.00</td>\n",
       "      <td>0.00</td>\n",
       "    </tr>\n",
       "    <tr>\n",
       "      <th>25%</th>\n",
       "      <td>3.00</td>\n",
       "      <td>10.00</td>\n",
       "      <td>10.00</td>\n",
       "      <td>1.00</td>\n",
       "      <td>0.00</td>\n",
       "      <td>0.00</td>\n",
       "      <td>0.00</td>\n",
       "      <td>0.06</td>\n",
       "    </tr>\n",
       "    <tr>\n",
       "      <th>50%</th>\n",
       "      <td>6.00</td>\n",
       "      <td>20.00</td>\n",
       "      <td>20.00</td>\n",
       "      <td>2.00</td>\n",
       "      <td>0.00</td>\n",
       "      <td>0.00</td>\n",
       "      <td>0.00</td>\n",
       "      <td>0.14</td>\n",
       "    </tr>\n",
       "    <tr>\n",
       "      <th>75%</th>\n",
       "      <td>12.00</td>\n",
       "      <td>43.25</td>\n",
       "      <td>43.25</td>\n",
       "      <td>6.00</td>\n",
       "      <td>1.00</td>\n",
       "      <td>1.00</td>\n",
       "      <td>1.00</td>\n",
       "      <td>0.28</td>\n",
       "    </tr>\n",
       "    <tr>\n",
       "      <th>max</th>\n",
       "      <td>28.00</td>\n",
       "      <td>478.00</td>\n",
       "      <td>478.00</td>\n",
       "      <td>137.00</td>\n",
       "      <td>1.00</td>\n",
       "      <td>1.00</td>\n",
       "      <td>1.00</td>\n",
       "      <td>1.00</td>\n",
       "    </tr>\n",
       "  </tbody>\n",
       "</table>\n",
       "</div>"
      ],
      "text/plain": [
       "       duration  n_session  n_event  n_contacts_show  photos_show  tips_show  \\\n",
       "count    528.00     528.00   528.00           528.00       528.00     528.00   \n",
       "mean       8.26      40.67    40.67             5.85         0.42       0.49   \n",
       "std        6.49      60.78    60.78            12.06         0.49       0.50   \n",
       "min        2.00       2.00     2.00             1.00         0.00       0.00   \n",
       "25%        3.00      10.00    10.00             1.00         0.00       0.00   \n",
       "50%        6.00      20.00    20.00             2.00         0.00       0.00   \n",
       "75%       12.00      43.25    43.25             6.00         1.00       1.00   \n",
       "max       28.00     478.00   478.00           137.00         1.00       1.00   \n",
       "\n",
       "       search  conversion  \n",
       "count  528.00      528.00  \n",
       "mean     0.48        0.20  \n",
       "std      0.50        0.19  \n",
       "min      0.00        0.00  \n",
       "25%      0.00        0.06  \n",
       "50%      0.00        0.14  \n",
       "75%      1.00        0.28  \n",
       "max      1.00        1.00  "
      ]
     },
     "execution_count": 84,
     "metadata": {},
     "output_type": "execute_result"
    }
   ],
   "source": [
    "active_contacts_show.describe()"
   ]
  },
  {
   "cell_type": "markdown",
   "metadata": {},
   "source": [
    "Активные, достигают цели - работаем над другими группами, чтобы увеличить численность этой."
   ]
  },
  {
   "cell_type": "code",
   "execution_count": 85,
   "metadata": {},
   "outputs": [
    {
     "data": {
      "text/html": [
       "<div>\n",
       "<style scoped>\n",
       "    .dataframe tbody tr th:only-of-type {\n",
       "        vertical-align: middle;\n",
       "    }\n",
       "\n",
       "    .dataframe tbody tr th {\n",
       "        vertical-align: top;\n",
       "    }\n",
       "\n",
       "    .dataframe thead th {\n",
       "        text-align: right;\n",
       "    }\n",
       "</style>\n",
       "<table border=\"1\" class=\"dataframe\">\n",
       "  <thead>\n",
       "    <tr style=\"text-align: right;\">\n",
       "      <th></th>\n",
       "      <th>duration</th>\n",
       "      <th>n_session</th>\n",
       "      <th>n_event</th>\n",
       "      <th>n_contacts_show</th>\n",
       "      <th>photos_show</th>\n",
       "      <th>tips_show</th>\n",
       "      <th>search</th>\n",
       "      <th>conversion</th>\n",
       "    </tr>\n",
       "  </thead>\n",
       "  <tbody>\n",
       "    <tr>\n",
       "      <th>count</th>\n",
       "      <td>1,009.00</td>\n",
       "      <td>1,009.00</td>\n",
       "      <td>1,009.00</td>\n",
       "      <td>1,009.00</td>\n",
       "      <td>1,009.00</td>\n",
       "      <td>1,009.00</td>\n",
       "      <td>1,009.00</td>\n",
       "      <td>1,009.00</td>\n",
       "    </tr>\n",
       "    <tr>\n",
       "      <th>mean</th>\n",
       "      <td>8.32</td>\n",
       "      <td>23.11</td>\n",
       "      <td>23.11</td>\n",
       "      <td>0.00</td>\n",
       "      <td>0.32</td>\n",
       "      <td>0.63</td>\n",
       "      <td>0.47</td>\n",
       "      <td>0.00</td>\n",
       "    </tr>\n",
       "    <tr>\n",
       "      <th>std</th>\n",
       "      <td>6.36</td>\n",
       "      <td>30.57</td>\n",
       "      <td>30.57</td>\n",
       "      <td>0.00</td>\n",
       "      <td>0.47</td>\n",
       "      <td>0.48</td>\n",
       "      <td>0.50</td>\n",
       "      <td>0.00</td>\n",
       "    </tr>\n",
       "    <tr>\n",
       "      <th>min</th>\n",
       "      <td>2.00</td>\n",
       "      <td>2.00</td>\n",
       "      <td>2.00</td>\n",
       "      <td>0.00</td>\n",
       "      <td>0.00</td>\n",
       "      <td>0.00</td>\n",
       "      <td>0.00</td>\n",
       "      <td>0.00</td>\n",
       "    </tr>\n",
       "    <tr>\n",
       "      <th>25%</th>\n",
       "      <td>3.00</td>\n",
       "      <td>7.00</td>\n",
       "      <td>7.00</td>\n",
       "      <td>0.00</td>\n",
       "      <td>0.00</td>\n",
       "      <td>0.00</td>\n",
       "      <td>0.00</td>\n",
       "      <td>0.00</td>\n",
       "    </tr>\n",
       "    <tr>\n",
       "      <th>50%</th>\n",
       "      <td>6.00</td>\n",
       "      <td>13.00</td>\n",
       "      <td>13.00</td>\n",
       "      <td>0.00</td>\n",
       "      <td>0.00</td>\n",
       "      <td>1.00</td>\n",
       "      <td>0.00</td>\n",
       "      <td>0.00</td>\n",
       "    </tr>\n",
       "    <tr>\n",
       "      <th>75%</th>\n",
       "      <td>12.00</td>\n",
       "      <td>26.00</td>\n",
       "      <td>26.00</td>\n",
       "      <td>0.00</td>\n",
       "      <td>1.00</td>\n",
       "      <td>1.00</td>\n",
       "      <td>1.00</td>\n",
       "      <td>0.00</td>\n",
       "    </tr>\n",
       "    <tr>\n",
       "      <th>max</th>\n",
       "      <td>28.00</td>\n",
       "      <td>407.00</td>\n",
       "      <td>407.00</td>\n",
       "      <td>0.00</td>\n",
       "      <td>1.00</td>\n",
       "      <td>1.00</td>\n",
       "      <td>1.00</td>\n",
       "      <td>0.00</td>\n",
       "    </tr>\n",
       "  </tbody>\n",
       "</table>\n",
       "</div>"
      ],
      "text/plain": [
       "       duration  n_session  n_event  n_contacts_show  photos_show  tips_show  \\\n",
       "count  1,009.00   1,009.00 1,009.00         1,009.00     1,009.00   1,009.00   \n",
       "mean       8.32      23.11    23.11             0.00         0.32       0.63   \n",
       "std        6.36      30.57    30.57             0.00         0.47       0.48   \n",
       "min        2.00       2.00     2.00             0.00         0.00       0.00   \n",
       "25%        3.00       7.00     7.00             0.00         0.00       0.00   \n",
       "50%        6.00      13.00    13.00             0.00         0.00       1.00   \n",
       "75%       12.00      26.00    26.00             0.00         1.00       1.00   \n",
       "max       28.00     407.00   407.00             0.00         1.00       1.00   \n",
       "\n",
       "        search  conversion  \n",
       "count 1,009.00    1,009.00  \n",
       "mean      0.47        0.00  \n",
       "std       0.50        0.00  \n",
       "min       0.00        0.00  \n",
       "25%       0.00        0.00  \n",
       "50%       0.00        0.00  \n",
       "75%       1.00        0.00  \n",
       "max       1.00        0.00  "
      ]
     },
     "execution_count": 85,
     "metadata": {},
     "output_type": "execute_result"
    }
   ],
   "source": [
    "active_no_contacts_show.describe()"
   ]
  },
  {
   "cell_type": "markdown",
   "metadata": {},
   "source": [
    "Эта группа вторая по численности: активны, но не интересуются контактами. Возможно они \"осматриваются\" или не могут найти то, что им нужно. Нужно детальнее посмотреть, как они пользуются приложением: может им недостаточно финкционала приложения (нет возможности уточнения запроса, фильтров)."
   ]
  },
  {
   "cell_type": "code",
   "execution_count": 86,
   "metadata": {},
   "outputs": [
    {
     "data": {
      "text/html": [
       "<div>\n",
       "<style scoped>\n",
       "    .dataframe tbody tr th:only-of-type {\n",
       "        vertical-align: middle;\n",
       "    }\n",
       "\n",
       "    .dataframe tbody tr th {\n",
       "        vertical-align: top;\n",
       "    }\n",
       "\n",
       "    .dataframe thead th {\n",
       "        text-align: right;\n",
       "    }\n",
       "</style>\n",
       "<table border=\"1\" class=\"dataframe\">\n",
       "  <thead>\n",
       "    <tr style=\"text-align: right;\">\n",
       "      <th></th>\n",
       "      <th>duration</th>\n",
       "      <th>n_session</th>\n",
       "      <th>n_event</th>\n",
       "      <th>n_contacts_show</th>\n",
       "      <th>photos_show</th>\n",
       "      <th>tips_show</th>\n",
       "      <th>search</th>\n",
       "      <th>conversion</th>\n",
       "    </tr>\n",
       "  </thead>\n",
       "  <tbody>\n",
       "    <tr>\n",
       "      <th>count</th>\n",
       "      <td>453.00</td>\n",
       "      <td>453.00</td>\n",
       "      <td>453.00</td>\n",
       "      <td>453.00</td>\n",
       "      <td>453.00</td>\n",
       "      <td>453.00</td>\n",
       "      <td>453.00</td>\n",
       "      <td>453.00</td>\n",
       "    </tr>\n",
       "    <tr>\n",
       "      <th>mean</th>\n",
       "      <td>1.00</td>\n",
       "      <td>12.64</td>\n",
       "      <td>12.64</td>\n",
       "      <td>3.18</td>\n",
       "      <td>0.25</td>\n",
       "      <td>0.56</td>\n",
       "      <td>0.27</td>\n",
       "      <td>0.31</td>\n",
       "    </tr>\n",
       "    <tr>\n",
       "      <th>std</th>\n",
       "      <td>0.00</td>\n",
       "      <td>13.04</td>\n",
       "      <td>13.04</td>\n",
       "      <td>5.21</td>\n",
       "      <td>0.44</td>\n",
       "      <td>0.50</td>\n",
       "      <td>0.45</td>\n",
       "      <td>0.26</td>\n",
       "    </tr>\n",
       "    <tr>\n",
       "      <th>min</th>\n",
       "      <td>1.00</td>\n",
       "      <td>1.00</td>\n",
       "      <td>1.00</td>\n",
       "      <td>1.00</td>\n",
       "      <td>0.00</td>\n",
       "      <td>0.00</td>\n",
       "      <td>0.00</td>\n",
       "      <td>0.01</td>\n",
       "    </tr>\n",
       "    <tr>\n",
       "      <th>25%</th>\n",
       "      <td>1.00</td>\n",
       "      <td>5.00</td>\n",
       "      <td>5.00</td>\n",
       "      <td>1.00</td>\n",
       "      <td>0.00</td>\n",
       "      <td>0.00</td>\n",
       "      <td>0.00</td>\n",
       "      <td>0.12</td>\n",
       "    </tr>\n",
       "    <tr>\n",
       "      <th>50%</th>\n",
       "      <td>1.00</td>\n",
       "      <td>8.00</td>\n",
       "      <td>8.00</td>\n",
       "      <td>2.00</td>\n",
       "      <td>0.00</td>\n",
       "      <td>1.00</td>\n",
       "      <td>0.00</td>\n",
       "      <td>0.23</td>\n",
       "    </tr>\n",
       "    <tr>\n",
       "      <th>75%</th>\n",
       "      <td>1.00</td>\n",
       "      <td>15.00</td>\n",
       "      <td>15.00</td>\n",
       "      <td>3.00</td>\n",
       "      <td>1.00</td>\n",
       "      <td>1.00</td>\n",
       "      <td>1.00</td>\n",
       "      <td>0.40</td>\n",
       "    </tr>\n",
       "    <tr>\n",
       "      <th>max</th>\n",
       "      <td>1.00</td>\n",
       "      <td>104.00</td>\n",
       "      <td>104.00</td>\n",
       "      <td>65.00</td>\n",
       "      <td>1.00</td>\n",
       "      <td>1.00</td>\n",
       "      <td>1.00</td>\n",
       "      <td>1.00</td>\n",
       "    </tr>\n",
       "  </tbody>\n",
       "</table>\n",
       "</div>"
      ],
      "text/plain": [
       "       duration  n_session  n_event  n_contacts_show  photos_show  tips_show  \\\n",
       "count    453.00     453.00   453.00           453.00       453.00     453.00   \n",
       "mean       1.00      12.64    12.64             3.18         0.25       0.56   \n",
       "std        0.00      13.04    13.04             5.21         0.44       0.50   \n",
       "min        1.00       1.00     1.00             1.00         0.00       0.00   \n",
       "25%        1.00       5.00     5.00             1.00         0.00       0.00   \n",
       "50%        1.00       8.00     8.00             2.00         0.00       1.00   \n",
       "75%        1.00      15.00    15.00             3.00         1.00       1.00   \n",
       "max        1.00     104.00   104.00            65.00         1.00       1.00   \n",
       "\n",
       "       search  conversion  \n",
       "count  453.00      453.00  \n",
       "mean     0.27        0.31  \n",
       "std      0.45        0.26  \n",
       "min      0.00        0.01  \n",
       "25%      0.00        0.12  \n",
       "50%      0.00        0.23  \n",
       "75%      1.00        0.40  \n",
       "max      1.00        1.00  "
      ]
     },
     "execution_count": 86,
     "metadata": {},
     "output_type": "execute_result"
    }
   ],
   "source": [
    "inactive_contacts_show.describe()"
   ]
  },
  {
   "cell_type": "markdown",
   "metadata": {},
   "source": [
    "Самая маленькая группа пользователей. Они пользовались приложением лишь раз, но все равно достигли цели."
   ]
  },
  {
   "cell_type": "code",
   "execution_count": 87,
   "metadata": {},
   "outputs": [
    {
     "data": {
      "text/html": [
       "<div>\n",
       "<style scoped>\n",
       "    .dataframe tbody tr th:only-of-type {\n",
       "        vertical-align: middle;\n",
       "    }\n",
       "\n",
       "    .dataframe tbody tr th {\n",
       "        vertical-align: top;\n",
       "    }\n",
       "\n",
       "    .dataframe thead th {\n",
       "        text-align: right;\n",
       "    }\n",
       "</style>\n",
       "<table border=\"1\" class=\"dataframe\">\n",
       "  <thead>\n",
       "    <tr style=\"text-align: right;\">\n",
       "      <th></th>\n",
       "      <th>duration</th>\n",
       "      <th>n_session</th>\n",
       "      <th>n_event</th>\n",
       "      <th>n_contacts_show</th>\n",
       "      <th>photos_show</th>\n",
       "      <th>tips_show</th>\n",
       "      <th>search</th>\n",
       "      <th>conversion</th>\n",
       "    </tr>\n",
       "  </thead>\n",
       "  <tbody>\n",
       "    <tr>\n",
       "      <th>count</th>\n",
       "      <td>2,303.00</td>\n",
       "      <td>2,303.00</td>\n",
       "      <td>2,303.00</td>\n",
       "      <td>2,303.00</td>\n",
       "      <td>2,303.00</td>\n",
       "      <td>2,303.00</td>\n",
       "      <td>2,303.00</td>\n",
       "      <td>2,303.00</td>\n",
       "    </tr>\n",
       "    <tr>\n",
       "      <th>mean</th>\n",
       "      <td>1.00</td>\n",
       "      <td>10.28</td>\n",
       "      <td>10.28</td>\n",
       "      <td>0.00</td>\n",
       "      <td>0.19</td>\n",
       "      <td>0.72</td>\n",
       "      <td>0.35</td>\n",
       "      <td>0.00</td>\n",
       "    </tr>\n",
       "    <tr>\n",
       "      <th>std</th>\n",
       "      <td>0.00</td>\n",
       "      <td>10.01</td>\n",
       "      <td>10.01</td>\n",
       "      <td>0.00</td>\n",
       "      <td>0.39</td>\n",
       "      <td>0.45</td>\n",
       "      <td>0.48</td>\n",
       "      <td>0.00</td>\n",
       "    </tr>\n",
       "    <tr>\n",
       "      <th>min</th>\n",
       "      <td>1.00</td>\n",
       "      <td>1.00</td>\n",
       "      <td>1.00</td>\n",
       "      <td>0.00</td>\n",
       "      <td>0.00</td>\n",
       "      <td>0.00</td>\n",
       "      <td>0.00</td>\n",
       "      <td>0.00</td>\n",
       "    </tr>\n",
       "    <tr>\n",
       "      <th>25%</th>\n",
       "      <td>1.00</td>\n",
       "      <td>5.00</td>\n",
       "      <td>5.00</td>\n",
       "      <td>0.00</td>\n",
       "      <td>0.00</td>\n",
       "      <td>0.00</td>\n",
       "      <td>0.00</td>\n",
       "      <td>0.00</td>\n",
       "    </tr>\n",
       "    <tr>\n",
       "      <th>50%</th>\n",
       "      <td>1.00</td>\n",
       "      <td>7.00</td>\n",
       "      <td>7.00</td>\n",
       "      <td>0.00</td>\n",
       "      <td>0.00</td>\n",
       "      <td>1.00</td>\n",
       "      <td>0.00</td>\n",
       "      <td>0.00</td>\n",
       "    </tr>\n",
       "    <tr>\n",
       "      <th>75%</th>\n",
       "      <td>1.00</td>\n",
       "      <td>12.00</td>\n",
       "      <td>12.00</td>\n",
       "      <td>0.00</td>\n",
       "      <td>0.00</td>\n",
       "      <td>1.00</td>\n",
       "      <td>1.00</td>\n",
       "      <td>0.00</td>\n",
       "    </tr>\n",
       "    <tr>\n",
       "      <th>max</th>\n",
       "      <td>1.00</td>\n",
       "      <td>97.00</td>\n",
       "      <td>97.00</td>\n",
       "      <td>0.00</td>\n",
       "      <td>1.00</td>\n",
       "      <td>1.00</td>\n",
       "      <td>1.00</td>\n",
       "      <td>0.00</td>\n",
       "    </tr>\n",
       "  </tbody>\n",
       "</table>\n",
       "</div>"
      ],
      "text/plain": [
       "       duration  n_session  n_event  n_contacts_show  photos_show  tips_show  \\\n",
       "count  2,303.00   2,303.00 2,303.00         2,303.00     2,303.00   2,303.00   \n",
       "mean       1.00      10.28    10.28             0.00         0.19       0.72   \n",
       "std        0.00      10.01    10.01             0.00         0.39       0.45   \n",
       "min        1.00       1.00     1.00             0.00         0.00       0.00   \n",
       "25%        1.00       5.00     5.00             0.00         0.00       0.00   \n",
       "50%        1.00       7.00     7.00             0.00         0.00       1.00   \n",
       "75%        1.00      12.00    12.00             0.00         0.00       1.00   \n",
       "max        1.00      97.00    97.00             0.00         1.00       1.00   \n",
       "\n",
       "        search  conversion  \n",
       "count 2,303.00    2,303.00  \n",
       "mean      0.35        0.00  \n",
       "std       0.48        0.00  \n",
       "min       0.00        0.00  \n",
       "25%       0.00        0.00  \n",
       "50%       0.00        0.00  \n",
       "75%       1.00        0.00  \n",
       "max       1.00        0.00  "
      ]
     },
     "execution_count": 87,
     "metadata": {},
     "output_type": "execute_result"
    }
   ],
   "source": [
    "inactive_no_contacts_show.describe()"
   ]
  },
  {
   "cell_type": "markdown",
   "metadata": {},
   "source": [
    "Самая многочисленная группа - почти не пользуются и не достигают цели. Необходимо искать способ \"вернуть\" их в прилжение."
   ]
  },
  {
   "cell_type": "markdown",
   "metadata": {},
   "source": [
    "Вывод\n",
    "\n",
    "Пользователи были разделены на четыре группы в зависимости от их активности и достижения целевого действия:\n",
    "\n",
    "Активные пользователи, достигающие цели: Эта группа активно использует приложение и регулярно просматривает контакты. Основные усилия должны быть направлены на поддержание и увеличение численности этой группы.\n",
    "\n",
    "Активные пользователи, не достигающие цели: Пользователи в этой группе активно используют приложение, но не проявляют интереса к просмотру контактов. Возможно, им не хватает функционала или они не могут найти то, что им нужно. Необходимо детальнее изучить их поведение в приложении.\n",
    "\n",
    "Малопользующиеся, но достигающие цели: Эта группа пользователей использовала приложение лишь раз, но достигла цели. Возможно, стоит напомнить им о приложении с помощью уведомлений или других методов вовлечения.\n",
    "\n",
    "Малопользующиеся и не достигающие цели: Самая многочисленная группа, которая почти не использует приложение и не достигает цели. Необходимо разработать стратегии для возвращения этих пользователей в приложение, такие как пуш-уведомления и рассылки.\n"
   ]
  },
  {
   "cell_type": "markdown",
   "metadata": {},
   "source": [
    "У нас также не пересекаются пользователи, которые пользуются рекомендованными объявлениями, и те, кто ищет через строку поиска. Мы можем разделить пользователей по тому, что они выбрали поиск или рекомендации и придумать способы поднятия конверсии в каждой группе:"
   ]
  },
  {
   "cell_type": "code",
   "execution_count": 88,
   "metadata": {},
   "outputs": [],
   "source": [
    "tips_show_yes = grouped_by_user.query('tips_show == 1')\n",
    "search_yes = grouped_by_user.query('search == 1')"
   ]
  },
  {
   "cell_type": "code",
   "execution_count": 89,
   "metadata": {},
   "outputs": [
    {
     "data": {
      "text/plain": [
       "Text(0.5, 0, 'Конверсии в просмотры')"
      ]
     },
     "execution_count": 89,
     "metadata": {},
     "output_type": "execute_result"
    },
    {
     "data": {
      "image/png": "[encoded data removed]",
      "text/plain": [
       "<Figure size 720x720 with 4 Axes>"
      ]
     },
     "metadata": {},
     "output_type": "display_data"
    }
   ],
   "source": [
    "fig = plt.figure(figsize=(10,10))\n",
    "area = fig.add_subplot(2, 2, 1)\n",
    "ax = sns.distplot(tips_show_yes['n_event'])\n",
    "ax.set_title(\"Смотрят рекомендации\")\n",
    "ax.set_xlabel(\"Количество событий в течении сессии\")\n",
    "\n",
    "area = fig.add_subplot(2, 2, 2)\n",
    "ax = sns.distplot(search_yes['n_event'])\n",
    "ax.set_title(\"Пользуются поиском\")\n",
    "ax.set_xlabel(\"Количество событий в течении сессии\")\n",
    "\n",
    "area = fig.add_subplot(2, 2, 3)\n",
    "ax = sns.distplot(tips_show_yes['conversion'])\n",
    "ax.set_xlabel(\"Конверсии в просмотры\")\n",
    "\n",
    "\n",
    "area = fig.add_subplot(2, 2, 4)\n",
    "ax=sns.distplot(search_yes['conversion'])\n",
    "ax.set_xlabel(\"Конверсии в просмотры\")"
   ]
  },
  {
   "cell_type": "markdown",
   "metadata": {},
   "source": [
    "Пользователи всё чаще обращаются к рекомендациям, но эффективность их использования оставляет желать лучшего. Они просто просматривают предложения, не делая выбор.\n",
    "\n",
    "Необходимо проанализировать работу системы подбора рекомендуемых объявлений и определить, какие улучшения можно внести. После этого следует провести тестирование изменений.\n",
    "\n",
    "Также можно усовершенствовать процесс поиска, повысив релевантность выдачи, добавив фильтры и другие функции.\n",
    "\n",
    "Добавим информацию об источниках и разобьем пользователей на группы"
   ]
  },
  {
   "cell_type": "code",
   "execution_count": 90,
   "metadata": {},
   "outputs": [
    {
     "data": {
      "text/html": [
       "<div>\n",
       "<style scoped>\n",
       "    .dataframe tbody tr th:only-of-type {\n",
       "        vertical-align: middle;\n",
       "    }\n",
       "\n",
       "    .dataframe tbody tr th {\n",
       "        vertical-align: top;\n",
       "    }\n",
       "\n",
       "    .dataframe thead th {\n",
       "        text-align: right;\n",
       "    }\n",
       "</style>\n",
       "<table border=\"1\" class=\"dataframe\">\n",
       "  <thead>\n",
       "    <tr style=\"text-align: right;\">\n",
       "      <th></th>\n",
       "      <th>user_id</th>\n",
       "      <th>duration</th>\n",
       "      <th>n_session</th>\n",
       "      <th>n_event</th>\n",
       "      <th>n_contacts_show</th>\n",
       "      <th>photos_show</th>\n",
       "      <th>tips_show</th>\n",
       "      <th>search</th>\n",
       "      <th>conversion</th>\n",
       "      <th>source</th>\n",
       "    </tr>\n",
       "  </thead>\n",
       "  <tbody>\n",
       "    <tr>\n",
       "      <th>0</th>\n",
       "      <td>0001b1d5-b74a-4cbf-aeb0-7df5947bf349</td>\n",
       "      <td>16</td>\n",
       "      <td>35</td>\n",
       "      <td>35</td>\n",
       "      <td>0</td>\n",
       "      <td>0</td>\n",
       "      <td>1</td>\n",
       "      <td>0</td>\n",
       "      <td>0.00</td>\n",
       "      <td>other</td>\n",
       "    </tr>\n",
       "    <tr>\n",
       "      <th>1</th>\n",
       "      <td>00157779-810c-4498-9e05-a1e9e3cedf93</td>\n",
       "      <td>16</td>\n",
       "      <td>71</td>\n",
       "      <td>71</td>\n",
       "      <td>11</td>\n",
       "      <td>1</td>\n",
       "      <td>0</td>\n",
       "      <td>1</td>\n",
       "      <td>0.15</td>\n",
       "      <td>yandex</td>\n",
       "    </tr>\n",
       "    <tr>\n",
       "      <th>2</th>\n",
       "      <td>00463033-5717-4bf1-91b4-09183923b9df</td>\n",
       "      <td>1</td>\n",
       "      <td>10</td>\n",
       "      <td>10</td>\n",
       "      <td>0</td>\n",
       "      <td>1</td>\n",
       "      <td>0</td>\n",
       "      <td>0</td>\n",
       "      <td>0.00</td>\n",
       "      <td>yandex</td>\n",
       "    </tr>\n",
       "    <tr>\n",
       "      <th>3</th>\n",
       "      <td>004690c3-5a84-4bb7-a8af-e0c8f8fca64e</td>\n",
       "      <td>14</td>\n",
       "      <td>32</td>\n",
       "      <td>32</td>\n",
       "      <td>0</td>\n",
       "      <td>0</td>\n",
       "      <td>1</td>\n",
       "      <td>1</td>\n",
       "      <td>0.00</td>\n",
       "      <td>google</td>\n",
       "    </tr>\n",
       "    <tr>\n",
       "      <th>4</th>\n",
       "      <td>00551e79-152e-4441-9cf7-565d7eb04090</td>\n",
       "      <td>5</td>\n",
       "      <td>8</td>\n",
       "      <td>8</td>\n",
       "      <td>3</td>\n",
       "      <td>1</td>\n",
       "      <td>0</td>\n",
       "      <td>1</td>\n",
       "      <td>0.38</td>\n",
       "      <td>yandex</td>\n",
       "    </tr>\n",
       "    <tr>\n",
       "      <th>...</th>\n",
       "      <td>...</td>\n",
       "      <td>...</td>\n",
       "      <td>...</td>\n",
       "      <td>...</td>\n",
       "      <td>...</td>\n",
       "      <td>...</td>\n",
       "      <td>...</td>\n",
       "      <td>...</td>\n",
       "      <td>...</td>\n",
       "      <td>...</td>\n",
       "    </tr>\n",
       "    <tr>\n",
       "      <th>4288</th>\n",
       "      <td>ffab8d8a-30bb-424a-a3ab-0b63ebbf7b07</td>\n",
       "      <td>14</td>\n",
       "      <td>17</td>\n",
       "      <td>17</td>\n",
       "      <td>0</td>\n",
       "      <td>0</td>\n",
       "      <td>1</td>\n",
       "      <td>0</td>\n",
       "      <td>0.00</td>\n",
       "      <td>yandex</td>\n",
       "    </tr>\n",
       "    <tr>\n",
       "      <th>4289</th>\n",
       "      <td>ffc01466-fdb1-4460-ae94-e800f52eb136</td>\n",
       "      <td>1</td>\n",
       "      <td>7</td>\n",
       "      <td>7</td>\n",
       "      <td>1</td>\n",
       "      <td>1</td>\n",
       "      <td>0</td>\n",
       "      <td>0</td>\n",
       "      <td>0.14</td>\n",
       "      <td>yandex</td>\n",
       "    </tr>\n",
       "    <tr>\n",
       "      <th>4290</th>\n",
       "      <td>ffcf50d9-293c-4254-8243-4890b030b238</td>\n",
       "      <td>1</td>\n",
       "      <td>2</td>\n",
       "      <td>2</td>\n",
       "      <td>0</td>\n",
       "      <td>0</td>\n",
       "      <td>1</td>\n",
       "      <td>0</td>\n",
       "      <td>0.00</td>\n",
       "      <td>google</td>\n",
       "    </tr>\n",
       "    <tr>\n",
       "      <th>4291</th>\n",
       "      <td>ffe68f10-e48e-470e-be9b-eeb93128ff1a</td>\n",
       "      <td>8</td>\n",
       "      <td>13</td>\n",
       "      <td>13</td>\n",
       "      <td>1</td>\n",
       "      <td>1</td>\n",
       "      <td>0</td>\n",
       "      <td>1</td>\n",
       "      <td>0.08</td>\n",
       "      <td>yandex</td>\n",
       "    </tr>\n",
       "    <tr>\n",
       "      <th>4292</th>\n",
       "      <td>fffb9e79-b927-4dbb-9b48-7fd09b23a62b</td>\n",
       "      <td>23</td>\n",
       "      <td>303</td>\n",
       "      <td>303</td>\n",
       "      <td>68</td>\n",
       "      <td>0</td>\n",
       "      <td>1</td>\n",
       "      <td>0</td>\n",
       "      <td>0.22</td>\n",
       "      <td>google</td>\n",
       "    </tr>\n",
       "  </tbody>\n",
       "</table>\n",
       "<p>4293 rows × 10 columns</p>\n",
       "</div>"
      ],
      "text/plain": [
       "                                   user_id  duration  n_session  n_event  \\\n",
       "0     0001b1d5-b74a-4cbf-aeb0-7df5947bf349        16         35       35   \n",
       "1     00157779-810c-4498-9e05-a1e9e3cedf93        16         71       71   \n",
       "2     00463033-5717-4bf1-91b4-09183923b9df         1         10       10   \n",
       "3     004690c3-5a84-4bb7-a8af-e0c8f8fca64e        14         32       32   \n",
       "4     00551e79-152e-4441-9cf7-565d7eb04090         5          8        8   \n",
       "...                                    ...       ...        ...      ...   \n",
       "4288  ffab8d8a-30bb-424a-a3ab-0b63ebbf7b07        14         17       17   \n",
       "4289  ffc01466-fdb1-4460-ae94-e800f52eb136         1          7        7   \n",
       "4290  ffcf50d9-293c-4254-8243-4890b030b238         1          2        2   \n",
       "4291  ffe68f10-e48e-470e-be9b-eeb93128ff1a         8         13       13   \n",
       "4292  fffb9e79-b927-4dbb-9b48-7fd09b23a62b        23        303      303   \n",
       "\n",
       "      n_contacts_show  photos_show  tips_show  search  conversion  source  \n",
       "0                   0            0          1       0        0.00   other  \n",
       "1                  11            1          0       1        0.15  yandex  \n",
       "2                   0            1          0       0        0.00  yandex  \n",
       "3                   0            0          1       1        0.00  google  \n",
       "4                   3            1          0       1        0.38  yandex  \n",
       "...               ...          ...        ...     ...         ...     ...  \n",
       "4288                0            0          1       0        0.00  yandex  \n",
       "4289                1            1          0       0        0.14  yandex  \n",
       "4290                0            0          1       0        0.00  google  \n",
       "4291                1            1          0       1        0.08  yandex  \n",
       "4292               68            0          1       0        0.22  google  \n",
       "\n",
       "[4293 rows x 10 columns]"
      ]
     },
     "execution_count": 90,
     "metadata": {},
     "output_type": "execute_result"
    }
   ],
   "source": [
    "grouped_by_user = grouped_by_user.merge(sources, on='user_id')\n",
    "grouped_by_user"
   ]
  },
  {
   "cell_type": "code",
   "execution_count": 91,
   "metadata": {},
   "outputs": [
    {
     "name": "stdout",
     "output_type": "stream",
     "text": [
      "<class 'pandas.core.frame.DataFrame'>\n",
      "Int64Index: 4293 entries, 0 to 4292\n",
      "Data columns (total 10 columns):\n",
      " #   Column           Non-Null Count  Dtype  \n",
      "---  ------           --------------  -----  \n",
      " 0   user_id          4293 non-null   object \n",
      " 1   duration         4293 non-null   int64  \n",
      " 2   n_session        4293 non-null   int64  \n",
      " 3   n_event          4293 non-null   int64  \n",
      " 4   n_contacts_show  4293 non-null   int64  \n",
      " 5   photos_show      4293 non-null   int64  \n",
      " 6   tips_show        4293 non-null   int64  \n",
      " 7   search           4293 non-null   int64  \n",
      " 8   conversion       4293 non-null   float64\n",
      " 9   source           4293 non-null   object \n",
      "dtypes: float64(1), int64(7), object(2)\n",
      "memory usage: 368.9+ KB\n"
     ]
    }
   ],
   "source": [
    "grouped_by_user.info()"
   ]
  },
  {
   "cell_type": "markdown",
   "metadata": {},
   "source": [
    "Разделим пользователей на группы по источнику и визуально их сравним:"
   ]
  },
  {
   "cell_type": "code",
   "execution_count": 92,
   "metadata": {},
   "outputs": [],
   "source": [
    "source_yandex = grouped_by_user.query('source == \"yandex\"')\n",
    "source_google = grouped_by_user.query('source == \"google\"')"
   ]
  },
  {
   "cell_type": "code",
   "execution_count": 93,
   "metadata": {},
   "outputs": [
    {
     "data": {
      "text/html": [
       "<div>\n",
       "<style scoped>\n",
       "    .dataframe tbody tr th:only-of-type {\n",
       "        vertical-align: middle;\n",
       "    }\n",
       "\n",
       "    .dataframe tbody tr th {\n",
       "        vertical-align: top;\n",
       "    }\n",
       "\n",
       "    .dataframe thead th {\n",
       "        text-align: right;\n",
       "    }\n",
       "</style>\n",
       "<table border=\"1\" class=\"dataframe\">\n",
       "  <thead>\n",
       "    <tr style=\"text-align: right;\">\n",
       "      <th></th>\n",
       "      <th>duration</th>\n",
       "      <th>n_session</th>\n",
       "      <th>n_event</th>\n",
       "      <th>n_contacts_show</th>\n",
       "      <th>photos_show</th>\n",
       "      <th>tips_show</th>\n",
       "      <th>search</th>\n",
       "      <th>conversion</th>\n",
       "    </tr>\n",
       "  </thead>\n",
       "  <tbody>\n",
       "    <tr>\n",
       "      <th>count</th>\n",
       "      <td>1,934.00</td>\n",
       "      <td>1,934.00</td>\n",
       "      <td>1,934.00</td>\n",
       "      <td>1,934.00</td>\n",
       "      <td>1,934.00</td>\n",
       "      <td>1,934.00</td>\n",
       "      <td>1,934.00</td>\n",
       "      <td>1,934.00</td>\n",
       "    </tr>\n",
       "    <tr>\n",
       "      <th>mean</th>\n",
       "      <td>3.58</td>\n",
       "      <td>17.73</td>\n",
       "      <td>17.73</td>\n",
       "      <td>1.05</td>\n",
       "      <td>0.23</td>\n",
       "      <td>0.68</td>\n",
       "      <td>0.32</td>\n",
       "      <td>0.06</td>\n",
       "    </tr>\n",
       "    <tr>\n",
       "      <th>std</th>\n",
       "      <td>5.09</td>\n",
       "      <td>30.83</td>\n",
       "      <td>30.83</td>\n",
       "      <td>4.36</td>\n",
       "      <td>0.42</td>\n",
       "      <td>0.47</td>\n",
       "      <td>0.47</td>\n",
       "      <td>0.16</td>\n",
       "    </tr>\n",
       "    <tr>\n",
       "      <th>min</th>\n",
       "      <td>1.00</td>\n",
       "      <td>1.00</td>\n",
       "      <td>1.00</td>\n",
       "      <td>0.00</td>\n",
       "      <td>0.00</td>\n",
       "      <td>0.00</td>\n",
       "      <td>0.00</td>\n",
       "      <td>0.00</td>\n",
       "    </tr>\n",
       "    <tr>\n",
       "      <th>25%</th>\n",
       "      <td>1.00</td>\n",
       "      <td>5.00</td>\n",
       "      <td>5.00</td>\n",
       "      <td>0.00</td>\n",
       "      <td>0.00</td>\n",
       "      <td>0.00</td>\n",
       "      <td>0.00</td>\n",
       "      <td>0.00</td>\n",
       "    </tr>\n",
       "    <tr>\n",
       "      <th>50%</th>\n",
       "      <td>1.00</td>\n",
       "      <td>9.00</td>\n",
       "      <td>9.00</td>\n",
       "      <td>0.00</td>\n",
       "      <td>0.00</td>\n",
       "      <td>1.00</td>\n",
       "      <td>0.00</td>\n",
       "      <td>0.00</td>\n",
       "    </tr>\n",
       "    <tr>\n",
       "      <th>75%</th>\n",
       "      <td>4.00</td>\n",
       "      <td>18.00</td>\n",
       "      <td>18.00</td>\n",
       "      <td>0.00</td>\n",
       "      <td>0.00</td>\n",
       "      <td>1.00</td>\n",
       "      <td>1.00</td>\n",
       "      <td>0.00</td>\n",
       "    </tr>\n",
       "    <tr>\n",
       "      <th>max</th>\n",
       "      <td>28.00</td>\n",
       "      <td>478.00</td>\n",
       "      <td>478.00</td>\n",
       "      <td>86.00</td>\n",
       "      <td>1.00</td>\n",
       "      <td>1.00</td>\n",
       "      <td>1.00</td>\n",
       "      <td>1.00</td>\n",
       "    </tr>\n",
       "  </tbody>\n",
       "</table>\n",
       "</div>"
      ],
      "text/plain": [
       "       duration  n_session  n_event  n_contacts_show  photos_show  tips_show  \\\n",
       "count  1,934.00   1,934.00 1,934.00         1,934.00     1,934.00   1,934.00   \n",
       "mean       3.58      17.73    17.73             1.05         0.23       0.68   \n",
       "std        5.09      30.83    30.83             4.36         0.42       0.47   \n",
       "min        1.00       1.00     1.00             0.00         0.00       0.00   \n",
       "25%        1.00       5.00     5.00             0.00         0.00       0.00   \n",
       "50%        1.00       9.00     9.00             0.00         0.00       1.00   \n",
       "75%        4.00      18.00    18.00             0.00         0.00       1.00   \n",
       "max       28.00     478.00   478.00            86.00         1.00       1.00   \n",
       "\n",
       "        search  conversion  \n",
       "count 1,934.00    1,934.00  \n",
       "mean      0.32        0.06  \n",
       "std       0.47        0.16  \n",
       "min       0.00        0.00  \n",
       "25%       0.00        0.00  \n",
       "50%       0.00        0.00  \n",
       "75%       1.00        0.00  \n",
       "max       1.00        1.00  "
      ]
     },
     "execution_count": 93,
     "metadata": {},
     "output_type": "execute_result"
    }
   ],
   "source": [
    "source_yandex.describe()"
   ]
  },
  {
   "cell_type": "code",
   "execution_count": 94,
   "metadata": {},
   "outputs": [
    {
     "data": {
      "text/html": [
       "<div>\n",
       "<style scoped>\n",
       "    .dataframe tbody tr th:only-of-type {\n",
       "        vertical-align: middle;\n",
       "    }\n",
       "\n",
       "    .dataframe tbody tr th {\n",
       "        vertical-align: top;\n",
       "    }\n",
       "\n",
       "    .dataframe thead th {\n",
       "        text-align: right;\n",
       "    }\n",
       "</style>\n",
       "<table border=\"1\" class=\"dataframe\">\n",
       "  <thead>\n",
       "    <tr style=\"text-align: right;\">\n",
       "      <th></th>\n",
       "      <th>duration</th>\n",
       "      <th>n_session</th>\n",
       "      <th>n_event</th>\n",
       "      <th>n_contacts_show</th>\n",
       "      <th>photos_show</th>\n",
       "      <th>tips_show</th>\n",
       "      <th>search</th>\n",
       "      <th>conversion</th>\n",
       "    </tr>\n",
       "  </thead>\n",
       "  <tbody>\n",
       "    <tr>\n",
       "      <th>count</th>\n",
       "      <td>1,129.00</td>\n",
       "      <td>1,129.00</td>\n",
       "      <td>1,129.00</td>\n",
       "      <td>1,129.00</td>\n",
       "      <td>1,129.00</td>\n",
       "      <td>1,129.00</td>\n",
       "      <td>1,129.00</td>\n",
       "      <td>1,129.00</td>\n",
       "    </tr>\n",
       "    <tr>\n",
       "      <th>mean</th>\n",
       "      <td>3.48</td>\n",
       "      <td>18.11</td>\n",
       "      <td>18.11</td>\n",
       "      <td>1.28</td>\n",
       "      <td>0.32</td>\n",
       "      <td>0.58</td>\n",
       "      <td>0.43</td>\n",
       "      <td>0.06</td>\n",
       "    </tr>\n",
       "    <tr>\n",
       "      <th>std</th>\n",
       "      <td>5.11</td>\n",
       "      <td>32.09</td>\n",
       "      <td>32.09</td>\n",
       "      <td>6.58</td>\n",
       "      <td>0.47</td>\n",
       "      <td>0.49</td>\n",
       "      <td>0.50</td>\n",
       "      <td>0.16</td>\n",
       "    </tr>\n",
       "    <tr>\n",
       "      <th>min</th>\n",
       "      <td>1.00</td>\n",
       "      <td>1.00</td>\n",
       "      <td>1.00</td>\n",
       "      <td>0.00</td>\n",
       "      <td>0.00</td>\n",
       "      <td>0.00</td>\n",
       "      <td>0.00</td>\n",
       "      <td>0.00</td>\n",
       "    </tr>\n",
       "    <tr>\n",
       "      <th>25%</th>\n",
       "      <td>1.00</td>\n",
       "      <td>5.00</td>\n",
       "      <td>5.00</td>\n",
       "      <td>0.00</td>\n",
       "      <td>0.00</td>\n",
       "      <td>0.00</td>\n",
       "      <td>0.00</td>\n",
       "      <td>0.00</td>\n",
       "    </tr>\n",
       "    <tr>\n",
       "      <th>50%</th>\n",
       "      <td>1.00</td>\n",
       "      <td>9.00</td>\n",
       "      <td>9.00</td>\n",
       "      <td>0.00</td>\n",
       "      <td>0.00</td>\n",
       "      <td>1.00</td>\n",
       "      <td>0.00</td>\n",
       "      <td>0.00</td>\n",
       "    </tr>\n",
       "    <tr>\n",
       "      <th>75%</th>\n",
       "      <td>3.00</td>\n",
       "      <td>18.00</td>\n",
       "      <td>18.00</td>\n",
       "      <td>0.00</td>\n",
       "      <td>1.00</td>\n",
       "      <td>1.00</td>\n",
       "      <td>1.00</td>\n",
       "      <td>0.00</td>\n",
       "    </tr>\n",
       "    <tr>\n",
       "      <th>max</th>\n",
       "      <td>28.00</td>\n",
       "      <td>397.00</td>\n",
       "      <td>397.00</td>\n",
       "      <td>137.00</td>\n",
       "      <td>1.00</td>\n",
       "      <td>1.00</td>\n",
       "      <td>1.00</td>\n",
       "      <td>1.00</td>\n",
       "    </tr>\n",
       "  </tbody>\n",
       "</table>\n",
       "</div>"
      ],
      "text/plain": [
       "       duration  n_session  n_event  n_contacts_show  photos_show  tips_show  \\\n",
       "count  1,129.00   1,129.00 1,129.00         1,129.00     1,129.00   1,129.00   \n",
       "mean       3.48      18.11    18.11             1.28         0.32       0.58   \n",
       "std        5.11      32.09    32.09             6.58         0.47       0.49   \n",
       "min        1.00       1.00     1.00             0.00         0.00       0.00   \n",
       "25%        1.00       5.00     5.00             0.00         0.00       0.00   \n",
       "50%        1.00       9.00     9.00             0.00         0.00       1.00   \n",
       "75%        3.00      18.00    18.00             0.00         1.00       1.00   \n",
       "max       28.00     397.00   397.00           137.00         1.00       1.00   \n",
       "\n",
       "        search  conversion  \n",
       "count 1,129.00    1,129.00  \n",
       "mean      0.43        0.06  \n",
       "std       0.50        0.16  \n",
       "min       0.00        0.00  \n",
       "25%       0.00        0.00  \n",
       "50%       0.00        0.00  \n",
       "75%       1.00        0.00  \n",
       "max       1.00        1.00  "
      ]
     },
     "execution_count": 94,
     "metadata": {},
     "output_type": "execute_result"
    }
   ],
   "source": [
    "source_google.describe()"
   ]
  },
  {
   "cell_type": "code",
   "execution_count": 95,
   "metadata": {},
   "outputs": [
    {
     "data": {
      "text/plain": [
       "Text(0.5, 0, 'Конверсии в просмотры')"
      ]
     },
     "execution_count": 95,
     "metadata": {},
     "output_type": "execute_result"
    },
    {
     "data": {
      "image/png": "[encoded data removed]",
      "text/plain": [
       "<Figure size 720x720 with 4 Axes>"
      ]
     },
     "metadata": {},
     "output_type": "display_data"
    }
   ],
   "source": [
    "fig = plt.figure(figsize=(10,10))\n",
    "area = fig.add_subplot(2, 2, 1)\n",
    "ax = sns.distplot(source_yandex['n_event'])\n",
    "ax.set_title(\"Установки из yandex\")\n",
    "ax.set_xlabel(\"Количество событий в течении сессии\")\n",
    "\n",
    "area = fig.add_subplot(2, 2, 2)\n",
    "ax = sns.distplot(source_google['n_event'])\n",
    "ax.set_title(\"Установки из google\")\n",
    "ax.set_xlabel(\"Количество событий в течении сессии\")\n",
    "\n",
    "area = fig.add_subplot(2, 2, 3)\n",
    "ax = sns.distplot(source_yandex['conversion'])\n",
    "ax.set_xlabel(\"Конверсии в просмотры\")\n",
    "\n",
    "\n",
    "area = fig.add_subplot(2, 2, 4)\n",
    "ax=sns.distplot(source_google['conversion'])\n",
    "ax.set_xlabel(\"Конверсии в просмотры\")"
   ]
  },
  {
   "cell_type": "markdown",
   "metadata": {},
   "source": [
    "При рассмотрении по источникам установки видно, пользователи установившие приложение из Googla просматривают контакт более активно"
   ]
  },
  {
   "cell_type": "markdown",
   "metadata": {},
   "source": [
    "## Проверка статистических гипотез"
   ]
  },
  {
   "cell_type": "markdown",
   "metadata": {},
   "source": [
    "### Некоторые пользователи установили приложение по ссылке из yandex , другие — из google . Проверим гипотезу: две эти группы демонстрируют разную конверсию в просмотры контактов"
   ]
  },
  {
   "cell_type": "markdown",
   "metadata": {},
   "source": [
    "Разделим данные на группы в зависимости от источника установки приложения:"
   ]
  },
  {
   "cell_type": "code",
   "execution_count": 96,
   "metadata": {},
   "outputs": [],
   "source": [
    "google_df = df.query('source == \"google\"')\n",
    "yandex_df = df.query('source == \"yandex\"')"
   ]
  },
  {
   "cell_type": "markdown",
   "metadata": {},
   "source": [
    "Для проверки гипотезы мы проведем z-test. С помощью метода pivot_table создадим таблицу users_events_per_group, в которой по действиям и источникам посчитаем уникальных пользователей:\n",
    "\n",
    "H0 - \"Конверсии групп Google и Яндекс в просмотр контактов равны\".\n",
    "\n",
    "H1 - \"Конверсии групп Google и Яндекс в просмотр контактов различаются\"."
   ]
  },
  {
   "cell_type": "markdown",
   "metadata": {},
   "source": [
    "Trial"
   ]
  },
  {
   "cell_type": "code",
   "execution_count": 97,
   "metadata": {},
   "outputs": [],
   "source": [
    "trials_yandex = yandex_df.user_id.nunique()\n",
    "trials_google = google_df.user_id.nunique()"
   ]
  },
  {
   "cell_type": "markdown",
   "metadata": {},
   "source": [
    "Succes"
   ]
  },
  {
   "cell_type": "code",
   "execution_count": 98,
   "metadata": {},
   "outputs": [],
   "source": [
    "successes_yandex = yandex_df.query('event_name==\"contacts_show\" & source == \"yandex\"').user_id.nunique()\n",
    "successes_google = google_df.query('event_name==\"contacts_show\"').user_id.nunique()"
   ]
  },
  {
   "cell_type": "code",
   "execution_count": 99,
   "metadata": {},
   "outputs": [],
   "source": [
    "conversion_yandex = successes_yandex / trials_yandex"
   ]
  },
  {
   "cell_type": "code",
   "execution_count": 100,
   "metadata": {},
   "outputs": [],
   "source": [
    "conversion_google = successes_google / trials_google"
   ]
  },
  {
   "cell_type": "code",
   "execution_count": 101,
   "metadata": {},
   "outputs": [
    {
     "name": "stdout",
     "output_type": "stream",
     "text": [
      "successes: \n",
      "[275 478]\n",
      "trials:\n",
      "[1129 1934]\n",
      "p_values = 0.8244316027993777\n",
      "Не получилось отвергнуть нулевую гипотезу, статистически значимых отличий нет\n",
      "Средняя конверсия в просмотры контактов у пользователей, которые совершили установку приложения, прийдя с источника yandex: 24.72%\n",
      "Средняя конверсия в просмотры контактов у пользователей, которые совершили установку приложения, прийдя с источника google: 24.36%\n"
     ]
    }
   ],
   "source": [
    "alpha = .05 # критический уровень статистической значимости\n",
    "\n",
    "\n",
    "        \n",
    "successes = np.array([successes_google, successes_yandex])\n",
    "trials = np.array([trials_google, trials_yandex]) \n",
    "        \n",
    "print(\"successes: \")\n",
    "print(successes)\n",
    "\n",
    "print(\"trials:\")\n",
    "print(trials)\n",
    "\n",
    "# пропорция успехов в первой группе:\n",
    "p1 = successes[0]/trials[0]\n",
    "\n",
    "# пропорция успехов во второй группе:\n",
    "p2 = successes[1]/trials[1]\n",
    "\n",
    "# пропорция успехов в комбинированном датасете:\n",
    "p_combined = (successes[0] + successes[1]) / (trials[0] + trials[1])\n",
    "\n",
    "# разница пропорций в датасетах\n",
    "difference = p1 - p2 \n",
    "\n",
    "# считаем статистику в ст.отклонениях стандартного нормального распределения\n",
    "z_value = difference / mth.sqrt(p_combined * (1 - p_combined) * (1/trials[0] + 1/trials[1]))\n",
    "\n",
    "# задаем стандартное нормальное распределение (среднее 0, ст.отклонение 1)\n",
    "distr = st.norm(0, 1)  \n",
    "\n",
    "# считаем статистику в ст.отклонениях стандартного нормального распределения\n",
    "z_value = difference / mth.sqrt(p_combined * (1 - p_combined) * (1/trials[0] + 1/trials[1]))\n",
    "\n",
    "# задаем стандартное нормальное распределение (среднее 0, ст.отклонение 1)\n",
    "distr = st.norm(0, 1) \n",
    "\n",
    "p_value = (1 - distr.cdf(abs(z_value))) * 2\n",
    "print(f'p_values = {p_value}')\n",
    "if (p_value < alpha):\n",
    "    print(\"Отвергаем нулевую гипотезу: разница статистически значима\")\n",
    "else:\n",
    "    print(\"Не получилось отвергнуть нулевую гипотезу, статистически значимых отличий нет\") \n",
    "print(f'Средняя конверсия в просмотры контактов у пользователей, которые совершили установку приложения, прийдя с источника yandex: {conversion_yandex:.2%}')\n",
    "print(f'Средняя конверсия в просмотры контактов у пользователей, которые совершили установку приложения, прийдя с источника google: {conversion_google:.2%}')"
   ]
  },
  {
   "cell_type": "markdown",
   "metadata": {},
   "source": [
    "Вывод: Поскольку p-значение (0.8244) больше уровня значимости (0.05), мы не можем отвергнуть нулевую гипотезу. Это означает, что нет статистически значимых различий в конверсии в просмотры контактов между пользователями, установившими приложение из Yandex и Google."
   ]
  },
  {
   "cell_type": "markdown",
   "metadata": {},
   "source": [
    "### Время, проведенное в приложении, отличается в зависимости от источника установки приложения (google, yandex)"
   ]
  },
  {
   "cell_type": "markdown",
   "metadata": {},
   "source": [
    "Нулевая гипотеза (H0): Время, проведенное в приложении, не отличается в зависимости от источника установки приложения (Google или Yandex).\n",
    "\n",
    "\n",
    "Альтернативная гипотеза (H1): Время, проведенное в приложении, отличается в зависимости от источника установки приложения (Google или Yandex)."
   ]
  },
  {
   "cell_type": "code",
   "execution_count": 102,
   "metadata": {},
   "outputs": [
    {
     "name": "stdout",
     "output_type": "stream",
     "text": [
      "successes: \n",
      "[2224161. 3816364.]\n",
      "trials:\n",
      "[1129 1934]\n",
      "z_value = -3.8422054610437186\n",
      "p_value = 0.00012193369637536478\n",
      "Отвергаем нулевую гипотезу: разница статистически значима\n",
      "Среднее время, проведенное в приложении, для пользователей, установивших приложение из Google: 1970.03 секунд\n",
      "Среднее время, проведенное в приложении, для пользователей, установивших приложение из Yandex: 1973.30 секунд\n"
     ]
    }
   ],
   "source": [
    "\n",
    "# Для проверки гипотезы мы проведем z-test.\n",
    "\n",
    "# Преобразуем столбец 'active_session' в секунды\n",
    "df['active_session_seconds'] = pd.to_timedelta(df['active_session']).dt.total_seconds()\n",
    "\n",
    "# Разделение данных по источникам установки приложения\n",
    "google_df = df[df['source'] == 'google']\n",
    "yandex_df = df[df['source'] == 'yandex']\n",
    "\n",
    "# Trials\n",
    "trials_yandex = yandex_df['user_id'].nunique()\n",
    "trials_google = google_df['user_id'].nunique()\n",
    "\n",
    "# Successes\n",
    "successes_yandex = yandex_df['active_session_seconds'].sum()\n",
    "successes_google = google_df['active_session_seconds'].sum()\n",
    "\n",
    "# Среднее время, проведенное в приложении\n",
    "mean_time_yandex = successes_yandex / trials_yandex\n",
    "mean_time_google = successes_google / trials_google\n",
    "\n",
    "alpha = 0.05  # критический уровень статистической значимости\n",
    "\n",
    "successes = np.array([successes_google, successes_yandex])\n",
    "trials = np.array([trials_google, trials_yandex])\n",
    "\n",
    "print(\"successes: \")\n",
    "print(successes)\n",
    "\n",
    "print(\"trials:\")\n",
    "print(trials)\n",
    "\n",
    "# Среднее время в первой группе:\n",
    "p1 = successes[0] / trials[0]\n",
    "\n",
    "# Среднее время во второй группе:\n",
    "p2 = successes[1] / trials[1]\n",
    "\n",
    "# Среднее время в комбинированном датасете:\n",
    "p_combined = (successes[0] + successes[1]) / (trials[0] + trials[1])\n",
    "\n",
    "# Разница средних значений в датасетах\n",
    "difference = p1 - p2\n",
    "\n",
    "# Рассчитываем статистику в стандартных отклонениях стандартного нормального распределения\n",
    "z_value = difference / st.sem(yandex_df['active_session_seconds'].append(google_df['active_session_seconds']))\n",
    "\n",
    "# Задаем стандартное нормальное распределение (среднее 0, стандартное отклонение 1)\n",
    "distr = st.norm(0, 1)\n",
    "\n",
    "p_value = (1 - distr.cdf(abs(z_value))) * 2\n",
    "print(f'z_value = {z_value}')\n",
    "print(f'p_value = {p_value}')\n",
    "\n",
    "if p_value < alpha:\n",
    "    print(\"Отвергаем нулевую гипотезу: разница статистически значима\")\n",
    "else:\n",
    "    print(\"Не получилось отвергнуть нулевую гипотезу, статистически значимых отличий нет\")\n",
    "\n",
    "print(f'Среднее время, проведенное в приложении, для пользователей, установивших приложение из Google: {mean_time_google:.2f} секунд')\n",
    "print(f'Среднее время, проведенное в приложении, для пользователей, установивших приложение из Yandex: {mean_time_yandex:.2f} секунд')"
   ]
  },
  {
   "cell_type": "markdown",
   "metadata": {},
   "source": [
    "На основе результатов z-теста, где p-значение оказалось меньше уровня значимости (0.05), мы отвергаем нулевую гипотезу. Это позволяет сделать вывод, что время, проведенное в приложении, действительно отличается в зависимости от источника установки приложения (Google или Yandex).\n",
    "\n",
    "Таким образом, можно утверждать, что пользователи, установившие приложение из Google, проводят в среднем 1970.03 секунд, в то время как пользователи, установившие приложение из Yandex, проводят в среднем 1973.30 секунд. Это различие статистически значимо."
   ]
  },
  {
   "cell_type": "markdown",
   "metadata": {},
   "source": [
    "## Основные выводы\n",
    "\n",
    "**Исхлдные данные**\n",
    "\n",
    "Датасет `mobile_dataset.csv`:\n",
    "\n",
    "- Содержит **74 197** записей и **3** столбца: `event.time`, `event.name`, и `user.id`.\n",
    "- Все столбцы имеют тип данных `object`.\n",
    "- В данных отсутствуют пропущенные значения.\n",
    "\n",
    "Датасет `mobile_sources.csv`:\n",
    "\n",
    "- Содержит **4 293** записи и **2** столбца: `userId` и `source`.\n",
    "- Все столбцы имеют тип данных `object`.\n",
    "- В данных отсутствуют пропущенные значения.\n",
    "\n",
    "\n",
    "**Предобработка данных**\n",
    "\n",
    "Изменение названий столбцов:\n",
    "\n",
    "- В датасете `data` столбцы были переименованы в `event_time`, `event_name`, и `user_id`.\n",
    "- В датасете `sources` столбцы были переименованы в `user_id` и `source`.\n",
    "\n",
    "Преобразование типов данных:\n",
    "\n",
    "- Столбец `event_time` в датасете `data` был преобразован в формат даты и округлён до **1 секунды**.\n",
    "\n",
    "Объединение таблиц:\n",
    "\n",
    "- Количество уникальных пользователей в обоих датасетах совпадает, что позволило объединить их в один датасет `df`.\n",
    "\n",
    "Добавление дополнительных столбцов:\n",
    "\n",
    "- Были добавлены столбцы `event_hour`, `event_week`, `event_month`, `event_year`, и `event_date` для более удобного анализа временных данных.\n",
    "\n",
    "Объединение схожих событий:\n",
    "\n",
    "- События `contacts_show` и `show_contacts` были объединены в одно событие `contacts_show`.\n",
    "- События, связанные с поиском (`search_1` до `search_7`), были объединены в одно событие `search`.\n",
    "\n",
    "Исследование выбросов:\n",
    "\n",
    "- Было обнаружено, что событие `tips_show` является автоматическим и не зависит от действий пользователей. Однако, его удаление привело бы к значительным потерям данных, поэтому оно было оставлено.\n",
    "\n",
    "**Удержание пользователей (Retention Rate)**\n",
    "- Пользователи возвращаются в приложение преимущественно в первую неделю после установки.\n",
    "- Уже ко второй неделе уровень удержания падает ниже 10%.\n",
    "- Более поздние когорты демонстрируют всё более низкое удержание.\n",
    "- **Вывод:** Приложение теряет большую часть новых пользователей в течение первой недели. Это может быть связано с недостаточным вовлечением или непродуманным пользовательским опытом.\n",
    "- **Рекомендация:** Изучить поведение пользователей в первые дни, определить ключевые точки оттока и оптимизировать onboarding-процесс.\n",
    "\n",
    "\n",
    "**Время в приложении и сессии**\n",
    "- Пользователь в среднем проводит **около 13 минут за сессию**.\n",
    "- В месяц совершается **примерно 2 сессии на пользователя**.\n",
    "- Общее время использования — **30–40 минут в месяц**.\n",
    "- **Вывод:** Пользователи используют приложение для кратковременного поиска нужной информации.\n",
    "- **Рекомендация:** Сосредоточиться на улучшении эффективности и скорости взаимодействия, а не на увеличении времени удержания.\n",
    "\n",
    "\n",
    "**Частота действий**\n",
    "- Самое частое событие — `tips_show` (рекомендации), на него приходится более **65% пользователей** и около **54% всех действий**.\n",
    "- Популярны `photos_show` и `search`, но поиск используют лишь **39% пользователей**, что может указывать на его неудобство или непривлекательность.\n",
    "- **Вывод:** Рекомендации и визуальный контент — ключевые элементы вовлечения. Поиск и карточки объявлений используются реже.\n",
    "- **Рекомендация:** Улучшить доступность и функциональность поиска, усилить визуальные элементы и качество рекомендаций.\n",
    "\n",
    "\n",
    "**Конверсия в целевое действие — `contacts_show`**\n",
    "- Целевое действие (просмотр контактов) совершают **около 23%** пользователей.\n",
    "- Только 5% пользователей переходят к звонку.\n",
    "- **Вывод:** Большинство пользователей не доходят до контакта с продавцом. Возможные причины — сложный путь, неактуальные товары или слабое вовлечение.\n",
    "- **Рекомендация:** Упростить путь к целевому действию, улучшить релевантность рекомендаций, внедрить A/B тестирование вариантов интерфейса.\n",
    "\n",
    "\n",
    "**Сегментация пользователей:**\n",
    "   - Пользователи были разделены на 4 группы в зависимости от их активности и достижения цели(просмотр контактов). Самая многочисленная группа — это пользователи, которые почти не пользуются приложением и не достигают цели. Это указывает на необходимость работы над вовлечением этих пользователей.\n",
    "\n",
    "**Проверка гипотез:**\n",
    "   - Гипотеза о различии конверсии в просмотры контактов между пользователями, установившими приложение из Google и Yandex, не подтвердилась.\n",
    "   - Гипотеза о различии времени, проведенного в приложении, в зависимости от источника установки приложения, была подтверждена.\n",
    "\n",
    "**Общая рекомендация**\n",
    "Приложение нуждается в оптимизации первых шагов пользователя и улучшении логики взаимодействия с контентом. Основное внимание стоит уделить:\n",
    "- **Улучшение системы рекомендаций** для повышения конверсии.\n",
    "- **Оптимизация интерфейса** для упрощения пути пользователя к целевому действию.\n",
    "- **Работа над вовлечением пользователей**, которые почти не пользуются приложением, с помощью пуш-уведомлений и рассылок.\n",
    "- **Улучшение функционала поиска** и добавление фильтров для повышения релевантности выдачи."
   ]
  }
 ],
 "metadata": {
  "ExecuteTimeLog": [
   {
    "duration": 1598,
    "start_time": "2025-05-23T20:33:51.491Z"
   },
   {
    "duration": 6,
    "start_time": "2025-05-23T20:34:16.199Z"
   },
   {
    "duration": 112,
    "start_time": "2025-05-23T20:36:25.900Z"
   },
   {
    "duration": 82,
    "start_time": "2025-05-23T20:39:00.399Z"
   },
   {
    "duration": 105,
    "start_time": "2025-05-23T20:39:11.353Z"
   },
   {
    "duration": 36,
    "start_time": "2025-05-23T20:39:20.621Z"
   },
   {
    "duration": 31,
    "start_time": "2025-05-23T20:41:35.518Z"
   },
   {
    "duration": 1463,
    "start_time": "2025-05-23T20:41:44.719Z"
   },
   {
    "duration": 143,
    "start_time": "2025-05-23T20:41:46.184Z"
   },
   {
    "duration": 0,
    "start_time": "2025-05-23T20:41:46.329Z"
   },
   {
    "duration": 29,
    "start_time": "2025-05-23T20:42:18.870Z"
   },
   {
    "duration": 14,
    "start_time": "2025-05-23T20:42:47.105Z"
   },
   {
    "duration": 37,
    "start_time": "2025-05-23T20:42:54.048Z"
   },
   {
    "duration": 30,
    "start_time": "2025-05-23T20:43:44.618Z"
   },
   {
    "duration": 61,
    "start_time": "2025-05-23T20:50:08.970Z"
   },
   {
    "duration": 21,
    "start_time": "2025-05-23T20:57:38.500Z"
   },
   {
    "duration": 14,
    "start_time": "2025-05-23T20:59:38.755Z"
   },
   {
    "duration": 19,
    "start_time": "2025-05-23T21:00:01.288Z"
   },
   {
    "duration": 12,
    "start_time": "2025-05-23T21:00:14.245Z"
   },
   {
    "duration": 1401,
    "start_time": "2025-05-23T21:00:23.007Z"
   },
   {
    "duration": 29,
    "start_time": "2025-05-23T21:00:24.410Z"
   },
   {
    "duration": 14,
    "start_time": "2025-05-23T21:00:24.440Z"
   },
   {
    "duration": 49,
    "start_time": "2025-05-23T21:00:24.455Z"
   },
   {
    "duration": 144,
    "start_time": "2025-05-23T21:04:11.022Z"
   },
   {
    "duration": 39,
    "start_time": "2025-05-23T21:04:27.791Z"
   },
   {
    "duration": 121,
    "start_time": "2025-05-23T21:05:23.956Z"
   },
   {
    "duration": 17,
    "start_time": "2025-05-23T21:09:26.138Z"
   },
   {
    "duration": 10,
    "start_time": "2025-05-23T21:09:38.792Z"
   },
   {
    "duration": 8,
    "start_time": "2025-05-23T21:09:49.368Z"
   },
   {
    "duration": 1457,
    "start_time": "2025-05-23T21:21:39.615Z"
   },
   {
    "duration": 120,
    "start_time": "2025-05-23T21:21:41.075Z"
   },
   {
    "duration": 22,
    "start_time": "2025-05-23T21:21:41.197Z"
   },
   {
    "duration": 15,
    "start_time": "2025-05-23T21:21:41.221Z"
   },
   {
    "duration": 10,
    "start_time": "2025-05-23T21:21:41.238Z"
   },
   {
    "duration": 37,
    "start_time": "2025-05-23T21:21:41.249Z"
   },
   {
    "duration": 3,
    "start_time": "2025-05-24T03:10:58.688Z"
   },
   {
    "duration": 8,
    "start_time": "2025-05-24T03:11:09.815Z"
   },
   {
    "duration": 3,
    "start_time": "2025-05-24T03:11:40.616Z"
   },
   {
    "duration": 7,
    "start_time": "2025-05-24T03:11:49.370Z"
   },
   {
    "duration": 12,
    "start_time": "2025-05-24T03:13:42.569Z"
   },
   {
    "duration": 6,
    "start_time": "2025-05-24T03:14:52.216Z"
   },
   {
    "duration": 10,
    "start_time": "2025-05-24T03:15:07.811Z"
   },
   {
    "duration": 23,
    "start_time": "2025-05-24T03:15:54.484Z"
   },
   {
    "duration": 8,
    "start_time": "2025-05-24T03:16:04.405Z"
   },
   {
    "duration": 18,
    "start_time": "2025-05-24T03:17:13.601Z"
   },
   {
    "duration": 18,
    "start_time": "2025-05-24T03:17:26.804Z"
   },
   {
    "duration": 27,
    "start_time": "2025-05-24T03:18:26.043Z"
   },
   {
    "duration": 19,
    "start_time": "2025-05-24T03:18:35.722Z"
   },
   {
    "duration": 12,
    "start_time": "2025-05-24T03:19:10.734Z"
   },
   {
    "duration": 12,
    "start_time": "2025-05-24T03:19:29.279Z"
   },
   {
    "duration": 15,
    "start_time": "2025-05-24T03:20:22.602Z"
   },
   {
    "duration": 12,
    "start_time": "2025-05-24T03:20:34.449Z"
   },
   {
    "duration": 11,
    "start_time": "2025-05-24T03:20:48.468Z"
   },
   {
    "duration": 8,
    "start_time": "2025-05-24T03:22:29.082Z"
   },
   {
    "duration": 27,
    "start_time": "2025-05-24T03:23:58.164Z"
   },
   {
    "duration": 12,
    "start_time": "2025-05-24T03:24:12.874Z"
   },
   {
    "duration": 9,
    "start_time": "2025-05-24T03:24:43.499Z"
   },
   {
    "duration": 20,
    "start_time": "2025-05-24T03:24:50.614Z"
   },
   {
    "duration": 21,
    "start_time": "2025-05-24T03:24:59.314Z"
   },
   {
    "duration": 12,
    "start_time": "2025-05-24T03:25:07.312Z"
   },
   {
    "duration": 24,
    "start_time": "2025-05-24T05:34:17.932Z"
   },
   {
    "duration": 21,
    "start_time": "2025-05-24T05:34:26.576Z"
   },
   {
    "duration": 41,
    "start_time": "2025-05-24T05:34:47.725Z"
   },
   {
    "duration": 22,
    "start_time": "2025-05-24T05:34:59.319Z"
   },
   {
    "duration": 8,
    "start_time": "2025-05-24T05:35:16.546Z"
   },
   {
    "duration": 19,
    "start_time": "2025-05-24T05:35:32.659Z"
   },
   {
    "duration": 5,
    "start_time": "2025-05-24T05:35:51.716Z"
   },
   {
    "duration": 6,
    "start_time": "2025-05-24T05:35:59.920Z"
   },
   {
    "duration": 4,
    "start_time": "2025-05-24T05:36:19.783Z"
   },
   {
    "duration": 4,
    "start_time": "2025-05-24T05:36:26.322Z"
   },
   {
    "duration": 12,
    "start_time": "2025-05-24T05:36:34.255Z"
   },
   {
    "duration": 341,
    "start_time": "2025-05-24T05:36:41.483Z"
   },
   {
    "duration": 52,
    "start_time": "2025-05-25T19:20:30.042Z"
   },
   {
    "duration": 1730,
    "start_time": "2025-05-25T19:20:39.982Z"
   },
   {
    "duration": 139,
    "start_time": "2025-05-25T19:20:41.714Z"
   },
   {
    "duration": 24,
    "start_time": "2025-05-25T19:20:41.855Z"
   },
   {
    "duration": 12,
    "start_time": "2025-05-25T19:20:41.881Z"
   },
   {
    "duration": 16,
    "start_time": "2025-05-25T19:20:41.895Z"
   },
   {
    "duration": 11,
    "start_time": "2025-05-25T19:20:41.912Z"
   },
   {
    "duration": 4,
    "start_time": "2025-05-25T19:20:41.925Z"
   },
   {
    "duration": 9,
    "start_time": "2025-05-25T19:20:41.931Z"
   },
   {
    "duration": 26,
    "start_time": "2025-05-25T19:20:41.942Z"
   },
   {
    "duration": 8,
    "start_time": "2025-05-25T19:20:41.971Z"
   },
   {
    "duration": 38,
    "start_time": "2025-05-25T19:20:41.981Z"
   },
   {
    "duration": 16,
    "start_time": "2025-05-25T19:20:42.021Z"
   },
   {
    "duration": 12,
    "start_time": "2025-05-25T19:20:42.038Z"
   },
   {
    "duration": 5,
    "start_time": "2025-05-25T19:20:42.052Z"
   },
   {
    "duration": 11,
    "start_time": "2025-05-25T19:20:42.058Z"
   },
   {
    "duration": 47,
    "start_time": "2025-05-25T19:20:42.071Z"
   },
   {
    "duration": 18,
    "start_time": "2025-05-25T19:20:42.120Z"
   },
   {
    "duration": 36,
    "start_time": "2025-05-25T19:20:42.139Z"
   },
   {
    "duration": 36,
    "start_time": "2025-05-25T19:20:42.177Z"
   },
   {
    "duration": 12,
    "start_time": "2025-05-25T19:20:42.215Z"
   },
   {
    "duration": 14,
    "start_time": "2025-05-25T19:20:42.228Z"
   },
   {
    "duration": 18,
    "start_time": "2025-05-25T19:20:42.243Z"
   },
   {
    "duration": 22,
    "start_time": "2025-05-25T19:20:42.262Z"
   },
   {
    "duration": 28,
    "start_time": "2025-05-25T19:20:42.286Z"
   },
   {
    "duration": 6,
    "start_time": "2025-05-25T19:20:42.316Z"
   },
   {
    "duration": 28,
    "start_time": "2025-05-25T19:20:42.324Z"
   },
   {
    "duration": 13,
    "start_time": "2025-05-25T19:20:42.354Z"
   },
   {
    "duration": 9,
    "start_time": "2025-05-25T19:20:42.406Z"
   },
   {
    "duration": 51,
    "start_time": "2025-05-25T19:20:42.417Z"
   },
   {
    "duration": 67,
    "start_time": "2025-05-25T19:20:42.470Z"
   },
   {
    "duration": 45,
    "start_time": "2025-05-25T19:20:42.539Z"
   },
   {
    "duration": 33,
    "start_time": "2025-05-25T19:20:42.585Z"
   },
   {
    "duration": 20,
    "start_time": "2025-05-25T19:20:42.620Z"
   },
   {
    "duration": 43,
    "start_time": "2025-05-25T19:20:42.642Z"
   },
   {
    "duration": 35,
    "start_time": "2025-05-25T19:20:42.687Z"
   },
   {
    "duration": 70,
    "start_time": "2025-05-25T19:20:42.723Z"
   },
   {
    "duration": 53,
    "start_time": "2025-05-25T19:20:42.795Z"
   },
   {
    "duration": 4,
    "start_time": "2025-05-25T19:20:42.850Z"
   },
   {
    "duration": 21,
    "start_time": "2025-05-25T19:20:42.856Z"
   },
   {
    "duration": 5,
    "start_time": "2025-05-25T19:20:42.878Z"
   },
   {
    "duration": 5,
    "start_time": "2025-05-25T19:20:42.885Z"
   },
   {
    "duration": 19,
    "start_time": "2025-05-25T19:20:42.892Z"
   },
   {
    "duration": 413,
    "start_time": "2025-05-25T19:20:42.913Z"
   },
   {
    "duration": 40,
    "start_time": "2025-05-25T19:20:43.328Z"
   },
   {
    "duration": 27,
    "start_time": "2025-05-25T19:21:04.955Z"
   },
   {
    "duration": 88,
    "start_time": "2025-05-25T19:21:14.518Z"
   },
   {
    "duration": 1893,
    "start_time": "2025-05-25T19:21:29.525Z"
   },
   {
    "duration": 19,
    "start_time": "2025-05-25T19:21:36.146Z"
   },
   {
    "duration": 21,
    "start_time": "2025-05-25T19:21:54.419Z"
   },
   {
    "duration": 436,
    "start_time": "2025-05-25T19:22:14.201Z"
   },
   {
    "duration": 1511,
    "start_time": "2025-05-25T19:22:29.810Z"
   },
   {
    "duration": 9,
    "start_time": "2025-05-25T19:22:36.163Z"
   },
   {
    "duration": 9,
    "start_time": "2025-05-25T19:22:44.616Z"
   },
   {
    "duration": 6,
    "start_time": "2025-05-25T19:22:52.832Z"
   },
   {
    "duration": 9,
    "start_time": "2025-05-25T19:23:09.028Z"
   },
   {
    "duration": 15,
    "start_time": "2025-05-25T19:23:59.881Z"
   },
   {
    "duration": 256,
    "start_time": "2025-05-25T19:24:07.997Z"
   },
   {
    "duration": 3,
    "start_time": "2025-05-25T19:24:27.970Z"
   },
   {
    "duration": 206,
    "start_time": "2025-05-25T19:24:34.802Z"
   },
   {
    "duration": 951,
    "start_time": "2025-05-25T19:25:33.160Z"
   },
   {
    "duration": 10,
    "start_time": "2025-05-25T19:25:39.250Z"
   },
   {
    "duration": 13,
    "start_time": "2025-05-25T19:27:37.380Z"
   },
   {
    "duration": 9,
    "start_time": "2025-05-25T19:27:43.390Z"
   },
   {
    "duration": 8,
    "start_time": "2025-05-25T19:28:02.847Z"
   },
   {
    "duration": 4,
    "start_time": "2025-05-25T19:28:19.035Z"
   },
   {
    "duration": 9,
    "start_time": "2025-05-25T19:28:25.051Z"
   },
   {
    "duration": 345,
    "start_time": "2025-05-25T19:28:55.414Z"
   },
   {
    "duration": 445,
    "start_time": "2025-05-25T19:29:15.928Z"
   },
   {
    "duration": 343,
    "start_time": "2025-05-25T19:29:34.373Z"
   },
   {
    "duration": 8,
    "start_time": "2025-05-25T19:30:21.614Z"
   },
   {
    "duration": 5,
    "start_time": "2025-05-25T19:30:28.733Z"
   },
   {
    "duration": 26,
    "start_time": "2025-05-25T19:30:36.213Z"
   },
   {
    "duration": 45,
    "start_time": "2025-05-25T19:31:09.301Z"
   },
   {
    "duration": 17,
    "start_time": "2025-05-25T19:31:15.299Z"
   },
   {
    "duration": 6,
    "start_time": "2025-05-25T19:31:37.695Z"
   },
   {
    "duration": 172,
    "start_time": "2025-05-25T19:31:45.881Z"
   },
   {
    "duration": 13,
    "start_time": "2025-05-25T19:31:56.670Z"
   },
   {
    "duration": 13,
    "start_time": "2025-05-25T19:32:09.522Z"
   },
   {
    "duration": 4,
    "start_time": "2025-05-25T19:33:25.575Z"
   },
   {
    "duration": 49346,
    "start_time": "2025-05-25T19:33:32.504Z"
   },
   {
    "duration": 49036,
    "start_time": "2025-05-25T19:34:21.852Z"
   },
   {
    "duration": 47586,
    "start_time": "2025-05-25T19:35:10.889Z"
   },
   {
    "duration": 49150,
    "start_time": "2025-05-25T19:35:58.477Z"
   },
   {
    "duration": 43,
    "start_time": "2025-05-25T19:36:47.628Z"
   },
   {
    "duration": 32,
    "start_time": "2025-05-25T19:36:47.673Z"
   },
   {
    "duration": 52,
    "start_time": "2025-05-25T19:36:47.707Z"
   },
   {
    "duration": 7,
    "start_time": "2025-05-25T19:36:47.760Z"
   },
   {
    "duration": 1401,
    "start_time": "2025-05-25T19:36:47.768Z"
   },
   {
    "duration": 12,
    "start_time": "2025-05-25T19:36:49.172Z"
   },
   {
    "duration": 47,
    "start_time": "2025-05-25T19:36:49.186Z"
   },
   {
    "duration": 13,
    "start_time": "2025-05-25T19:36:49.235Z"
   },
   {
    "duration": 45,
    "start_time": "2025-05-25T19:36:49.250Z"
   },
   {
    "duration": 29,
    "start_time": "2025-05-25T19:37:15.518Z"
   },
   {
    "duration": 29,
    "start_time": "2025-05-25T19:37:44.466Z"
   },
   {
    "duration": 30,
    "start_time": "2025-05-25T19:38:31.310Z"
   },
   {
    "duration": 9,
    "start_time": "2025-05-25T19:39:46.184Z"
   },
   {
    "duration": 867,
    "start_time": "2025-05-25T19:39:59.086Z"
   },
   {
    "duration": 23,
    "start_time": "2025-05-25T19:40:34.972Z"
   },
   {
    "duration": 15,
    "start_time": "2025-05-25T19:40:43.918Z"
   },
   {
    "duration": 8,
    "start_time": "2025-05-25T19:41:09.026Z"
   },
   {
    "duration": 37,
    "start_time": "2025-05-25T19:41:16.007Z"
   },
   {
    "duration": 32,
    "start_time": "2025-05-25T19:41:24.911Z"
   },
   {
    "duration": 985,
    "start_time": "2025-05-25T19:41:35.704Z"
   },
   {
    "duration": 44,
    "start_time": "2025-05-25T19:42:54.416Z"
   },
   {
    "duration": 12,
    "start_time": "2025-05-25T19:43:38.379Z"
   },
   {
    "duration": 16,
    "start_time": "2025-05-25T19:43:55.697Z"
   },
   {
    "duration": 3,
    "start_time": "2025-05-25T19:44:05.947Z"
   },
   {
    "duration": 2,
    "start_time": "2025-05-25T19:44:13.131Z"
   },
   {
    "duration": 10,
    "start_time": "2025-05-25T19:44:28.719Z"
   },
   {
    "duration": 49,
    "start_time": "2025-05-27T11:49:39.229Z"
   },
   {
    "duration": 1778,
    "start_time": "2025-05-27T11:49:49.108Z"
   },
   {
    "duration": 125,
    "start_time": "2025-05-27T11:49:50.888Z"
   },
   {
    "duration": 24,
    "start_time": "2025-05-27T11:49:51.015Z"
   },
   {
    "duration": 17,
    "start_time": "2025-05-27T11:49:51.041Z"
   },
   {
    "duration": 26,
    "start_time": "2025-05-27T11:49:51.059Z"
   },
   {
    "duration": 37,
    "start_time": "2025-05-27T11:49:51.087Z"
   },
   {
    "duration": 20,
    "start_time": "2025-05-27T11:49:51.126Z"
   },
   {
    "duration": 40,
    "start_time": "2025-05-27T11:49:51.148Z"
   },
   {
    "duration": 23,
    "start_time": "2025-05-27T11:49:51.190Z"
   },
   {
    "duration": 14,
    "start_time": "2025-05-27T11:49:51.217Z"
   },
   {
    "duration": 43,
    "start_time": "2025-05-27T11:49:51.232Z"
   },
   {
    "duration": 37,
    "start_time": "2025-05-27T11:49:51.278Z"
   },
   {
    "duration": 53,
    "start_time": "2025-05-27T11:49:51.316Z"
   },
   {
    "duration": 61,
    "start_time": "2025-05-27T11:49:51.371Z"
   },
   {
    "duration": 194,
    "start_time": "2025-05-27T11:49:51.433Z"
   },
   {
    "duration": 107,
    "start_time": "2025-05-27T11:49:51.629Z"
   },
   {
    "duration": 112,
    "start_time": "2025-05-27T11:49:51.738Z"
   },
   {
    "duration": 154,
    "start_time": "2025-05-27T11:49:51.852Z"
   },
   {
    "duration": 48,
    "start_time": "2025-05-27T11:49:52.008Z"
   },
   {
    "duration": 27,
    "start_time": "2025-05-27T11:49:52.058Z"
   },
   {
    "duration": 56,
    "start_time": "2025-05-27T11:49:52.087Z"
   },
   {
    "duration": 66,
    "start_time": "2025-05-27T11:49:52.145Z"
   },
   {
    "duration": 32,
    "start_time": "2025-05-27T11:49:52.213Z"
   },
   {
    "duration": 108,
    "start_time": "2025-05-27T11:49:52.246Z"
   },
   {
    "duration": 41,
    "start_time": "2025-05-27T11:49:52.356Z"
   },
   {
    "duration": 51,
    "start_time": "2025-05-27T11:49:52.399Z"
   },
   {
    "duration": 11,
    "start_time": "2025-05-27T11:49:52.452Z"
   },
   {
    "duration": 28,
    "start_time": "2025-05-27T11:49:52.467Z"
   },
   {
    "duration": 24,
    "start_time": "2025-05-27T11:49:52.497Z"
   },
   {
    "duration": 21,
    "start_time": "2025-05-27T11:49:52.523Z"
   },
   {
    "duration": 64,
    "start_time": "2025-05-27T11:49:52.546Z"
   },
   {
    "duration": 143,
    "start_time": "2025-05-27T11:49:52.611Z"
   },
   {
    "duration": 23,
    "start_time": "2025-05-27T11:49:52.756Z"
   },
   {
    "duration": 56,
    "start_time": "2025-05-27T11:49:52.780Z"
   },
   {
    "duration": 24,
    "start_time": "2025-05-27T11:49:52.838Z"
   },
   {
    "duration": 14,
    "start_time": "2025-05-27T11:49:52.864Z"
   },
   {
    "duration": 44,
    "start_time": "2025-05-27T11:49:52.880Z"
   },
   {
    "duration": 119,
    "start_time": "2025-05-27T11:49:52.926Z"
   },
   {
    "duration": 18,
    "start_time": "2025-05-27T11:49:53.047Z"
   },
   {
    "duration": 30,
    "start_time": "2025-05-27T11:49:53.067Z"
   },
   {
    "duration": 29,
    "start_time": "2025-05-27T11:49:53.099Z"
   },
   {
    "duration": 41,
    "start_time": "2025-05-27T11:49:53.129Z"
   },
   {
    "duration": 603,
    "start_time": "2025-05-27T11:49:53.172Z"
   },
   {
    "duration": 38,
    "start_time": "2025-05-27T11:49:53.778Z"
   },
   {
    "duration": 21,
    "start_time": "2025-05-27T11:49:53.817Z"
   },
   {
    "duration": 2030,
    "start_time": "2025-05-27T11:49:53.839Z"
   },
   {
    "duration": 19,
    "start_time": "2025-05-27T11:49:55.871Z"
   },
   {
    "duration": 33,
    "start_time": "2025-05-27T11:49:55.892Z"
   },
   {
    "duration": 478,
    "start_time": "2025-05-27T11:49:55.927Z"
   },
   {
    "duration": 1625,
    "start_time": "2025-05-27T11:49:56.406Z"
   },
   {
    "duration": 8,
    "start_time": "2025-05-27T11:49:58.033Z"
   },
   {
    "duration": 40,
    "start_time": "2025-05-27T11:49:58.043Z"
   },
   {
    "duration": 5,
    "start_time": "2025-05-27T11:49:58.085Z"
   },
   {
    "duration": 24,
    "start_time": "2025-05-27T11:49:58.092Z"
   },
   {
    "duration": 83,
    "start_time": "2025-05-27T11:49:58.118Z"
   },
   {
    "duration": 306,
    "start_time": "2025-05-27T11:49:58.203Z"
   },
   {
    "duration": 3,
    "start_time": "2025-05-27T11:49:58.511Z"
   },
   {
    "duration": 194,
    "start_time": "2025-05-27T11:49:58.516Z"
   },
   {
    "duration": 932,
    "start_time": "2025-05-27T11:49:58.712Z"
   },
   {
    "duration": 9,
    "start_time": "2025-05-27T11:49:59.646Z"
   },
   {
    "duration": 35,
    "start_time": "2025-05-27T11:49:59.661Z"
   },
   {
    "duration": 32,
    "start_time": "2025-05-27T11:49:59.698Z"
   },
   {
    "duration": 40,
    "start_time": "2025-05-27T11:49:59.732Z"
   },
   {
    "duration": 70,
    "start_time": "2025-05-27T11:49:59.774Z"
   },
   {
    "duration": 31,
    "start_time": "2025-05-27T11:49:59.846Z"
   },
   {
    "duration": 402,
    "start_time": "2025-05-27T11:49:59.879Z"
   },
   {
    "duration": 9,
    "start_time": "2025-05-27T11:50:00.282Z"
   },
   {
    "duration": 477,
    "start_time": "2025-05-27T11:50:00.292Z"
   },
   {
    "duration": 120,
    "start_time": "2025-05-27T11:50:00.771Z"
   },
   {
    "duration": 165,
    "start_time": "2025-05-27T11:50:00.893Z"
   },
   {
    "duration": 107,
    "start_time": "2025-05-27T11:50:01.059Z"
   },
   {
    "duration": 502,
    "start_time": "2025-05-27T11:50:01.168Z"
   },
   {
    "duration": 693,
    "start_time": "2025-05-27T11:50:01.672Z"
   },
   {
    "duration": 16,
    "start_time": "2025-05-27T11:50:02.367Z"
   },
   {
    "duration": 109,
    "start_time": "2025-05-27T11:50:02.384Z"
   },
   {
    "duration": 208,
    "start_time": "2025-05-27T11:50:02.495Z"
   },
   {
    "duration": 48682,
    "start_time": "2025-05-27T11:50:02.705Z"
   },
   {
    "duration": 48643,
    "start_time": "2025-05-27T11:50:51.389Z"
   },
   {
    "duration": 47033,
    "start_time": "2025-05-27T11:51:40.033Z"
   },
   {
    "duration": 48764,
    "start_time": "2025-05-27T11:52:27.068Z"
   },
   {
    "duration": 50,
    "start_time": "2025-05-27T11:53:15.834Z"
   },
   {
    "duration": 18,
    "start_time": "2025-05-27T11:53:15.891Z"
   },
   {
    "duration": 76,
    "start_time": "2025-05-27T11:53:15.910Z"
   },
   {
    "duration": 8,
    "start_time": "2025-05-27T11:53:15.987Z"
   },
   {
    "duration": 1400,
    "start_time": "2025-05-27T11:53:15.997Z"
   },
   {
    "duration": 15,
    "start_time": "2025-05-27T11:53:17.398Z"
   },
   {
    "duration": 56,
    "start_time": "2025-05-27T11:53:17.415Z"
   },
   {
    "duration": 24,
    "start_time": "2025-05-27T11:53:17.474Z"
   },
   {
    "duration": 139,
    "start_time": "2025-05-27T11:53:17.503Z"
   },
   {
    "duration": 30,
    "start_time": "2025-05-27T11:53:17.643Z"
   },
   {
    "duration": 28,
    "start_time": "2025-05-27T11:53:17.674Z"
   },
   {
    "duration": 31,
    "start_time": "2025-05-27T11:53:17.704Z"
   },
   {
    "duration": 9,
    "start_time": "2025-05-27T11:53:17.761Z"
   },
   {
    "duration": 907,
    "start_time": "2025-05-27T11:53:17.772Z"
   },
   {
    "duration": 21,
    "start_time": "2025-05-27T11:53:18.681Z"
   },
   {
    "duration": 158,
    "start_time": "2025-05-27T11:53:18.704Z"
   },
   {
    "duration": 14,
    "start_time": "2025-05-27T11:53:18.864Z"
   },
   {
    "duration": 40,
    "start_time": "2025-05-27T11:53:18.880Z"
   },
   {
    "duration": 42,
    "start_time": "2025-05-27T11:53:18.922Z"
   },
   {
    "duration": 918,
    "start_time": "2025-05-27T11:53:18.966Z"
   },
   {
    "duration": 49,
    "start_time": "2025-05-27T11:53:19.886Z"
   },
   {
    "duration": 32,
    "start_time": "2025-05-27T11:53:19.937Z"
   },
   {
    "duration": 20,
    "start_time": "2025-05-27T11:53:19.971Z"
   },
   {
    "duration": 25,
    "start_time": "2025-05-27T11:53:19.993Z"
   },
   {
    "duration": 12,
    "start_time": "2025-05-27T11:53:20.020Z"
   },
   {
    "duration": 17,
    "start_time": "2025-05-27T11:53:20.034Z"
   },
   {
    "duration": 165,
    "start_time": "2025-05-27T11:53:20.053Z"
   },
   {
    "duration": 7,
    "start_time": "2025-05-27T12:06:01.748Z"
   },
   {
    "duration": 716,
    "start_time": "2025-05-27T12:06:08.501Z"
   },
   {
    "duration": 540,
    "start_time": "2025-05-27T12:07:44.578Z"
   },
   {
    "duration": 586,
    "start_time": "2025-05-27T12:08:50.622Z"
   },
   {
    "duration": 31,
    "start_time": "2025-05-27T12:20:19.847Z"
   },
   {
    "duration": 6,
    "start_time": "2025-05-27T12:21:13.643Z"
   },
   {
    "duration": 26,
    "start_time": "2025-05-27T12:21:20.384Z"
   },
   {
    "duration": 26,
    "start_time": "2025-05-27T12:24:44.054Z"
   },
   {
    "duration": 43,
    "start_time": "2025-05-27T12:30:54.338Z"
   },
   {
    "duration": 17,
    "start_time": "2025-05-27T18:25:45.555Z"
   },
   {
    "duration": 9,
    "start_time": "2025-05-27T18:26:02.440Z"
   },
   {
    "duration": 1554,
    "start_time": "2025-05-27T18:26:08.873Z"
   },
   {
    "duration": 124,
    "start_time": "2025-05-27T18:26:10.430Z"
   },
   {
    "duration": 20,
    "start_time": "2025-05-27T18:26:10.555Z"
   },
   {
    "duration": 92,
    "start_time": "2025-05-27T18:26:10.577Z"
   },
   {
    "duration": 109,
    "start_time": "2025-05-27T18:26:10.670Z"
   },
   {
    "duration": 10,
    "start_time": "2025-05-27T18:26:10.781Z"
   },
   {
    "duration": 5,
    "start_time": "2025-05-27T18:26:10.793Z"
   },
   {
    "duration": 17,
    "start_time": "2025-05-27T18:26:10.799Z"
   },
   {
    "duration": 4,
    "start_time": "2025-05-27T18:26:10.818Z"
   },
   {
    "duration": 15,
    "start_time": "2025-05-27T18:26:10.826Z"
   },
   {
    "duration": 141,
    "start_time": "2025-05-27T18:26:10.843Z"
   },
   {
    "duration": 89,
    "start_time": "2025-05-27T18:26:10.986Z"
   },
   {
    "duration": 168,
    "start_time": "2025-05-27T18:26:11.077Z"
   },
   {
    "duration": 12,
    "start_time": "2025-05-27T18:26:11.247Z"
   },
   {
    "duration": 14,
    "start_time": "2025-05-27T18:26:11.260Z"
   },
   {
    "duration": 23,
    "start_time": "2025-05-27T18:26:11.275Z"
   },
   {
    "duration": 38,
    "start_time": "2025-05-27T18:26:11.299Z"
   },
   {
    "duration": 31,
    "start_time": "2025-05-27T18:26:11.338Z"
   },
   {
    "duration": 18,
    "start_time": "2025-05-27T18:26:11.371Z"
   },
   {
    "duration": 12,
    "start_time": "2025-05-27T18:26:11.390Z"
   },
   {
    "duration": 29,
    "start_time": "2025-05-27T18:26:11.404Z"
   },
   {
    "duration": 18,
    "start_time": "2025-05-27T18:26:11.434Z"
   },
   {
    "duration": 19,
    "start_time": "2025-05-27T18:26:11.453Z"
   },
   {
    "duration": 17,
    "start_time": "2025-05-27T18:26:11.474Z"
   },
   {
    "duration": 12,
    "start_time": "2025-05-27T18:26:11.492Z"
   },
   {
    "duration": 55,
    "start_time": "2025-05-27T18:26:11.506Z"
   },
   {
    "duration": 12,
    "start_time": "2025-05-27T18:26:11.562Z"
   },
   {
    "duration": 22,
    "start_time": "2025-05-27T18:26:11.578Z"
   },
   {
    "duration": 33,
    "start_time": "2025-05-27T18:26:11.602Z"
   },
   {
    "duration": 26,
    "start_time": "2025-05-27T18:26:11.637Z"
   },
   {
    "duration": 203,
    "start_time": "2025-05-27T18:26:11.664Z"
   },
   {
    "duration": 96,
    "start_time": "2025-05-27T18:26:11.869Z"
   },
   {
    "duration": 20,
    "start_time": "2025-05-27T18:26:11.967Z"
   },
   {
    "duration": 91,
    "start_time": "2025-05-27T18:26:11.989Z"
   },
   {
    "duration": 22,
    "start_time": "2025-05-27T18:26:12.082Z"
   },
   {
    "duration": 7,
    "start_time": "2025-05-27T18:26:12.161Z"
   },
   {
    "duration": 19,
    "start_time": "2025-05-27T18:26:12.170Z"
   },
   {
    "duration": 4,
    "start_time": "2025-05-27T18:26:12.191Z"
   },
   {
    "duration": 67,
    "start_time": "2025-05-27T18:26:12.197Z"
   },
   {
    "duration": 4,
    "start_time": "2025-05-27T18:26:12.266Z"
   },
   {
    "duration": 10,
    "start_time": "2025-05-27T18:26:12.271Z"
   },
   {
    "duration": 13,
    "start_time": "2025-05-27T18:26:12.282Z"
   },
   {
    "duration": 602,
    "start_time": "2025-05-27T18:26:12.296Z"
   },
   {
    "duration": 91,
    "start_time": "2025-05-27T18:26:12.900Z"
   },
   {
    "duration": 80,
    "start_time": "2025-05-27T18:26:12.993Z"
   },
   {
    "duration": 2079,
    "start_time": "2025-05-27T18:26:13.075Z"
   },
   {
    "duration": 20,
    "start_time": "2025-05-27T18:26:15.156Z"
   },
   {
    "duration": 133,
    "start_time": "2025-05-27T18:26:15.177Z"
   },
   {
    "duration": 428,
    "start_time": "2025-05-27T18:26:15.312Z"
   },
   {
    "duration": 1483,
    "start_time": "2025-05-27T18:26:15.741Z"
   },
   {
    "duration": 8,
    "start_time": "2025-05-27T18:26:17.226Z"
   },
   {
    "duration": 28,
    "start_time": "2025-05-27T18:26:17.236Z"
   },
   {
    "duration": 5,
    "start_time": "2025-05-27T18:26:17.266Z"
   },
   {
    "duration": 9,
    "start_time": "2025-05-27T18:26:17.272Z"
   },
   {
    "duration": 24,
    "start_time": "2025-05-27T18:26:17.282Z"
   },
   {
    "duration": 308,
    "start_time": "2025-05-27T18:26:17.308Z"
   },
   {
    "duration": 3,
    "start_time": "2025-05-27T18:26:17.618Z"
   },
   {
    "duration": 201,
    "start_time": "2025-05-27T18:26:17.622Z"
   },
   {
    "duration": 953,
    "start_time": "2025-05-27T18:26:17.825Z"
   },
   {
    "duration": 8,
    "start_time": "2025-05-27T18:26:18.780Z"
   },
   {
    "duration": 30,
    "start_time": "2025-05-27T18:26:18.790Z"
   },
   {
    "duration": 13,
    "start_time": "2025-05-27T18:26:18.822Z"
   },
   {
    "duration": 109,
    "start_time": "2025-05-27T18:26:18.837Z"
   },
   {
    "duration": 14,
    "start_time": "2025-05-27T18:26:18.948Z"
   },
   {
    "duration": 10,
    "start_time": "2025-05-27T18:26:18.964Z"
   },
   {
    "duration": 350,
    "start_time": "2025-05-27T18:26:18.977Z"
   },
   {
    "duration": 7,
    "start_time": "2025-05-27T18:26:19.329Z"
   },
   {
    "duration": 25,
    "start_time": "2025-05-27T18:26:19.338Z"
   },
   {
    "duration": 46,
    "start_time": "2025-05-27T18:26:19.365Z"
   },
   {
    "duration": 58,
    "start_time": "2025-05-27T18:26:19.413Z"
   },
   {
    "duration": 19,
    "start_time": "2025-05-27T18:26:19.472Z"
   },
   {
    "duration": 28,
    "start_time": "2025-05-27T18:26:19.493Z"
   },
   {
    "duration": 279,
    "start_time": "2025-05-27T18:26:19.522Z"
   },
   {
    "duration": 15,
    "start_time": "2025-05-27T18:26:19.803Z"
   },
   {
    "duration": 96,
    "start_time": "2025-05-27T18:26:19.820Z"
   },
   {
    "duration": 72,
    "start_time": "2025-05-27T18:26:19.918Z"
   },
   {
    "duration": 47591,
    "start_time": "2025-05-27T18:26:19.992Z"
   },
   {
    "duration": 47827,
    "start_time": "2025-05-27T18:27:07.585Z"
   },
   {
    "duration": 45950,
    "start_time": "2025-05-27T18:27:55.413Z"
   },
   {
    "duration": 46974,
    "start_time": "2025-05-27T18:28:41.365Z"
   },
   {
    "duration": 54,
    "start_time": "2025-05-27T18:29:28.341Z"
   },
   {
    "duration": 15,
    "start_time": "2025-05-27T18:29:28.401Z"
   },
   {
    "duration": 70,
    "start_time": "2025-05-27T18:29:28.417Z"
   },
   {
    "duration": 34,
    "start_time": "2025-05-27T18:29:28.489Z"
   },
   {
    "duration": 1235,
    "start_time": "2025-05-27T18:29:28.525Z"
   },
   {
    "duration": 13,
    "start_time": "2025-05-27T18:29:29.762Z"
   },
   {
    "duration": 204,
    "start_time": "2025-05-27T18:29:29.776Z"
   },
   {
    "duration": 13,
    "start_time": "2025-05-27T18:29:29.982Z"
   },
   {
    "duration": 160,
    "start_time": "2025-05-27T18:29:29.997Z"
   },
   {
    "duration": 94,
    "start_time": "2025-05-27T18:29:30.158Z"
   },
   {
    "duration": 110,
    "start_time": "2025-05-27T18:29:30.253Z"
   },
   {
    "duration": 72,
    "start_time": "2025-05-27T18:29:30.364Z"
   },
   {
    "duration": 152,
    "start_time": "2025-05-27T18:29:30.438Z"
   },
   {
    "duration": 1109,
    "start_time": "2025-05-27T18:29:30.592Z"
   },
   {
    "duration": 21,
    "start_time": "2025-05-27T18:29:31.703Z"
   },
   {
    "duration": 224,
    "start_time": "2025-05-27T18:29:31.726Z"
   },
   {
    "duration": 27,
    "start_time": "2025-05-27T18:29:31.952Z"
   },
   {
    "duration": 30,
    "start_time": "2025-05-27T18:29:31.981Z"
   },
   {
    "duration": 28,
    "start_time": "2025-05-27T18:29:32.013Z"
   },
   {
    "duration": 801,
    "start_time": "2025-05-27T18:29:32.042Z"
   },
   {
    "duration": 58,
    "start_time": "2025-05-27T18:29:32.844Z"
   },
   {
    "duration": 79,
    "start_time": "2025-05-27T18:29:32.904Z"
   },
   {
    "duration": 39,
    "start_time": "2025-05-27T18:29:32.985Z"
   },
   {
    "duration": 2,
    "start_time": "2025-05-27T18:29:33.026Z"
   },
   {
    "duration": 188,
    "start_time": "2025-05-27T18:29:33.029Z"
   },
   {
    "duration": 68,
    "start_time": "2025-05-27T18:29:33.219Z"
   },
   {
    "duration": 1609,
    "start_time": "2025-05-27T18:29:33.289Z"
   },
   {
    "duration": 0,
    "start_time": "2025-05-27T18:29:34.900Z"
   },
   {
    "duration": 1488,
    "start_time": "2025-05-27T18:29:39.913Z"
   },
   {
    "duration": 137,
    "start_time": "2025-05-27T18:29:41.403Z"
   },
   {
    "duration": 21,
    "start_time": "2025-05-27T18:29:41.542Z"
   },
   {
    "duration": 12,
    "start_time": "2025-05-27T18:29:41.565Z"
   },
   {
    "duration": 10,
    "start_time": "2025-05-27T18:29:41.578Z"
   },
   {
    "duration": 7,
    "start_time": "2025-05-27T18:29:41.590Z"
   },
   {
    "duration": 5,
    "start_time": "2025-05-27T18:29:41.599Z"
   },
   {
    "duration": 8,
    "start_time": "2025-05-27T18:29:41.606Z"
   },
   {
    "duration": 5,
    "start_time": "2025-05-27T18:29:41.616Z"
   },
   {
    "duration": 40,
    "start_time": "2025-05-27T18:29:41.623Z"
   },
   {
    "duration": 29,
    "start_time": "2025-05-27T18:29:41.665Z"
   },
   {
    "duration": 8,
    "start_time": "2025-05-27T18:29:41.696Z"
   },
   {
    "duration": 16,
    "start_time": "2025-05-27T18:29:41.705Z"
   },
   {
    "duration": 11,
    "start_time": "2025-05-27T18:29:41.723Z"
   },
   {
    "duration": 31,
    "start_time": "2025-05-27T18:29:41.736Z"
   },
   {
    "duration": 117,
    "start_time": "2025-05-27T18:29:41.769Z"
   },
   {
    "duration": 18,
    "start_time": "2025-05-27T18:29:41.888Z"
   },
   {
    "duration": 29,
    "start_time": "2025-05-27T18:29:41.908Z"
   },
   {
    "duration": 30,
    "start_time": "2025-05-27T18:29:41.938Z"
   },
   {
    "duration": 12,
    "start_time": "2025-05-27T18:29:41.969Z"
   },
   {
    "duration": 17,
    "start_time": "2025-05-27T18:29:41.982Z"
   },
   {
    "duration": 21,
    "start_time": "2025-05-27T18:29:42.001Z"
   },
   {
    "duration": 11,
    "start_time": "2025-05-27T18:29:42.024Z"
   },
   {
    "duration": 13,
    "start_time": "2025-05-27T18:29:42.061Z"
   },
   {
    "duration": 8,
    "start_time": "2025-05-27T18:29:42.075Z"
   },
   {
    "duration": 28,
    "start_time": "2025-05-27T18:29:42.085Z"
   },
   {
    "duration": 11,
    "start_time": "2025-05-27T18:29:42.114Z"
   },
   {
    "duration": 9,
    "start_time": "2025-05-27T18:29:42.163Z"
   },
   {
    "duration": 21,
    "start_time": "2025-05-27T18:29:42.173Z"
   },
   {
    "duration": 20,
    "start_time": "2025-05-27T18:29:42.196Z"
   },
   {
    "duration": 11,
    "start_time": "2025-05-27T18:29:42.218Z"
   },
   {
    "duration": 27,
    "start_time": "2025-05-27T18:29:42.260Z"
   },
   {
    "duration": 21,
    "start_time": "2025-05-27T18:29:42.289Z"
   },
   {
    "duration": 68,
    "start_time": "2025-05-27T18:29:42.312Z"
   },
   {
    "duration": 21,
    "start_time": "2025-05-27T18:29:42.382Z"
   },
   {
    "duration": 6,
    "start_time": "2025-05-27T18:29:42.405Z"
   },
   {
    "duration": 19,
    "start_time": "2025-05-27T18:29:42.412Z"
   },
   {
    "duration": 75,
    "start_time": "2025-05-27T18:29:42.432Z"
   },
   {
    "duration": 10,
    "start_time": "2025-05-27T18:29:42.509Z"
   },
   {
    "duration": 9,
    "start_time": "2025-05-27T18:29:42.521Z"
   },
   {
    "duration": 9,
    "start_time": "2025-05-27T18:29:42.531Z"
   },
   {
    "duration": 16,
    "start_time": "2025-05-27T18:29:42.541Z"
   },
   {
    "duration": 369,
    "start_time": "2025-05-27T18:29:42.558Z"
   },
   {
    "duration": 42,
    "start_time": "2025-05-27T18:29:42.928Z"
   },
   {
    "duration": 20,
    "start_time": "2025-05-27T18:29:42.972Z"
   },
   {
    "duration": 1798,
    "start_time": "2025-05-27T18:29:42.993Z"
   },
   {
    "duration": 18,
    "start_time": "2025-05-27T18:29:44.793Z"
   },
   {
    "duration": 21,
    "start_time": "2025-05-27T18:29:44.812Z"
   },
   {
    "duration": 35,
    "start_time": "2025-05-27T18:29:44.835Z"
   },
   {
    "duration": 6,
    "start_time": "2025-05-27T18:29:44.871Z"
   },
   {
    "duration": 1103,
    "start_time": "2025-05-27T18:29:44.879Z"
   },
   {
    "duration": 10,
    "start_time": "2025-05-27T18:29:45.984Z"
   },
   {
    "duration": 189,
    "start_time": "2025-05-27T18:29:45.995Z"
   },
   {
    "duration": 32,
    "start_time": "2025-05-27T18:29:46.186Z"
   },
   {
    "duration": 12,
    "start_time": "2025-05-27T18:29:46.221Z"
   },
   {
    "duration": 14,
    "start_time": "2025-05-27T18:29:46.235Z"
   },
   {
    "duration": 244,
    "start_time": "2025-05-27T18:29:46.250Z"
   },
   {
    "duration": 3,
    "start_time": "2025-05-27T18:29:46.496Z"
   },
   {
    "duration": 197,
    "start_time": "2025-05-27T18:29:46.500Z"
   },
   {
    "duration": 535,
    "start_time": "2025-05-27T18:29:46.699Z"
   },
   {
    "duration": 8,
    "start_time": "2025-05-27T18:29:47.236Z"
   },
   {
    "duration": 23,
    "start_time": "2025-05-27T18:29:47.246Z"
   },
   {
    "duration": 10,
    "start_time": "2025-05-27T18:29:47.270Z"
   },
   {
    "duration": 10,
    "start_time": "2025-05-27T18:29:47.281Z"
   },
   {
    "duration": 4,
    "start_time": "2025-05-27T18:29:47.292Z"
   },
   {
    "duration": 12,
    "start_time": "2025-05-27T18:29:47.297Z"
   },
   {
    "duration": 394,
    "start_time": "2025-05-27T18:29:47.310Z"
   },
   {
    "duration": 7,
    "start_time": "2025-05-27T18:29:47.706Z"
   },
   {
    "duration": 187,
    "start_time": "2025-05-27T18:29:47.715Z"
   },
   {
    "duration": 20,
    "start_time": "2025-05-27T18:29:47.904Z"
   },
   {
    "duration": 46,
    "start_time": "2025-05-27T18:29:47.926Z"
   },
   {
    "duration": 16,
    "start_time": "2025-05-27T18:29:47.973Z"
   },
   {
    "duration": 19,
    "start_time": "2025-05-27T18:29:47.990Z"
   },
   {
    "duration": 167,
    "start_time": "2025-05-27T18:29:48.011Z"
   },
   {
    "duration": 19,
    "start_time": "2025-05-27T18:29:48.180Z"
   },
   {
    "duration": 17,
    "start_time": "2025-05-27T18:29:48.201Z"
   },
   {
    "duration": 42,
    "start_time": "2025-05-27T18:29:48.220Z"
   },
   {
    "duration": 46958,
    "start_time": "2025-05-27T18:29:48.264Z"
   },
   {
    "duration": 47041,
    "start_time": "2025-05-27T18:30:35.224Z"
   },
   {
    "duration": 44344,
    "start_time": "2025-05-27T18:31:22.267Z"
   },
   {
    "duration": 50304,
    "start_time": "2025-05-27T18:32:06.613Z"
   },
   {
    "duration": 50,
    "start_time": "2025-05-27T18:32:56.922Z"
   },
   {
    "duration": 17,
    "start_time": "2025-05-27T18:32:56.973Z"
   },
   {
    "duration": 41,
    "start_time": "2025-05-27T18:32:56.991Z"
   },
   {
    "duration": 27,
    "start_time": "2025-05-27T18:32:57.034Z"
   },
   {
    "duration": 1313,
    "start_time": "2025-05-27T18:32:57.062Z"
   },
   {
    "duration": 14,
    "start_time": "2025-05-27T18:32:58.377Z"
   },
   {
    "duration": 47,
    "start_time": "2025-05-27T18:32:58.393Z"
   },
   {
    "duration": 38,
    "start_time": "2025-05-27T18:32:58.441Z"
   },
   {
    "duration": 86,
    "start_time": "2025-05-27T18:32:58.481Z"
   },
   {
    "duration": 33,
    "start_time": "2025-05-27T18:32:58.568Z"
   },
   {
    "duration": 30,
    "start_time": "2025-05-27T18:32:58.603Z"
   },
   {
    "duration": 50,
    "start_time": "2025-05-27T18:32:58.635Z"
   },
   {
    "duration": 19,
    "start_time": "2025-05-27T18:32:58.688Z"
   },
   {
    "duration": 852,
    "start_time": "2025-05-27T18:32:58.708Z"
   },
   {
    "duration": 20,
    "start_time": "2025-05-27T18:32:59.562Z"
   },
   {
    "duration": 12,
    "start_time": "2025-05-27T18:32:59.584Z"
   },
   {
    "duration": 12,
    "start_time": "2025-05-27T18:32:59.597Z"
   },
   {
    "duration": 52,
    "start_time": "2025-05-27T18:32:59.610Z"
   },
   {
    "duration": 27,
    "start_time": "2025-05-27T18:32:59.664Z"
   },
   {
    "duration": 980,
    "start_time": "2025-05-27T18:32:59.693Z"
   },
   {
    "duration": 39,
    "start_time": "2025-05-27T18:33:00.675Z"
   },
   {
    "duration": 12,
    "start_time": "2025-05-27T18:33:00.716Z"
   },
   {
    "duration": 39,
    "start_time": "2025-05-27T18:33:00.730Z"
   },
   {
    "duration": 3,
    "start_time": "2025-05-27T18:33:00.771Z"
   },
   {
    "duration": 4,
    "start_time": "2025-05-27T18:33:00.776Z"
   },
   {
    "duration": 34,
    "start_time": "2025-05-27T18:33:00.781Z"
   },
   {
    "duration": 1533,
    "start_time": "2025-05-27T18:33:00.817Z"
   },
   {
    "duration": 68,
    "start_time": "2025-05-27T18:36:39.683Z"
   },
   {
    "duration": 1667,
    "start_time": "2025-05-27T18:37:04.447Z"
   },
   {
    "duration": 133,
    "start_time": "2025-05-27T18:37:06.116Z"
   },
   {
    "duration": 30,
    "start_time": "2025-05-27T18:37:06.250Z"
   },
   {
    "duration": 21,
    "start_time": "2025-05-27T18:37:06.282Z"
   },
   {
    "duration": 67,
    "start_time": "2025-05-27T18:37:06.305Z"
   },
   {
    "duration": 24,
    "start_time": "2025-05-27T18:37:06.374Z"
   },
   {
    "duration": 15,
    "start_time": "2025-05-27T18:37:06.400Z"
   },
   {
    "duration": 28,
    "start_time": "2025-05-27T18:37:06.417Z"
   },
   {
    "duration": 123,
    "start_time": "2025-05-27T18:37:06.447Z"
   },
   {
    "duration": 171,
    "start_time": "2025-05-27T18:37:06.574Z"
   },
   {
    "duration": 294,
    "start_time": "2025-05-27T18:37:06.746Z"
   },
   {
    "duration": 39,
    "start_time": "2025-05-27T18:37:07.042Z"
   },
   {
    "duration": 204,
    "start_time": "2025-05-27T18:37:07.082Z"
   },
   {
    "duration": 95,
    "start_time": "2025-05-27T18:37:07.288Z"
   },
   {
    "duration": 102,
    "start_time": "2025-05-27T18:37:07.386Z"
   },
   {
    "duration": 185,
    "start_time": "2025-05-27T18:37:07.491Z"
   },
   {
    "duration": 263,
    "start_time": "2025-05-27T18:37:07.678Z"
   },
   {
    "duration": 39,
    "start_time": "2025-05-27T18:37:07.942Z"
   },
   {
    "duration": 19,
    "start_time": "2025-05-27T18:37:07.982Z"
   },
   {
    "duration": 47,
    "start_time": "2025-05-27T18:37:08.002Z"
   },
   {
    "duration": 35,
    "start_time": "2025-05-27T18:37:08.051Z"
   },
   {
    "duration": 100,
    "start_time": "2025-05-27T18:37:08.088Z"
   },
   {
    "duration": 20,
    "start_time": "2025-05-27T18:37:08.190Z"
   },
   {
    "duration": 47,
    "start_time": "2025-05-27T18:37:08.212Z"
   },
   {
    "duration": 28,
    "start_time": "2025-05-27T18:37:08.261Z"
   },
   {
    "duration": 27,
    "start_time": "2025-05-27T18:37:08.291Z"
   },
   {
    "duration": 11,
    "start_time": "2025-05-27T18:37:08.319Z"
   },
   {
    "duration": 9,
    "start_time": "2025-05-27T18:37:08.334Z"
   },
   {
    "duration": 38,
    "start_time": "2025-05-27T18:37:08.344Z"
   },
   {
    "duration": 19,
    "start_time": "2025-05-27T18:37:08.384Z"
   },
   {
    "duration": 20,
    "start_time": "2025-05-27T18:37:08.404Z"
   },
   {
    "duration": 54,
    "start_time": "2025-05-27T18:37:08.425Z"
   },
   {
    "duration": 21,
    "start_time": "2025-05-27T18:37:08.480Z"
   },
   {
    "duration": 112,
    "start_time": "2025-05-27T18:37:08.503Z"
   },
   {
    "duration": 22,
    "start_time": "2025-05-27T18:37:08.617Z"
   },
   {
    "duration": 6,
    "start_time": "2025-05-27T18:37:08.640Z"
   },
   {
    "duration": 32,
    "start_time": "2025-05-27T18:37:08.647Z"
   },
   {
    "duration": 4,
    "start_time": "2025-05-27T18:37:08.681Z"
   },
   {
    "duration": 80,
    "start_time": "2025-05-27T18:37:08.687Z"
   },
   {
    "duration": 51,
    "start_time": "2025-05-27T18:37:08.769Z"
   },
   {
    "duration": 19,
    "start_time": "2025-05-27T18:37:08.822Z"
   },
   {
    "duration": 13,
    "start_time": "2025-05-27T18:37:08.843Z"
   },
   {
    "duration": 484,
    "start_time": "2025-05-27T18:37:08.858Z"
   },
   {
    "duration": 44,
    "start_time": "2025-05-27T18:37:09.344Z"
   },
   {
    "duration": 19,
    "start_time": "2025-05-27T18:37:09.390Z"
   },
   {
    "duration": 2896,
    "start_time": "2025-05-27T18:37:09.411Z"
   },
   {
    "duration": 16,
    "start_time": "2025-05-27T18:37:12.309Z"
   },
   {
    "duration": 37,
    "start_time": "2025-05-27T18:37:12.326Z"
   },
   {
    "duration": 440,
    "start_time": "2025-05-27T18:37:12.365Z"
   },
   {
    "duration": 1459,
    "start_time": "2025-05-27T18:37:12.807Z"
   },
   {
    "duration": 10,
    "start_time": "2025-05-27T18:37:14.269Z"
   },
   {
    "duration": 22,
    "start_time": "2025-05-27T18:37:14.281Z"
   },
   {
    "duration": 6,
    "start_time": "2025-05-27T18:37:14.305Z"
   },
   {
    "duration": 11,
    "start_time": "2025-05-27T18:37:14.313Z"
   },
   {
    "duration": 36,
    "start_time": "2025-05-27T18:37:14.326Z"
   },
   {
    "duration": 277,
    "start_time": "2025-05-27T18:37:14.364Z"
   },
   {
    "duration": 3,
    "start_time": "2025-05-27T18:37:14.642Z"
   },
   {
    "duration": 196,
    "start_time": "2025-05-27T18:37:14.647Z"
   },
   {
    "duration": 860,
    "start_time": "2025-05-27T18:37:14.844Z"
   },
   {
    "duration": 9,
    "start_time": "2025-05-27T18:37:15.705Z"
   },
   {
    "duration": 19,
    "start_time": "2025-05-27T18:37:15.716Z"
   },
   {
    "duration": 27,
    "start_time": "2025-05-27T18:37:15.737Z"
   },
   {
    "duration": 18,
    "start_time": "2025-05-27T18:37:15.766Z"
   },
   {
    "duration": 77,
    "start_time": "2025-05-27T18:37:15.786Z"
   },
   {
    "duration": 51,
    "start_time": "2025-05-27T18:37:15.865Z"
   },
   {
    "duration": 350,
    "start_time": "2025-05-27T18:37:15.918Z"
   },
   {
    "duration": 8,
    "start_time": "2025-05-27T18:37:16.269Z"
   },
   {
    "duration": 11,
    "start_time": "2025-05-27T18:37:16.279Z"
   },
   {
    "duration": 18,
    "start_time": "2025-05-27T18:37:16.291Z"
   },
   {
    "duration": 69,
    "start_time": "2025-05-27T18:37:16.310Z"
   },
   {
    "duration": 17,
    "start_time": "2025-05-27T18:37:16.381Z"
   },
   {
    "duration": 6,
    "start_time": "2025-05-27T18:37:16.399Z"
   },
   {
    "duration": 301,
    "start_time": "2025-05-27T18:37:16.407Z"
   },
   {
    "duration": 17,
    "start_time": "2025-05-27T18:37:16.710Z"
   },
   {
    "duration": 37,
    "start_time": "2025-05-27T18:37:16.729Z"
   },
   {
    "duration": 16,
    "start_time": "2025-05-27T18:37:16.769Z"
   },
   {
    "duration": 46805,
    "start_time": "2025-05-27T18:37:16.786Z"
   },
   {
    "duration": 47810,
    "start_time": "2025-05-27T18:38:03.593Z"
   },
   {
    "duration": 47395,
    "start_time": "2025-05-27T18:38:51.405Z"
   },
   {
    "duration": 47154,
    "start_time": "2025-05-27T18:39:38.801Z"
   },
   {
    "duration": 48,
    "start_time": "2025-05-27T18:40:25.957Z"
   },
   {
    "duration": 57,
    "start_time": "2025-05-27T18:40:26.011Z"
   },
   {
    "duration": 49,
    "start_time": "2025-05-27T18:40:26.069Z"
   },
   {
    "duration": 6,
    "start_time": "2025-05-27T18:40:26.120Z"
   },
   {
    "duration": 1310,
    "start_time": "2025-05-27T18:40:26.128Z"
   },
   {
    "duration": 95,
    "start_time": "2025-05-27T18:40:27.439Z"
   },
   {
    "duration": 47,
    "start_time": "2025-05-27T18:40:27.536Z"
   },
   {
    "duration": 15,
    "start_time": "2025-05-27T18:40:27.584Z"
   },
   {
    "duration": 38,
    "start_time": "2025-05-27T18:40:27.600Z"
   },
   {
    "duration": 41,
    "start_time": "2025-05-27T18:40:27.639Z"
   },
   {
    "duration": 26,
    "start_time": "2025-05-27T18:40:27.681Z"
   },
   {
    "duration": 28,
    "start_time": "2025-05-27T18:40:27.708Z"
   },
   {
    "duration": 29,
    "start_time": "2025-05-27T18:40:27.737Z"
   },
   {
    "duration": 819,
    "start_time": "2025-05-27T18:40:27.767Z"
   },
   {
    "duration": 20,
    "start_time": "2025-05-27T18:40:28.588Z"
   },
   {
    "duration": 28,
    "start_time": "2025-05-27T18:40:28.610Z"
   },
   {
    "duration": 32,
    "start_time": "2025-05-27T18:40:28.640Z"
   },
   {
    "duration": 28,
    "start_time": "2025-05-27T18:40:28.673Z"
   },
   {
    "duration": 55,
    "start_time": "2025-05-27T18:40:28.703Z"
   },
   {
    "duration": 829,
    "start_time": "2025-05-27T18:40:28.759Z"
   },
   {
    "duration": 54,
    "start_time": "2025-05-27T18:40:29.589Z"
   },
   {
    "duration": 25,
    "start_time": "2025-05-27T18:40:29.644Z"
   },
   {
    "duration": 23,
    "start_time": "2025-05-27T18:40:29.671Z"
   },
   {
    "duration": 15,
    "start_time": "2025-05-27T18:40:29.696Z"
   },
   {
    "duration": 44,
    "start_time": "2025-05-27T18:40:29.712Z"
   },
   {
    "duration": 25,
    "start_time": "2025-05-27T18:40:29.757Z"
   },
   {
    "duration": 2123,
    "start_time": "2025-05-27T18:40:29.784Z"
   },
   {
    "duration": 1788,
    "start_time": "2025-05-27T18:48:43.893Z"
   },
   {
    "duration": 148,
    "start_time": "2025-05-27T18:48:45.683Z"
   },
   {
    "duration": 37,
    "start_time": "2025-05-27T18:48:45.833Z"
   },
   {
    "duration": 67,
    "start_time": "2025-05-27T18:48:45.872Z"
   },
   {
    "duration": 17,
    "start_time": "2025-05-27T18:48:45.940Z"
   },
   {
    "duration": 10,
    "start_time": "2025-05-27T18:48:45.958Z"
   },
   {
    "duration": 9,
    "start_time": "2025-05-27T18:48:45.969Z"
   },
   {
    "duration": 19,
    "start_time": "2025-05-27T18:48:45.979Z"
   },
   {
    "duration": 10,
    "start_time": "2025-05-27T18:48:46.000Z"
   },
   {
    "duration": 9,
    "start_time": "2025-05-27T18:48:46.014Z"
   },
   {
    "duration": 27,
    "start_time": "2025-05-27T18:48:46.025Z"
   },
   {
    "duration": 8,
    "start_time": "2025-05-27T18:48:46.060Z"
   },
   {
    "duration": 13,
    "start_time": "2025-05-27T18:48:46.070Z"
   },
   {
    "duration": 3,
    "start_time": "2025-05-27T18:48:46.085Z"
   },
   {
    "duration": 35,
    "start_time": "2025-05-27T18:48:46.090Z"
   },
   {
    "duration": 35,
    "start_time": "2025-05-27T18:48:46.127Z"
   },
   {
    "duration": 18,
    "start_time": "2025-05-27T18:48:46.164Z"
   },
   {
    "duration": 43,
    "start_time": "2025-05-27T18:48:46.183Z"
   },
   {
    "duration": 23,
    "start_time": "2025-05-27T18:48:46.228Z"
   },
   {
    "duration": 15,
    "start_time": "2025-05-27T18:48:46.253Z"
   },
   {
    "duration": 13,
    "start_time": "2025-05-27T18:48:46.269Z"
   },
   {
    "duration": 22,
    "start_time": "2025-05-27T18:48:46.284Z"
   },
   {
    "duration": 23,
    "start_time": "2025-05-27T18:48:46.307Z"
   },
   {
    "duration": 14,
    "start_time": "2025-05-27T18:48:46.331Z"
   },
   {
    "duration": 19,
    "start_time": "2025-05-27T18:48:46.347Z"
   },
   {
    "duration": 29,
    "start_time": "2025-05-27T18:48:46.368Z"
   },
   {
    "duration": 11,
    "start_time": "2025-05-27T18:48:46.398Z"
   },
   {
    "duration": 9,
    "start_time": "2025-05-27T18:48:46.413Z"
   },
   {
    "duration": 55,
    "start_time": "2025-05-27T18:48:46.423Z"
   },
   {
    "duration": 23,
    "start_time": "2025-05-27T18:48:46.480Z"
   },
   {
    "duration": 12,
    "start_time": "2025-05-27T18:48:46.504Z"
   },
   {
    "duration": 110,
    "start_time": "2025-05-27T18:48:46.518Z"
   },
   {
    "duration": 21,
    "start_time": "2025-05-27T18:48:46.630Z"
   },
   {
    "duration": 43,
    "start_time": "2025-05-27T18:48:46.653Z"
   },
   {
    "duration": 22,
    "start_time": "2025-05-27T18:48:46.698Z"
   },
   {
    "duration": 10,
    "start_time": "2025-05-27T18:48:46.722Z"
   },
   {
    "duration": 55,
    "start_time": "2025-05-27T18:48:46.734Z"
   },
   {
    "duration": 5,
    "start_time": "2025-05-27T18:48:46.791Z"
   },
   {
    "duration": 11,
    "start_time": "2025-05-27T18:48:46.797Z"
   },
   {
    "duration": 4,
    "start_time": "2025-05-27T18:48:46.810Z"
   },
   {
    "duration": 19,
    "start_time": "2025-05-27T18:48:46.815Z"
   },
   {
    "duration": 50,
    "start_time": "2025-05-27T18:48:46.836Z"
   },
   {
    "duration": 347,
    "start_time": "2025-05-27T18:48:46.888Z"
   },
   {
    "duration": 45,
    "start_time": "2025-05-27T18:48:47.237Z"
   },
   {
    "duration": 131,
    "start_time": "2025-05-27T18:48:47.284Z"
   },
   {
    "duration": 1818,
    "start_time": "2025-05-27T18:48:47.416Z"
   },
   {
    "duration": 27,
    "start_time": "2025-05-27T18:48:49.235Z"
   },
   {
    "duration": 134,
    "start_time": "2025-05-27T18:48:49.263Z"
   },
   {
    "duration": 420,
    "start_time": "2025-05-27T18:48:49.399Z"
   },
   {
    "duration": 1467,
    "start_time": "2025-05-27T18:48:49.821Z"
   },
   {
    "duration": 8,
    "start_time": "2025-05-27T18:48:51.289Z"
   },
   {
    "duration": 78,
    "start_time": "2025-05-27T18:48:51.298Z"
   },
   {
    "duration": 5,
    "start_time": "2025-05-27T18:48:51.378Z"
   },
   {
    "duration": 14,
    "start_time": "2025-05-27T18:48:51.385Z"
   },
   {
    "duration": 14,
    "start_time": "2025-05-27T18:48:51.401Z"
   },
   {
    "duration": 247,
    "start_time": "2025-05-27T18:48:51.417Z"
   },
   {
    "duration": 4,
    "start_time": "2025-05-27T18:48:51.665Z"
   },
   {
    "duration": 196,
    "start_time": "2025-05-27T18:48:51.670Z"
   },
   {
    "duration": 884,
    "start_time": "2025-05-27T18:48:51.868Z"
   },
   {
    "duration": 13,
    "start_time": "2025-05-27T18:48:52.753Z"
   },
   {
    "duration": 29,
    "start_time": "2025-05-27T18:48:52.768Z"
   },
   {
    "duration": 11,
    "start_time": "2025-05-27T18:48:52.798Z"
   },
   {
    "duration": 9,
    "start_time": "2025-05-27T18:48:52.811Z"
   },
   {
    "duration": 10,
    "start_time": "2025-05-27T18:48:52.821Z"
   },
   {
    "duration": 20,
    "start_time": "2025-05-27T18:48:52.833Z"
   },
   {
    "duration": 365,
    "start_time": "2025-05-27T18:48:52.854Z"
   },
   {
    "duration": 7,
    "start_time": "2025-05-27T18:48:53.221Z"
   },
   {
    "duration": 137,
    "start_time": "2025-05-27T18:48:53.230Z"
   },
   {
    "duration": 17,
    "start_time": "2025-05-27T18:48:53.369Z"
   },
   {
    "duration": 42,
    "start_time": "2025-05-27T18:48:53.387Z"
   },
   {
    "duration": 15,
    "start_time": "2025-05-27T18:48:53.431Z"
   },
   {
    "duration": 7,
    "start_time": "2025-05-27T18:48:53.461Z"
   },
   {
    "duration": 289,
    "start_time": "2025-05-27T18:48:53.469Z"
   },
   {
    "duration": 14,
    "start_time": "2025-05-27T18:48:53.760Z"
   },
   {
    "duration": 12,
    "start_time": "2025-05-27T18:48:53.776Z"
   },
   {
    "duration": 3,
    "start_time": "2025-05-27T18:48:53.790Z"
   },
   {
    "duration": 47599,
    "start_time": "2025-05-27T18:48:53.795Z"
   },
   {
    "duration": 48012,
    "start_time": "2025-05-27T18:49:41.395Z"
   },
   {
    "duration": 45967,
    "start_time": "2025-05-27T18:50:29.409Z"
   },
   {
    "duration": 46880,
    "start_time": "2025-05-27T18:51:15.377Z"
   },
   {
    "duration": 44,
    "start_time": "2025-05-27T18:52:02.261Z"
   },
   {
    "duration": 15,
    "start_time": "2025-05-27T18:52:02.310Z"
   },
   {
    "duration": 67,
    "start_time": "2025-05-27T18:52:02.326Z"
   },
   {
    "duration": 7,
    "start_time": "2025-05-27T18:52:02.395Z"
   },
   {
    "duration": 1306,
    "start_time": "2025-05-27T18:52:02.403Z"
   },
   {
    "duration": 70,
    "start_time": "2025-05-27T18:52:03.710Z"
   },
   {
    "duration": 27,
    "start_time": "2025-05-27T18:52:03.781Z"
   },
   {
    "duration": 10,
    "start_time": "2025-05-27T18:52:03.809Z"
   },
   {
    "duration": 202,
    "start_time": "2025-05-27T18:52:03.821Z"
   },
   {
    "duration": 50,
    "start_time": "2025-05-27T18:52:04.024Z"
   },
   {
    "duration": 37,
    "start_time": "2025-05-27T18:52:04.076Z"
   },
   {
    "duration": 43,
    "start_time": "2025-05-27T18:52:04.115Z"
   },
   {
    "duration": 28,
    "start_time": "2025-05-27T18:52:04.159Z"
   },
   {
    "duration": 8,
    "start_time": "2025-05-27T18:52:04.189Z"
   },
   {
    "duration": 837,
    "start_time": "2025-05-27T18:52:04.198Z"
   },
   {
    "duration": 34,
    "start_time": "2025-05-27T18:52:05.037Z"
   },
   {
    "duration": 12,
    "start_time": "2025-05-27T18:52:05.073Z"
   },
   {
    "duration": 35,
    "start_time": "2025-05-27T18:52:05.086Z"
   },
   {
    "duration": 41,
    "start_time": "2025-05-27T18:52:05.122Z"
   },
   {
    "duration": 95,
    "start_time": "2025-05-27T18:52:05.164Z"
   },
   {
    "duration": 942,
    "start_time": "2025-05-27T18:52:05.261Z"
   },
   {
    "duration": 62,
    "start_time": "2025-05-27T18:52:06.205Z"
   },
   {
    "duration": 12,
    "start_time": "2025-05-27T18:52:06.268Z"
   },
   {
    "duration": 47,
    "start_time": "2025-05-27T18:52:06.281Z"
   },
   {
    "duration": 44,
    "start_time": "2025-05-27T18:52:06.329Z"
   },
   {
    "duration": 9,
    "start_time": "2025-05-27T18:52:06.375Z"
   },
   {
    "duration": 45,
    "start_time": "2025-05-27T18:52:06.387Z"
   },
   {
    "duration": 1663,
    "start_time": "2025-05-27T18:52:06.433Z"
   },
   {
    "duration": 1554,
    "start_time": "2025-05-27T20:45:03.878Z"
   },
   {
    "duration": 126,
    "start_time": "2025-05-27T20:45:05.434Z"
   },
   {
    "duration": 23,
    "start_time": "2025-05-27T20:45:05.562Z"
   },
   {
    "duration": 35,
    "start_time": "2025-05-27T20:45:05.587Z"
   },
   {
    "duration": 42,
    "start_time": "2025-05-27T20:45:05.624Z"
   },
   {
    "duration": 109,
    "start_time": "2025-05-27T20:45:05.668Z"
   },
   {
    "duration": 44,
    "start_time": "2025-05-27T20:45:05.779Z"
   },
   {
    "duration": 54,
    "start_time": "2025-05-27T20:45:05.825Z"
   },
   {
    "duration": 39,
    "start_time": "2025-05-27T20:45:05.880Z"
   },
   {
    "duration": 65,
    "start_time": "2025-05-27T20:45:05.922Z"
   },
   {
    "duration": 56,
    "start_time": "2025-05-27T20:45:05.988Z"
   },
   {
    "duration": 62,
    "start_time": "2025-05-27T20:45:06.046Z"
   },
   {
    "duration": 27,
    "start_time": "2025-05-27T20:45:06.110Z"
   },
   {
    "duration": 48,
    "start_time": "2025-05-27T20:45:06.139Z"
   },
   {
    "duration": 20,
    "start_time": "2025-05-27T20:45:06.189Z"
   },
   {
    "duration": 80,
    "start_time": "2025-05-27T20:45:06.211Z"
   },
   {
    "duration": 155,
    "start_time": "2025-05-27T20:45:06.293Z"
   },
   {
    "duration": 278,
    "start_time": "2025-05-27T20:45:06.450Z"
   },
   {
    "duration": 56,
    "start_time": "2025-05-27T20:45:06.730Z"
   },
   {
    "duration": 13,
    "start_time": "2025-05-27T20:45:06.789Z"
   },
   {
    "duration": 60,
    "start_time": "2025-05-27T20:45:06.804Z"
   },
   {
    "duration": 29,
    "start_time": "2025-05-27T20:45:06.866Z"
   },
   {
    "duration": 122,
    "start_time": "2025-05-27T20:45:06.897Z"
   },
   {
    "duration": 64,
    "start_time": "2025-05-27T20:45:07.021Z"
   },
   {
    "duration": 67,
    "start_time": "2025-05-27T20:45:07.087Z"
   },
   {
    "duration": 88,
    "start_time": "2025-05-27T20:45:07.156Z"
   },
   {
    "duration": 41,
    "start_time": "2025-05-27T20:45:07.246Z"
   },
   {
    "duration": 48,
    "start_time": "2025-05-27T20:45:07.291Z"
   },
   {
    "duration": 60,
    "start_time": "2025-05-27T20:45:07.341Z"
   },
   {
    "duration": 73,
    "start_time": "2025-05-27T20:45:07.403Z"
   },
   {
    "duration": 35,
    "start_time": "2025-05-27T20:45:07.479Z"
   },
   {
    "duration": 123,
    "start_time": "2025-05-27T20:45:07.516Z"
   },
   {
    "duration": 36,
    "start_time": "2025-05-27T20:45:07.641Z"
   },
   {
    "duration": 125,
    "start_time": "2025-05-27T20:45:07.679Z"
   },
   {
    "duration": 126,
    "start_time": "2025-05-27T20:45:07.806Z"
   },
   {
    "duration": 7,
    "start_time": "2025-05-27T20:45:07.933Z"
   },
   {
    "duration": 20,
    "start_time": "2025-05-27T20:45:07.942Z"
   },
   {
    "duration": 17,
    "start_time": "2025-05-27T20:45:07.964Z"
   },
   {
    "duration": 31,
    "start_time": "2025-05-27T20:45:07.982Z"
   },
   {
    "duration": 25,
    "start_time": "2025-05-27T20:45:08.015Z"
   },
   {
    "duration": 10,
    "start_time": "2025-05-27T20:45:08.042Z"
   },
   {
    "duration": 19,
    "start_time": "2025-05-27T20:45:08.054Z"
   },
   {
    "duration": 380,
    "start_time": "2025-05-27T20:45:08.074Z"
   },
   {
    "duration": 44,
    "start_time": "2025-05-27T20:45:08.455Z"
   },
   {
    "duration": 96,
    "start_time": "2025-05-27T20:45:08.500Z"
   },
   {
    "duration": 2056,
    "start_time": "2025-05-27T20:45:08.598Z"
   },
   {
    "duration": 20,
    "start_time": "2025-05-27T20:45:10.656Z"
   },
   {
    "duration": 62,
    "start_time": "2025-05-27T20:45:10.677Z"
   },
   {
    "duration": 414,
    "start_time": "2025-05-27T20:45:10.741Z"
   },
   {
    "duration": 1442,
    "start_time": "2025-05-27T20:45:11.157Z"
   },
   {
    "duration": 8,
    "start_time": "2025-05-27T20:45:12.601Z"
   },
   {
    "duration": 166,
    "start_time": "2025-05-27T20:45:12.611Z"
   },
   {
    "duration": 9,
    "start_time": "2025-05-27T20:45:12.779Z"
   },
   {
    "duration": 8,
    "start_time": "2025-05-27T20:45:12.789Z"
   },
   {
    "duration": 13,
    "start_time": "2025-05-27T20:45:12.799Z"
   },
   {
    "duration": 250,
    "start_time": "2025-05-27T20:45:12.813Z"
   },
   {
    "duration": 4,
    "start_time": "2025-05-27T20:45:13.064Z"
   },
   {
    "duration": 193,
    "start_time": "2025-05-27T20:45:13.069Z"
   },
   {
    "duration": 881,
    "start_time": "2025-05-27T20:45:13.263Z"
   },
   {
    "duration": 16,
    "start_time": "2025-05-27T20:45:14.146Z"
   },
   {
    "duration": 33,
    "start_time": "2025-05-27T20:45:14.164Z"
   },
   {
    "duration": 13,
    "start_time": "2025-05-27T20:45:14.199Z"
   },
   {
    "duration": 30,
    "start_time": "2025-05-27T20:45:14.214Z"
   },
   {
    "duration": 50,
    "start_time": "2025-05-27T20:45:14.246Z"
   },
   {
    "duration": 120,
    "start_time": "2025-05-27T20:45:14.298Z"
   },
   {
    "duration": 375,
    "start_time": "2025-05-27T20:45:14.420Z"
   },
   {
    "duration": 9,
    "start_time": "2025-05-27T20:45:14.797Z"
   },
   {
    "duration": 20,
    "start_time": "2025-05-27T20:45:14.808Z"
   },
   {
    "duration": 28,
    "start_time": "2025-05-27T20:45:14.830Z"
   },
   {
    "duration": 13,
    "start_time": "2025-05-27T20:45:14.861Z"
   },
   {
    "duration": 47075,
    "start_time": "2025-05-27T20:45:14.875Z"
   },
   {
    "duration": 46921,
    "start_time": "2025-05-27T20:46:01.952Z"
   },
   {
    "duration": 44958,
    "start_time": "2025-05-27T20:46:48.875Z"
   },
   {
    "duration": 47448,
    "start_time": "2025-05-27T20:47:33.835Z"
   },
   {
    "duration": 44,
    "start_time": "2025-05-27T20:48:21.285Z"
   },
   {
    "duration": 31,
    "start_time": "2025-05-27T20:48:21.330Z"
   },
   {
    "duration": 67,
    "start_time": "2025-05-27T20:48:21.363Z"
   },
   {
    "duration": 7,
    "start_time": "2025-05-27T20:48:21.432Z"
   },
   {
    "duration": 1365,
    "start_time": "2025-05-27T20:48:21.440Z"
   },
   {
    "duration": 79,
    "start_time": "2025-05-27T20:48:22.806Z"
   },
   {
    "duration": 28,
    "start_time": "2025-05-27T20:48:22.887Z"
   },
   {
    "duration": 18,
    "start_time": "2025-05-27T20:48:22.920Z"
   },
   {
    "duration": 22,
    "start_time": "2025-05-27T20:48:22.939Z"
   },
   {
    "duration": 30,
    "start_time": "2025-05-27T20:48:22.963Z"
   },
   {
    "duration": 32,
    "start_time": "2025-05-27T20:48:22.995Z"
   },
   {
    "duration": 46,
    "start_time": "2025-05-27T20:48:23.028Z"
   },
   {
    "duration": 29,
    "start_time": "2025-05-27T20:48:23.076Z"
   },
   {
    "duration": 9,
    "start_time": "2025-05-27T20:48:23.107Z"
   },
   {
    "duration": 960,
    "start_time": "2025-05-27T20:48:23.118Z"
   },
   {
    "duration": 23,
    "start_time": "2025-05-27T20:48:24.080Z"
   },
   {
    "duration": 14,
    "start_time": "2025-05-27T20:48:24.105Z"
   },
   {
    "duration": 21,
    "start_time": "2025-05-27T20:48:24.121Z"
   },
   {
    "duration": 27,
    "start_time": "2025-05-27T20:48:24.162Z"
   },
   {
    "duration": 26,
    "start_time": "2025-05-27T20:48:24.191Z"
   },
   {
    "duration": 825,
    "start_time": "2025-05-27T20:48:24.218Z"
   },
   {
    "duration": 51,
    "start_time": "2025-05-27T20:48:25.046Z"
   },
   {
    "duration": 11,
    "start_time": "2025-05-27T20:48:25.099Z"
   },
   {
    "duration": 15,
    "start_time": "2025-05-27T20:48:25.112Z"
   },
   {
    "duration": 2,
    "start_time": "2025-05-27T20:48:25.129Z"
   },
   {
    "duration": 4,
    "start_time": "2025-05-27T20:48:25.133Z"
   },
   {
    "duration": 32,
    "start_time": "2025-05-27T20:48:25.139Z"
   },
   {
    "duration": 1497,
    "start_time": "2025-05-27T20:48:25.173Z"
   },
   {
    "duration": 1634,
    "start_time": "2025-05-27T21:00:37.139Z"
   },
   {
    "duration": 122,
    "start_time": "2025-05-27T21:00:38.775Z"
   },
   {
    "duration": 20,
    "start_time": "2025-05-27T21:00:38.899Z"
   },
   {
    "duration": 100,
    "start_time": "2025-05-27T21:00:38.921Z"
   },
   {
    "duration": 39,
    "start_time": "2025-05-27T21:00:39.022Z"
   },
   {
    "duration": 18,
    "start_time": "2025-05-27T21:00:39.063Z"
   },
   {
    "duration": 6,
    "start_time": "2025-05-27T21:00:39.082Z"
   },
   {
    "duration": 17,
    "start_time": "2025-05-27T21:00:39.089Z"
   },
   {
    "duration": 14,
    "start_time": "2025-05-27T21:00:39.108Z"
   },
   {
    "duration": 23,
    "start_time": "2025-05-27T21:00:39.124Z"
   },
   {
    "duration": 38,
    "start_time": "2025-05-27T21:00:39.149Z"
   },
   {
    "duration": 41,
    "start_time": "2025-05-27T21:00:39.189Z"
   },
   {
    "duration": 39,
    "start_time": "2025-05-27T21:00:39.232Z"
   },
   {
    "duration": 10,
    "start_time": "2025-05-27T21:00:39.273Z"
   },
   {
    "duration": 12,
    "start_time": "2025-05-27T21:00:39.285Z"
   },
   {
    "duration": 34,
    "start_time": "2025-05-27T21:00:39.298Z"
   },
   {
    "duration": 57,
    "start_time": "2025-05-27T21:00:39.334Z"
   },
   {
    "duration": 76,
    "start_time": "2025-05-27T21:00:39.393Z"
   },
   {
    "duration": 27,
    "start_time": "2025-05-27T21:00:39.471Z"
   },
   {
    "duration": 11,
    "start_time": "2025-05-27T21:00:39.500Z"
   },
   {
    "duration": 12,
    "start_time": "2025-05-27T21:00:39.513Z"
   },
   {
    "duration": 35,
    "start_time": "2025-05-27T21:00:39.526Z"
   },
   {
    "duration": 125,
    "start_time": "2025-05-27T21:00:39.562Z"
   },
   {
    "duration": 18,
    "start_time": "2025-05-27T21:00:39.689Z"
   },
   {
    "duration": 131,
    "start_time": "2025-05-27T21:00:39.709Z"
   },
   {
    "duration": 37,
    "start_time": "2025-05-27T21:00:39.842Z"
   },
   {
    "duration": 158,
    "start_time": "2025-05-27T21:00:39.881Z"
   },
   {
    "duration": 11,
    "start_time": "2025-05-27T21:00:40.044Z"
   },
   {
    "duration": 21,
    "start_time": "2025-05-27T21:00:40.057Z"
   },
   {
    "duration": 22,
    "start_time": "2025-05-27T21:00:40.080Z"
   },
   {
    "duration": 42,
    "start_time": "2025-05-27T21:00:40.104Z"
   },
   {
    "duration": 33,
    "start_time": "2025-05-27T21:00:40.148Z"
   },
   {
    "duration": 22,
    "start_time": "2025-05-27T21:00:40.183Z"
   },
   {
    "duration": 59,
    "start_time": "2025-05-27T21:00:40.207Z"
   },
   {
    "duration": 23,
    "start_time": "2025-05-27T21:00:40.267Z"
   },
   {
    "duration": 15,
    "start_time": "2025-05-27T21:00:40.292Z"
   },
   {
    "duration": 52,
    "start_time": "2025-05-27T21:00:40.309Z"
   },
   {
    "duration": 4,
    "start_time": "2025-05-27T21:00:40.363Z"
   },
   {
    "duration": 102,
    "start_time": "2025-05-27T21:00:40.369Z"
   },
   {
    "duration": 13,
    "start_time": "2025-05-27T21:00:40.473Z"
   },
   {
    "duration": 40,
    "start_time": "2025-05-27T21:00:40.488Z"
   },
   {
    "duration": 44,
    "start_time": "2025-05-27T21:00:40.530Z"
   },
   {
    "duration": 387,
    "start_time": "2025-05-27T21:00:40.576Z"
   },
   {
    "duration": 38,
    "start_time": "2025-05-27T21:00:40.964Z"
   },
   {
    "duration": 54,
    "start_time": "2025-05-27T21:00:41.004Z"
   },
   {
    "duration": 1879,
    "start_time": "2025-05-27T21:00:41.060Z"
   },
   {
    "duration": 24,
    "start_time": "2025-05-27T21:00:42.941Z"
   },
   {
    "duration": 76,
    "start_time": "2025-05-27T21:00:42.967Z"
   },
   {
    "duration": 426,
    "start_time": "2025-05-27T21:00:43.045Z"
   },
   {
    "duration": 1374,
    "start_time": "2025-05-27T21:00:43.473Z"
   },
   {
    "duration": 17,
    "start_time": "2025-05-27T21:00:44.849Z"
   },
   {
    "duration": 10,
    "start_time": "2025-05-27T21:00:44.868Z"
   },
   {
    "duration": 7,
    "start_time": "2025-05-27T21:00:44.879Z"
   },
   {
    "duration": 8,
    "start_time": "2025-05-27T21:00:44.887Z"
   },
   {
    "duration": 19,
    "start_time": "2025-05-27T21:00:44.897Z"
   },
   {
    "duration": 278,
    "start_time": "2025-05-27T21:00:44.918Z"
   },
   {
    "duration": 3,
    "start_time": "2025-05-27T21:00:45.198Z"
   },
   {
    "duration": 208,
    "start_time": "2025-05-27T21:00:45.203Z"
   },
   {
    "duration": 841,
    "start_time": "2025-05-27T21:00:45.413Z"
   },
   {
    "duration": 7,
    "start_time": "2025-05-27T21:00:46.256Z"
   },
   {
    "duration": 15,
    "start_time": "2025-05-27T21:00:46.264Z"
   },
   {
    "duration": 10,
    "start_time": "2025-05-27T21:00:46.281Z"
   },
   {
    "duration": 11,
    "start_time": "2025-05-27T21:00:46.292Z"
   },
   {
    "duration": 14,
    "start_time": "2025-05-27T21:00:46.304Z"
   },
   {
    "duration": 50,
    "start_time": "2025-05-27T21:00:46.319Z"
   },
   {
    "duration": 475,
    "start_time": "2025-05-27T21:00:46.371Z"
   },
   {
    "duration": 15,
    "start_time": "2025-05-27T21:00:46.848Z"
   },
   {
    "duration": 12,
    "start_time": "2025-05-27T21:00:46.865Z"
   },
   {
    "duration": 22,
    "start_time": "2025-05-27T21:00:46.878Z"
   },
   {
    "duration": 4,
    "start_time": "2025-05-27T21:00:46.902Z"
   },
   {
    "duration": 46214,
    "start_time": "2025-05-27T21:00:46.908Z"
   },
   {
    "duration": 45917,
    "start_time": "2025-05-27T21:01:33.124Z"
   },
   {
    "duration": 44557,
    "start_time": "2025-05-27T21:02:19.043Z"
   },
   {
    "duration": 46497,
    "start_time": "2025-05-27T21:03:03.602Z"
   },
   {
    "duration": 44,
    "start_time": "2025-05-27T21:03:50.101Z"
   },
   {
    "duration": 27,
    "start_time": "2025-05-27T21:03:50.146Z"
   },
   {
    "duration": 50,
    "start_time": "2025-05-27T21:03:50.175Z"
   },
   {
    "duration": 6,
    "start_time": "2025-05-27T21:03:50.227Z"
   },
   {
    "duration": 1336,
    "start_time": "2025-05-27T21:03:50.235Z"
   },
   {
    "duration": 65,
    "start_time": "2025-05-27T21:03:51.573Z"
   },
   {
    "duration": 91,
    "start_time": "2025-05-27T21:03:51.640Z"
   },
   {
    "duration": 50,
    "start_time": "2025-05-27T21:03:51.737Z"
   },
   {
    "duration": 42,
    "start_time": "2025-05-27T21:03:51.789Z"
   },
   {
    "duration": 48,
    "start_time": "2025-05-27T21:03:51.833Z"
   },
   {
    "duration": 163,
    "start_time": "2025-05-27T21:03:51.883Z"
   },
   {
    "duration": 34,
    "start_time": "2025-05-27T21:03:52.048Z"
   },
   {
    "duration": 27,
    "start_time": "2025-05-27T21:03:52.084Z"
   },
   {
    "duration": 11,
    "start_time": "2025-05-27T21:03:52.113Z"
   },
   {
    "duration": 925,
    "start_time": "2025-05-27T21:03:52.125Z"
   },
   {
    "duration": 26,
    "start_time": "2025-05-27T21:03:53.051Z"
   },
   {
    "duration": 10,
    "start_time": "2025-05-27T21:03:53.079Z"
   },
   {
    "duration": 8,
    "start_time": "2025-05-27T21:03:53.091Z"
   },
   {
    "duration": 37,
    "start_time": "2025-05-27T21:03:53.100Z"
   },
   {
    "duration": 47,
    "start_time": "2025-05-27T21:03:53.139Z"
   },
   {
    "duration": 823,
    "start_time": "2025-05-27T21:03:53.187Z"
   },
   {
    "duration": 50,
    "start_time": "2025-05-27T21:03:54.011Z"
   },
   {
    "duration": 11,
    "start_time": "2025-05-27T21:03:54.063Z"
   },
   {
    "duration": 27,
    "start_time": "2025-05-27T21:03:54.076Z"
   },
   {
    "duration": 16,
    "start_time": "2025-05-27T21:03:54.105Z"
   },
   {
    "duration": 6,
    "start_time": "2025-05-27T21:03:54.122Z"
   },
   {
    "duration": 11,
    "start_time": "2025-05-27T21:03:54.130Z"
   },
   {
    "duration": 1828,
    "start_time": "2025-05-27T21:03:54.143Z"
   },
   {
    "duration": 19,
    "start_time": "2025-05-27T21:05:18.691Z"
   },
   {
    "duration": 19,
    "start_time": "2025-05-27T21:05:25.564Z"
   },
   {
    "duration": 137,
    "start_time": "2025-05-27T21:07:27.854Z"
   },
   {
    "duration": 1536,
    "start_time": "2025-05-27T22:57:46.186Z"
   },
   {
    "duration": 122,
    "start_time": "2025-05-27T22:57:47.724Z"
   },
   {
    "duration": 21,
    "start_time": "2025-05-27T22:57:47.848Z"
   },
   {
    "duration": 16,
    "start_time": "2025-05-27T22:57:47.872Z"
   },
   {
    "duration": 16,
    "start_time": "2025-05-27T22:57:47.890Z"
   },
   {
    "duration": 10,
    "start_time": "2025-05-27T22:57:47.907Z"
   },
   {
    "duration": 14,
    "start_time": "2025-05-27T22:57:47.919Z"
   },
   {
    "duration": 26,
    "start_time": "2025-05-27T22:57:47.934Z"
   },
   {
    "duration": 5,
    "start_time": "2025-05-27T22:57:47.961Z"
   },
   {
    "duration": 15,
    "start_time": "2025-05-27T22:57:47.969Z"
   },
   {
    "duration": 54,
    "start_time": "2025-05-27T22:57:47.986Z"
   },
   {
    "duration": 9,
    "start_time": "2025-05-27T22:57:48.042Z"
   },
   {
    "duration": 25,
    "start_time": "2025-05-27T22:57:48.053Z"
   },
   {
    "duration": 6,
    "start_time": "2025-05-27T22:57:48.080Z"
   },
   {
    "duration": 12,
    "start_time": "2025-05-27T22:57:48.087Z"
   },
   {
    "duration": 18,
    "start_time": "2025-05-27T22:57:48.100Z"
   },
   {
    "duration": 25,
    "start_time": "2025-05-27T22:57:48.120Z"
   },
   {
    "duration": 112,
    "start_time": "2025-05-27T22:57:48.161Z"
   },
   {
    "duration": 49,
    "start_time": "2025-05-27T22:57:48.274Z"
   },
   {
    "duration": 13,
    "start_time": "2025-05-27T22:57:48.325Z"
   },
   {
    "duration": 30,
    "start_time": "2025-05-27T22:57:48.341Z"
   },
   {
    "duration": 21,
    "start_time": "2025-05-27T22:57:48.373Z"
   },
   {
    "duration": 14,
    "start_time": "2025-05-27T22:57:48.395Z"
   },
   {
    "duration": 14,
    "start_time": "2025-05-27T22:57:48.411Z"
   },
   {
    "duration": 36,
    "start_time": "2025-05-27T22:57:48.427Z"
   },
   {
    "duration": 35,
    "start_time": "2025-05-27T22:57:48.465Z"
   },
   {
    "duration": 27,
    "start_time": "2025-05-27T22:57:48.502Z"
   },
   {
    "duration": 37,
    "start_time": "2025-05-27T22:57:48.535Z"
   },
   {
    "duration": 174,
    "start_time": "2025-05-27T22:57:48.574Z"
   },
   {
    "duration": 23,
    "start_time": "2025-05-27T22:57:48.750Z"
   },
   {
    "duration": 11,
    "start_time": "2025-05-27T22:57:48.775Z"
   },
   {
    "duration": 26,
    "start_time": "2025-05-27T22:57:48.788Z"
   },
   {
    "duration": 64,
    "start_time": "2025-05-27T22:57:48.816Z"
   },
   {
    "duration": 55,
    "start_time": "2025-05-27T22:57:48.882Z"
   },
   {
    "duration": 27,
    "start_time": "2025-05-27T22:57:48.939Z"
   },
   {
    "duration": 7,
    "start_time": "2025-05-27T22:57:48.968Z"
   },
   {
    "duration": 22,
    "start_time": "2025-05-27T22:57:48.976Z"
   },
   {
    "duration": 21,
    "start_time": "2025-05-27T22:57:48.999Z"
   },
   {
    "duration": 43,
    "start_time": "2025-05-27T22:57:49.022Z"
   },
   {
    "duration": 36,
    "start_time": "2025-05-27T22:57:49.067Z"
   },
   {
    "duration": 163,
    "start_time": "2025-05-27T22:57:49.105Z"
   },
   {
    "duration": 24,
    "start_time": "2025-05-27T22:57:49.269Z"
   },
   {
    "duration": 360,
    "start_time": "2025-05-27T22:57:49.295Z"
   },
   {
    "duration": 37,
    "start_time": "2025-05-27T22:57:49.661Z"
   },
   {
    "duration": 21,
    "start_time": "2025-05-27T22:57:49.700Z"
   },
   {
    "duration": 1803,
    "start_time": "2025-05-27T22:57:49.722Z"
   },
   {
    "duration": 17,
    "start_time": "2025-05-27T22:57:51.527Z"
   },
   {
    "duration": 170,
    "start_time": "2025-05-27T22:57:51.546Z"
   },
   {
    "duration": 412,
    "start_time": "2025-05-27T22:57:51.719Z"
   },
   {
    "duration": 1368,
    "start_time": "2025-05-27T22:57:52.133Z"
   },
   {
    "duration": 9,
    "start_time": "2025-05-27T22:57:53.504Z"
   },
   {
    "duration": 221,
    "start_time": "2025-05-27T22:57:53.514Z"
   },
   {
    "duration": 39,
    "start_time": "2025-05-27T22:57:53.736Z"
   },
   {
    "duration": 10,
    "start_time": "2025-05-27T22:57:53.777Z"
   },
   {
    "duration": 14,
    "start_time": "2025-05-27T22:57:53.789Z"
   },
   {
    "duration": 240,
    "start_time": "2025-05-27T22:57:53.804Z"
   },
   {
    "duration": 3,
    "start_time": "2025-05-27T22:57:54.046Z"
   },
   {
    "duration": 215,
    "start_time": "2025-05-27T22:57:54.050Z"
   },
   {
    "duration": 846,
    "start_time": "2025-05-27T22:57:54.267Z"
   },
   {
    "duration": 8,
    "start_time": "2025-05-27T22:57:55.115Z"
   },
   {
    "duration": 41,
    "start_time": "2025-05-27T22:57:55.125Z"
   },
   {
    "duration": 10,
    "start_time": "2025-05-27T22:57:55.167Z"
   },
   {
    "duration": 13,
    "start_time": "2025-05-27T22:57:55.178Z"
   },
   {
    "duration": 10,
    "start_time": "2025-05-27T22:57:55.192Z"
   },
   {
    "duration": 19,
    "start_time": "2025-05-27T22:57:55.204Z"
   },
   {
    "duration": 341,
    "start_time": "2025-05-27T22:57:55.224Z"
   },
   {
    "duration": 7,
    "start_time": "2025-05-27T22:57:55.567Z"
   },
   {
    "duration": 48,
    "start_time": "2025-05-27T22:57:55.576Z"
   },
   {
    "duration": 17,
    "start_time": "2025-05-27T22:57:55.625Z"
   },
   {
    "duration": 3,
    "start_time": "2025-05-27T22:57:55.644Z"
   },
   {
    "duration": 46204,
    "start_time": "2025-05-27T22:57:55.648Z"
   },
   {
    "duration": 45907,
    "start_time": "2025-05-27T22:58:41.854Z"
   },
   {
    "duration": 44072,
    "start_time": "2025-05-27T22:59:27.763Z"
   },
   {
    "duration": 45961,
    "start_time": "2025-05-27T23:00:11.836Z"
   },
   {
    "duration": 44,
    "start_time": "2025-05-27T23:00:57.799Z"
   },
   {
    "duration": 16,
    "start_time": "2025-05-27T23:00:57.860Z"
   },
   {
    "duration": 67,
    "start_time": "2025-05-27T23:00:57.877Z"
   },
   {
    "duration": 6,
    "start_time": "2025-05-27T23:00:57.946Z"
   },
   {
    "duration": 1268,
    "start_time": "2025-05-27T23:00:57.954Z"
   },
   {
    "duration": 72,
    "start_time": "2025-05-27T23:00:59.223Z"
   },
   {
    "duration": 27,
    "start_time": "2025-05-27T23:00:59.296Z"
   },
   {
    "duration": 5,
    "start_time": "2025-05-27T23:00:59.328Z"
   },
   {
    "duration": 35,
    "start_time": "2025-05-27T23:00:59.335Z"
   },
   {
    "duration": 29,
    "start_time": "2025-05-27T23:00:59.371Z"
   },
   {
    "duration": 228,
    "start_time": "2025-05-27T23:00:59.401Z"
   },
   {
    "duration": 43,
    "start_time": "2025-05-27T23:00:59.630Z"
   },
   {
    "duration": 26,
    "start_time": "2025-05-27T23:00:59.675Z"
   },
   {
    "duration": 7,
    "start_time": "2025-05-27T23:00:59.703Z"
   },
   {
    "duration": 939,
    "start_time": "2025-05-27T23:00:59.711Z"
   },
   {
    "duration": 26,
    "start_time": "2025-05-27T23:01:00.652Z"
   },
   {
    "duration": 118,
    "start_time": "2025-05-27T23:01:00.680Z"
   },
   {
    "duration": 148,
    "start_time": "2025-05-27T23:01:00.799Z"
   },
   {
    "duration": 54,
    "start_time": "2025-05-27T23:01:00.948Z"
   },
   {
    "duration": 28,
    "start_time": "2025-05-27T23:01:01.004Z"
   },
   {
    "duration": 809,
    "start_time": "2025-05-27T23:01:01.034Z"
   },
   {
    "duration": 53,
    "start_time": "2025-05-27T23:01:01.845Z"
   },
   {
    "duration": 11,
    "start_time": "2025-05-27T23:01:01.900Z"
   },
   {
    "duration": 21,
    "start_time": "2025-05-27T23:01:01.913Z"
   },
   {
    "duration": 19,
    "start_time": "2025-05-27T23:01:01.936Z"
   },
   {
    "duration": 15,
    "start_time": "2025-05-27T23:01:01.957Z"
   },
   {
    "duration": 11,
    "start_time": "2025-05-27T23:01:01.973Z"
   },
   {
    "duration": 170,
    "start_time": "2025-05-27T23:01:01.986Z"
   }
  ],
  "kernelspec": {
   "display_name": "Python 3 (ipykernel)",
   "language": "python",
   "name": "python3"
  },
  "language_info": {
   "codemirror_mode": {
    "name": "ipython",
    "version": 3
   },
   "file_extension": ".py",
   "mimetype": "text/x-python",
   "name": "python",
   "nbconvert_exporter": "python",
   "pygments_lexer": "ipython3",
   "version": "3.11.7"
  },
  "toc": {
   "base_numbering": 1,
   "nav_menu": {},
   "number_sections": true,
   "sideBar": true,
   "skip_h1_title": true,
   "title_cell": "Table of Contents",
   "title_sidebar": "Contents",
   "toc_cell": false,
   "toc_position": {
    "height": "calc(100% - 180px)",
    "left": "10px",
    "top": "150px",
    "width": "384px"
   },
   "toc_section_display": true,
   "toc_window_display": true
  }
 },
 "nbformat": 4,
 "nbformat_minor": 4
}
